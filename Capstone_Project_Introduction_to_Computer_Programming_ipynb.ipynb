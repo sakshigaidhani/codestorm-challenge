{
  "nbformat": 4,
  "nbformat_minor": 0,
  "metadata": {
    "colab": {
      "provenance": [],
      "include_colab_link": true
    },
    "kernelspec": {
      "name": "python3",
      "display_name": "Python 3"
    },
    "language_info": {
      "name": "python"
    }
  },
  "cells": [
    {
      "cell_type": "markdown",
      "metadata": {
        "id": "view-in-github",
        "colab_type": "text"
      },
      "source": [
        "<a href=\"https://colab.research.google.com/github/sakshigaidhani/codestorm-challenge/blob/main/Capstone_Project_Introduction_to_Computer_Programming_ipynb.ipynb\" target=\"_parent\"><img src=\"https://colab.research.google.com/assets/colab-badge.svg\" alt=\"Open In Colab\"/></a>"
      ]
    },
    {
      "cell_type": "markdown",
      "source": [
        "# **Guidelines**\n"
      ],
      "metadata": {
        "id": "HlOAX_1v1ko1"
      }
    },
    {
      "cell_type": "markdown",
      "source": [
        "\n",
        "**1. About the Project:**\n",
        "\n",
        "The Introduction to Computer Programming project is designed to evaluate your understanding and practical application of fundamental programming concepts using Python. This assessment encompasses various topics, including data types, indexing, slicing, operators, in-built functions, statements, conditionals, loops, object-oriented programming, and exception handling. In addition, you will showcase your ability to create custom functions and tackle advanced looping concepts.\n",
        "\n",
        "**2. Skills Required:**\n",
        "\n",
        "  To successfully complete this project assessment, you should possess the following skills and knowledge:\n",
        "- Proficiency in Python programming language\n",
        "- Understanding of data types, indexing, and slicing in Python\n",
        "- Familiarity with operators, in-built functions, and methods\n",
        "- Ability to work with statements, indentation, and conditionals\n",
        "- Competence in implementing loops and iterations, including conditional and infinite looping\n",
        "- Mastery of creating and utilizing custom functions in Python\n",
        "- Knowledge of advanced looping concepts\n",
        "- Understanding of object-oriented programming (OOPs) principles in Python\n",
        "- Ability to handle exceptions in your code\n",
        "\n",
        "**3. Deliverables:**\n",
        "\n",
        "You are required to submit the following items for evaluation:\n",
        "- Completed Python coding solutions for the given questions (coding assessment)\n",
        "- Collab link containing your Python code for each question\n",
        "- Video explanation for any five coding questions (demonstrating your understanding and approach)\n",
        "\n",
        "**4. Rubrics:**\n",
        "\n",
        "Your project assessment will be evaluated based on the following rubrics:\n",
        "\n",
        "**a. Coding Assessment:**\n",
        "\n",
        "- Correctness of the code solution\n",
        "- Efficient use of coding constructs\n",
        "- Clear and well-structured code organization\n",
        "\n",
        "**b. Collab Link:**\n",
        "\n",
        "- Submission of Python code through the provided Collab link\n",
        "- Proper organization of code files and resources\n",
        "\n",
        "**c. Video Explanation:**\n",
        "\n",
        "- Clear articulation of solution approach\n",
        "- Coverage of important concepts and logic\n",
        "- Coherent and well-structured explanation\n",
        "\n",
        "Please use these pointers as the basis for evaluating each section of the project assessment."
      ],
      "metadata": {
        "id": "rATVcbDa2pY_"
      }
    },
    {
      "cell_type": "markdown",
      "source": [
        "# **CodeStorm Challenge: Solving and Explaining Complex Coding Problems**\n",
        "\n"
      ],
      "metadata": {
        "id": "KLPQdGNGvXFL"
      }
    },
    {
      "cell_type": "markdown",
      "source": [
        "**Problem Statement:**\n",
        "\n",
        "The CodeStorm Challenge is an intense coding competition designed to test participants' programming skills, problem-solving abilities, and communication prowess. In this challenge, participants will be required to solve a total of 30 intricate coding questions that cover a wide range of algorithms, data structures, and programming paradigms. Additionally, participants are tasked with creating an explanatory video that delves into the solutions of any five chosen questions.\n",
        "\n",
        "The challenge aims to evaluate participants on their coding efficiency, algorithmic thinking, and presentation skills. Participants will need to not only implement correct and optimized solutions to the coding problems but also effectively communicate their thought processes and strategies in the form of a video presentation.\n",
        "\n",
        "**Key Objectives:**\n",
        "\n",
        "* Coding Proficiency: Participants must demonstrate their ability to write clean, efficient, and bug-free code to solve complex programming challenges within a time-constrained environment.\n",
        "\n",
        "* Problem Solving: The challenge will encompass a variety of problem domains, including dynamic programming, graph algorithms, string manipulation, and more. Participants should showcase their prowess in breaking down problems, designing algorithms, and translating solutions into code.\n",
        "\n",
        "* Communication Skills: In addition to coding skills, participants need to exhibit strong communication skills by creating a comprehensive video explaining the thought process, approach, and solution to five selected problems. Clarity, conciseness, and coherence in the video are essential.\n",
        "\n",
        "* Time Management: Participants will need to efficiently manage their time throughout the challenge, allocating sufficient time to solve each question and ensuring they have ample time to create high-quality explanatory videos.\n",
        "\n",
        "* Adaptability: As the challenge encompasses a diverse set of coding problems, participants must be adaptable in applying different algorithms and techniques to solve problems that may vary in difficulty and complexity.\n",
        "\n",
        "**Note:**\n",
        "\n",
        "1. Solve 30 coding problems out of the different problem statements given here.\n",
        "2. Create a video explaining any 5 questions and include the video link before submitting."
      ],
      "metadata": {
        "id": "OBDIMXqy26TD"
      }
    },
    {
      "cell_type": "markdown",
      "source": [
        "# **Introduction to Python Programming**"
      ],
      "metadata": {
        "id": "XIj_QdatBQTt"
      }
    },
    {
      "cell_type": "markdown",
      "source": [
        "## Score Board Operator\n",
        "An operator working behind the scoreboard of a inter cohort AlmaBetter cricket tournament, is responsible for updating the scores and points of each team. However, the operator is currently facing a challenge. He has been tasked with updating the total number of points gained by Team London, but he does not possess the necessary programming skills to complete this task.\n",
        "According to the tournament's rules, teams are awarded the following points based on the outcome of a match:\n",
        "\n",
        "* wins: 3 points\n",
        "* draws: 1 point\n",
        "* losses: 0 points\n",
        "\n",
        "\n",
        "\n",
        "\n",
        "Team London has played **8 matches** in this tournament. They won **4 matches**, lost **3 matches** and **drew 1**.\n",
        "The operator is in need of assistance to calculate the total number of points earned by Team London. As a python expert adept with knowledge of integer, floats and boolean, you can help the operator by writing a solution for the following problem.\n",
        "\n",
        "What would your approach be?"
      ],
      "metadata": {
        "id": "dCSH8MhBRTW7"
      }
    },
    {
      "cell_type": "code",
      "source": [
        "# Define the points for different outcomes\n",
        "points_for_win = 3\n",
        "points_for_draw = 1\n",
        "points_for_loss = 0\n",
        "\n",
        "# Count the number of wins, draws, and losses\n",
        "wins = 4\n",
        "draws = 1\n",
        "losses = 3\n",
        "\n",
        "# Calculate the total points\n",
        "total_points = (wins * points_for_win) + (draws * points_for_draw) + (losses * points_for_loss)\n",
        "\n",
        "# Print the total points earned by Team London\n",
        "print(\"Total points earned by Team London:\", total_points)"
      ],
      "metadata": {
        "id": "dmX4SiGBigC6",
        "colab": {
          "base_uri": "https://localhost:8080/"
        },
        "outputId": "fc8bbd98-eee4-4f16-cba7-60a49b4d2530"
      },
      "execution_count": 1,
      "outputs": [
        {
          "output_type": "stream",
          "name": "stdout",
          "text": [
            "Total points earned by Team London: 13\n"
          ]
        }
      ]
    },
    {
      "cell_type": "markdown",
      "source": [
        "## Space and Time Complexity\n",
        " Time complexity of O(1) and a space complexity of O(1) because it performs a fixed number of operations and uses a fixed amount of memory regardless of the input values."
      ],
      "metadata": {
        "id": "sqlBInwKddaC"
      }
    },
    {
      "cell_type": "markdown",
      "source": [
        "## Nutrition bar ingredient chart\n",
        "\n",
        "Imagine you are a data analyst at a nutrition bar manufacturing company. Your department head approaches you with a question. The company produces a nutrition bar that contains **45g of raisins, 65g of almonds, and 30g of apricots**. The head of the manufacturing department wants you to create an ingredient percentage list for the nutrition bar using python.\n",
        "\n",
        "Equipped with the knowledge of int, float and booleans in python, how would you approach this situation?"
      ],
      "metadata": {
        "id": "qEICqapxUkVB"
      }
    },
    {
      "cell_type": "code",
      "source": [
        "# Define the weights of each ingredient in grams\n",
        "weight_raisins = 45\n",
        "weight_almonds = 65\n",
        "weight_apricots = 30\n",
        "\n",
        "# Calculate the total weight of all ingredients\n",
        "total_weight = weight_raisins + weight_almonds + weight_apricots\n",
        "\n",
        "# Calculate the percentage of each ingredient\n",
        "percentage_raisins = (weight_raisins / total_weight) * 100\n",
        "percentage_almonds = (weight_almonds / total_weight) * 100\n",
        "percentage_apricots = (weight_apricots / total_weight) * 100\n",
        "\n",
        "# Print the ingredient percentages\n",
        "print(\"Ingredient Percentage List:\")\n",
        "print(\"Raisins:\", round(percentage_raisins,2),\"%\")\n",
        "print(\"Almonds:\", round(percentage_almonds,2), \"%\")\n",
        "print(\"Apricots:\", round(percentage_apricots,2), \"%\")"
      ],
      "metadata": {
        "id": "r-3d1ui9iyFq",
        "colab": {
          "base_uri": "https://localhost:8080/"
        },
        "outputId": "d5979e5f-4367-46ce-f9e0-b207284c2427"
      },
      "execution_count": null,
      "outputs": [
        {
          "output_type": "stream",
          "name": "stdout",
          "text": [
            "Ingredient Percentage List:\n",
            "Raisins: 32.14 %\n",
            "Almonds: 46.43 %\n",
            "Apricots: 21.43 %\n"
          ]
        }
      ]
    },
    {
      "cell_type": "markdown",
      "source": [
        "## Space and Time Complexity\n",
        "A time complexity of O(1) and a space complexity of O(1) because it performs a fixed number of operations and uses a fixed amount of memory regardless of the input values."
      ],
      "metadata": {
        "id": "_OVtyKo3dwzh"
      }
    },
    {
      "cell_type": "markdown",
      "source": [
        "## Measuring the Accuracy of a Disease Detection Model- Optional\n",
        "\n",
        "If you're not impressed with these usecases yet, understand that you're just getting started with python. Going forward as a data scientist, you'll be using what you've learned to design machine learning models that just might even save lives!!\n",
        "\n",
        "Let's say you have created a machine learning model to detect diseases in patients based on their symptoms and medical history. The model has been tested on a dataset of **100 patients**, including **30 with diabetes**, **45 with heart disease**, and **25 with cancer**.\n",
        "The model's performance was evaluated in three rounds.\n",
        "In the first round, the model correctly **detected diabetes in 25 out of the 30 patients** with the disease.\n",
        "In the second round, the model correctly detected **heart disease in 35 out of the 45 patients** with the disease.\n",
        "In the final round, the model correctly **detected cancer in 20 out of the 25 patients** with the disease.\n",
        "\n",
        "The model's accuracy is defined as the percentage of correctly detected cases out of the total number of patient\n",
        "\n",
        "Assess how accurate your model is across these 3 diseases.\n"
      ],
      "metadata": {
        "id": "9Y3kSoUHVOGj"
      }
    },
    {
      "cell_type": "code",
      "source": [
        "# Define the number of patients with each disease\n",
        "patients_diabetes = 30\n",
        "patients_heart_disease = 45\n",
        "patients_cancer = 25\n",
        "\n",
        "# Define the number of correctly detected cases for each disease\n",
        "correctly_detected_diabetes = 25\n",
        "correctly_detected_heart_disease = 35\n",
        "correctly_detected_cancer = 20\n",
        "\n",
        "# Calculate the accuracy for each disease\n",
        "accuracy_diabetes = (correctly_detected_diabetes / patients_diabetes) * 100\n",
        "accuracy_heart_disease = (correctly_detected_heart_disease / patients_heart_disease) * 100\n",
        "accuracy_cancer = (correctly_detected_cancer / patients_cancer) * 100"
      ],
      "metadata": {
        "id": "MWgzkJKijEJC"
      },
      "execution_count": 2,
      "outputs": []
    },
    {
      "cell_type": "markdown",
      "metadata": {
        "id": "Eg_Or6GmDemI"
      },
      "source": [
        "#### Calculate your accuracy in each of the three cases"
      ]
    },
    {
      "cell_type": "code",
      "source": [
        "# Print the accuracy for each disease\n",
        "print(\"Accuracy for Diabetes:\", round(accuracy_diabetes,2), \"%\")\n",
        "print(\"Accuracy for Heart Disease:\", round(accuracy_heart_disease,2), \"%\")\n",
        "print(\"Accuracy for Cancer:\", round(accuracy_cancer,2), \"%\")"
      ],
      "metadata": {
        "colab": {
          "base_uri": "https://localhost:8080/"
        },
        "id": "DDuE8jRIjLEa",
        "outputId": "3b70999b-eb3f-4dc0-8f81-c4c3af7520a2"
      },
      "execution_count": null,
      "outputs": [
        {
          "output_type": "stream",
          "name": "stdout",
          "text": [
            "Accuracy for Diabetes: 83.33 %\n",
            "Accuracy for Heart Disease: 77.78 %\n",
            "Accuracy for Cancer: 80.0 %\n"
          ]
        }
      ]
    },
    {
      "cell_type": "code",
      "metadata": {
        "id": "eP3JkusLDemT",
        "colab": {
          "base_uri": "https://localhost:8080/"
        },
        "outputId": "5e9263f3-011b-47d2-c2ee-4dd8685ae430"
      },
      "source": [
        "# Print the overall accuracy of your model\n",
        "overall_accuracy = round((accuracy_diabetes+accuracy_heart_disease+accuracy_cancer)/3,2)\n",
        "print(\"Overall Accuracy for three cases:\", overall_accuracy, \"%\")"
      ],
      "execution_count": null,
      "outputs": [
        {
          "output_type": "stream",
          "name": "stdout",
          "text": [
            "Overall Accuracy for three cases: 80.37 %\n"
          ]
        }
      ]
    },
    {
      "cell_type": "markdown",
      "source": [
        "##Space and Time Complexity\n",
        "Time complexity of O(1) and a space complexity of O(1) because it performs a fixed number of operations and uses a fixed amount of memory regardless of the input values."
      ],
      "metadata": {
        "id": "hzA3j0wpeyDT"
      }
    },
    {
      "cell_type": "markdown",
      "source": [
        "# **Data Types in Python**"
      ],
      "metadata": {
        "id": "AzbS5w7QB28m"
      }
    },
    {
      "cell_type": "markdown",
      "source": [
        "## Solving Algebra the Cool Way 😎"
      ],
      "metadata": {
        "id": "yKTqVryFxgP1"
      }
    },
    {
      "cell_type": "markdown",
      "source": [
        "You must remember the algebraic equations and functions you came across during your school days. If you do, you also must remember how tedious it was to do solve them manually. 😫\n",
        "Consider a quadratic function:\n",
        "\n",
        "***f(x)=x^2+3x-4***\n",
        "\n",
        "Find the value of f(x) at x =3 , x=-2, and x=4\n",
        "\n",
        "Doing this manually like the old days would be a tedious job 😞. But now you have python at your disposal 🙂 !\n",
        "How would you approach this problem using what you have learned?\n"
      ],
      "metadata": {
        "id": "_qhDAZQsSvPv"
      }
    },
    {
      "cell_type": "code",
      "metadata": {
        "id": "4_HZwes5Delh"
      },
      "source": [
        "# Calculate the value of the function f(x) at x = 3\n",
        "func_evaluated_at_3 = 3**2 + 3*3 - 4"
      ],
      "execution_count": 3,
      "outputs": []
    },
    {
      "cell_type": "code",
      "metadata": {
        "id": "uD4MAyKIDelo"
      },
      "source": [
        "# Calculate the value of the function f(x) at x = -2\n",
        "func_evaluated_at_minus2 = (-2)**2 + 3*(-2) - 4"
      ],
      "execution_count": 4,
      "outputs": []
    },
    {
      "cell_type": "code",
      "metadata": {
        "id": "h8PgF85VDelu"
      },
      "source": [
        "# Calculate the value of the function f(x) at x = 4\n",
        "func_evaluated_at_4 = 4**2 + 3*4 - 4"
      ],
      "execution_count": null,
      "outputs": []
    },
    {
      "cell_type": "code",
      "source": [
        "#Check if func_evaluated_at_3 >= func_evaluated_at_minus2\n",
        "print(func_evaluated_at_3 >= func_evaluated_at_minus2)"
      ],
      "metadata": {
        "id": "ESCji5FY9x61",
        "colab": {
          "base_uri": "https://localhost:8080/"
        },
        "outputId": "2272ad22-7af4-4d18-bb7f-7c0fe11e5a38"
      },
      "execution_count": null,
      "outputs": [
        {
          "output_type": "stream",
          "name": "stdout",
          "text": [
            "True\n"
          ]
        }
      ]
    },
    {
      "cell_type": "code",
      "source": [
        "#Check if value of f(x) at 3,-2 or 4 is equal to 0 or not\n",
        "print(\"The value of f(x) at 3 :\",func_evaluated_at_3)\n",
        "print(\"The value of f(x) at -2 :\",func_evaluated_at_minus2)\n",
        "print(\"The value of f(x) at 4 :\",func_evaluated_at_4)"
      ],
      "metadata": {
        "id": "bZuIzWse94rT",
        "colab": {
          "base_uri": "https://localhost:8080/"
        },
        "outputId": "78a77880-45f4-4a79-fa3c-5b41efb3d752"
      },
      "execution_count": null,
      "outputs": [
        {
          "output_type": "stream",
          "name": "stdout",
          "text": [
            "The value of f(x) at 3 : 14\n",
            "The value of f(x) at -2 : -6\n",
            "The value of f(x) at 4 : 24\n"
          ]
        }
      ]
    },
    {
      "cell_type": "markdown",
      "source": [
        "##Space and Time Complexity\n",
        "Time complexity of O(1) and a space complexity of O(1)"
      ],
      "metadata": {
        "id": "DNKf9a9OfEzm"
      }
    },
    {
      "cell_type": "markdown",
      "source": [
        "## Finding total A's in the Bookshelves\n",
        "\n",
        "In your pursuit of expanding your knowledge of Python, you come across a bookstore in search of books on the subject.\n",
        "\n",
        "There, you meet a salesperson who is also a Python enthusiast!!\n",
        "\n",
        "The salesperson presents you with a challenge - they have a list of five books related to Python and if you can write a program that finds the count of letter 'e', the store will give you a free book of your choice. 😀\n",
        "\n",
        "Are you ready to accept the challenge? 💪"
      ],
      "metadata": {
        "id": "kyKx-MLZHsoh"
      }
    },
    {
      "cell_type": "code",
      "source": [
        "# Here's the list of books\n",
        "books = \"Python for Everyone, Learn Python the Hard Way, Python Crash Course , Starting Out with Python, Automate the Boring Stuff with Python\"\n"
      ],
      "metadata": {
        "id": "iImDmkOZXRRP"
      },
      "execution_count": null,
      "outputs": []
    },
    {
      "cell_type": "code",
      "source": [
        "# Store the count of books containing A/a in the title. Note this will be a case insensitive search\n",
        "a_counts = sum(1 for char in books if char=='a')\n",
        "\n",
        "A_counts= sum(1 for char in books if char=='A')\n",
        "\n",
        "total_a_counts= a_counts + A_counts"
      ],
      "metadata": {
        "id": "-3HeaI3YXWQ1"
      },
      "execution_count": null,
      "outputs": []
    },
    {
      "cell_type": "code",
      "source": [
        "# Print the value\n",
        "print(f\"The total number of 'a's in the list of books is {total_a_counts}\")"
      ],
      "metadata": {
        "id": "KXUYgyjBXaCH",
        "colab": {
          "base_uri": "https://localhost:8080/"
        },
        "outputId": "969245e6-b6b5-477c-af41-f276d4e0d454"
      },
      "execution_count": null,
      "outputs": [
        {
          "output_type": "stream",
          "name": "stdout",
          "text": [
            "The total number of 'a's in the list of books is 7\n"
          ]
        }
      ]
    },
    {
      "cell_type": "markdown",
      "source": [
        "##Space and Time Complexity\n",
        "Time complexity of O(n) and a space complexity of O(1), where 'n' is the length of the books string."
      ],
      "metadata": {
        "id": "UtK_qYUEfYuj"
      }
    },
    {
      "cell_type": "markdown",
      "source": [
        "## Unleashing the Power of Mean in Exam Analysis"
      ],
      "metadata": {
        "id": "BUzHV9sfvemq"
      }
    },
    {
      "cell_type": "markdown",
      "source": [
        "When analyzing exam scores, teachers have the power to unlock valuable insights into their students' performance. By using the mean and median, they can get a clear picture of how the class is doing as a whole and identify areas where improvement is needed.\n",
        "\n",
        "The mean score is like a report card for the entire class, showing the average of all exam scores. It gives a good general idea of how the class is doing but can be influenced by a few students with extremely high or low scores.\n",
        "\n",
        "By analysing the mean, teachers can get a complete picture of the class performance and make informed decisions to improve the learning experience for their students. So go ahead and use these powerful tools to take your students' exam scores to the next level! 💪"
      ],
      "metadata": {
        "id": "JQOrvXKEwJgy"
      }
    },
    {
      "cell_type": "code",
      "source": [
        "# List of student marks\n",
        "marks = [67,87,75,46,89,97,68,98,87,88]"
      ],
      "metadata": {
        "id": "qTEXZHBxwVP1"
      },
      "execution_count": null,
      "outputs": []
    },
    {
      "cell_type": "code",
      "source": [
        "# Calculate the mean of the marks. Use sum() and len() functions\n",
        "mean_marks = sum(marks)/len(marks)"
      ],
      "metadata": {
        "id": "9BpBKVXFw4Mg"
      },
      "execution_count": null,
      "outputs": []
    },
    {
      "cell_type": "code",
      "source": [
        "print(mean_marks)"
      ],
      "metadata": {
        "id": "XQ1cL8mCpfeS",
        "colab": {
          "base_uri": "https://localhost:8080/"
        },
        "outputId": "77f6de5f-786a-4b3c-b95c-c54b90396e76"
      },
      "execution_count": null,
      "outputs": [
        {
          "output_type": "stream",
          "name": "stdout",
          "text": [
            "80.2\n"
          ]
        }
      ]
    },
    {
      "cell_type": "markdown",
      "source": [
        "##Space and Time Complexity\n",
        "The code has a time complexity of O(n) and a space complexity of O(1), where 'n' is the number of elements in the marks list"
      ],
      "metadata": {
        "id": "kOe2XzOkfoOd"
      }
    },
    {
      "cell_type": "markdown",
      "source": [
        "\n",
        "## John's Fruit Stand Sales Mix-up\n",
        "\n",
        "You must remember from the previous lessons that dictionaries can be used to store values corresponding to a particular key. But how is this helpful to us?\n",
        "\n",
        "Let's look at this scenario:\n",
        "\n",
        "Jim owns a quaint little fruit stand that sells mangoes, bananas, apples, and pineapples. One day, with Jim being tied up, he tasked his son John to manage the shop for a day. Being new to the game, John recorded the sales data in an unconventional way. He wrote down the name of each fruit as many times as it was sold, creating a list like this:\n",
        "\n",
        "**['Mango','Mango','Mango','Pineapple','Pineapple','Pineapple','Apple','Mango','Banana','Apple','Banana','Apple','Pineapple','Apple','Apple','Pineapple','Pineapple']**\n",
        "🤦\n",
        "\n",
        "But, this method is not very efficient or easy to read.\n",
        "\n",
        "Forunately you were there at the shop to grab some apples yourselves, and you saw what John was doing.\n",
        "\n",
        "You can help him out to structure the data by using dictionaries. How?\n",
        "\n"
      ],
      "metadata": {
        "id": "iOZMEc3KtdsM"
      }
    },
    {
      "cell_type": "code",
      "execution_count": 6,
      "metadata": {
        "id": "lqRlffflqcUg"
      },
      "outputs": [],
      "source": [
        "#Here's John's list:\n",
        "fruit_list=['Mango','Mango','Mango','Pineapple','Pineapple','Pineapple','Apple','Mango','Banana','Apple','Banana','Apple','Pineapple','Apple','Apple','Pineapple','Pineapple']"
      ]
    },
    {
      "cell_type": "code",
      "source": [
        "# Step 2: Create an empty dictionary which will contain the unique fruit names\n",
        "fruit_dict={}\n",
        "\n",
        "# Set the values for each key separately\n",
        "\n",
        "# First Key\n",
        "fruit_dict['Mango']= fruit_list.count('Mango')\n",
        "\n",
        "# Second Key\n",
        "fruit_dict['Pineapple']= fruit_list.count('Pineapple')\n",
        "\n",
        "# Third Key\n",
        "fruit_dict['Apple']= fruit_list.count('Apple')\n",
        "\n",
        "# Fourth Key\n",
        "fruit_dict['Banana']= fruit_list.count('Banana')"
      ],
      "metadata": {
        "id": "zP1dXujAD_GA"
      },
      "execution_count": 7,
      "outputs": []
    },
    {
      "cell_type": "code",
      "source": [
        "print(fruit_dict)"
      ],
      "metadata": {
        "id": "oy02z7prygYo",
        "colab": {
          "base_uri": "https://localhost:8080/"
        },
        "outputId": "816b1a85-4e50-4c41-e5f0-97bbb9660af2"
      },
      "execution_count": null,
      "outputs": [
        {
          "output_type": "stream",
          "name": "stdout",
          "text": [
            "{'Mango': 4, 'Pineapple': 6, 'Apple': 5, 'Banana': 2}\n"
          ]
        }
      ]
    },
    {
      "cell_type": "markdown",
      "source": [
        "## Space and time complexity\n",
        "The code has a time complexity of O(n) and a space complexity of O(1) or O(k), where 'n' is the number of elements in the fruit_list and 'k' is the number of unique fruit names."
      ],
      "metadata": {
        "id": "dNuO6Y98ggrY"
      }
    },
    {
      "cell_type": "markdown",
      "source": [
        "# **Indexing & Slicing**"
      ],
      "metadata": {
        "id": "hw_eQmfUo8Ma"
      }
    },
    {
      "cell_type": "markdown",
      "source": [
        "## Imagine that you are a superhero movie buff and you're trying to create a list of the most iconic Marvel characters. You have compiled a list of some of the most popular characters, but you want to narrow it down to the top 6.\n",
        "\n",
        "Here's your list of characters:\n",
        "\n",
        "marvel_words = ['Avengers', 'X-Men', 'Spider-Man', 'Iron Man', 'Hulk', 'Thor', 'Black Widow', 'Captain America', 'Wolverine', 'Doctor Strange', 'Namor']\n"
      ],
      "metadata": {
        "id": "4xWhhMD7lFiO"
      }
    },
    {
      "cell_type": "code",
      "source": [
        "# Here's your list of characters:\n",
        "\n",
        "marvel_words = ['Avengers', 'X-Men', 'Spider-Man', 'Iron Man', 'Hulk', 'Thor', 'Black Widow', 'Captain America', 'Wolverine', 'Doctor Strange', 'Namor']"
      ],
      "metadata": {
        "id": "wecbawDhmHhv"
      },
      "execution_count": null,
      "outputs": []
    },
    {
      "cell_type": "markdown",
      "source": [
        "You want to narrow down the list to the last 6 characters in the list. These characters are:\n",
        "\n",
        "* Namor\n",
        "* Doctor Strange\n",
        "* Wolverine\n",
        "* Captain America\n",
        "* Black Widow\n",
        "* Thor\n",
        "\n",
        "\n",
        "\n"
      ],
      "metadata": {
        "id": "LCQe44-gwnxB"
      }
    },
    {
      "cell_type": "markdown",
      "source": [
        "Write a code to slice these characters from the list"
      ],
      "metadata": {
        "id": "ixSrQmeVwwYD"
      }
    },
    {
      "cell_type": "code",
      "source": [
        "# Replace x with appropriate values\n",
        "new_marvel=marvel_words[5:]\n",
        "print(new_marvel)"
      ],
      "metadata": {
        "id": "GF31Mwo2wmM7",
        "colab": {
          "base_uri": "https://localhost:8080/"
        },
        "outputId": "5523c978-cfd5-41a3-e7c1-35c27eec8e9f"
      },
      "execution_count": null,
      "outputs": [
        {
          "output_type": "stream",
          "name": "stdout",
          "text": [
            "['Thor', 'Black Widow', 'Captain America', 'Wolverine', 'Doctor Strange', 'Namor']\n"
          ]
        }
      ]
    },
    {
      "cell_type": "markdown",
      "source": [
        "## Create two teams of superheroes based on their index position: one team should consist of all the characters located at even index positions, while the other team should consist of all the characters located at odd index positions."
      ],
      "metadata": {
        "id": "ExOuQaMiYSs7"
      }
    },
    {
      "cell_type": "code",
      "source": [
        "team1=marvel_words[0::2]\n",
        "team2=marvel_words[1::2]\n",
        "print(\"Team 1 :\",team1)\n",
        "print(\"Team 2 :\",team2)"
      ],
      "metadata": {
        "id": "FfV-JzekZBKd",
        "colab": {
          "base_uri": "https://localhost:8080/"
        },
        "outputId": "6b38169f-a9d3-4424-bea4-f5751817433c"
      },
      "execution_count": null,
      "outputs": [
        {
          "output_type": "stream",
          "name": "stdout",
          "text": [
            "Team 1 : ['Avengers', 'Spider-Man', 'Hulk', 'Black Widow', 'Wolverine', 'Namor']\n",
            "Team 2 : ['X-Men', 'Iron Man', 'Thor', 'Captain America', 'Doctor Strange']\n"
          ]
        }
      ]
    },
    {
      "cell_type": "markdown",
      "source": [
        "###3. Store the word 'Spider-Man' in a new variable, and slice the word 'Spider' from it."
      ],
      "metadata": {
        "id": "-mQM5JHjm_pS"
      }
    },
    {
      "cell_type": "code",
      "source": [
        "spider_man=marvel_words[2]\n",
        "spidey_sliced=spider_man[7:]\n",
        "print(spidey_sliced)"
      ],
      "metadata": {
        "id": "3umcx5a5m3Fn",
        "colab": {
          "base_uri": "https://localhost:8080/"
        },
        "outputId": "de4232e4-9f90-4b5b-d3d8-52746377026b"
      },
      "execution_count": null,
      "outputs": [
        {
          "output_type": "stream",
          "name": "stdout",
          "text": [
            "Man\n"
          ]
        }
      ]
    },
    {
      "cell_type": "markdown",
      "source": [
        "###4. Store the word 'Iron-Man' in a variable and use reverse indexing to reverse it."
      ],
      "metadata": {
        "id": "K_QHunxknscj"
      }
    },
    {
      "cell_type": "code",
      "source": [
        "#Your code here\n",
        "iron_man=marvel_words[3]\n",
        "reversed_man=iron_man[::-1]\n",
        "print(reversed_man)"
      ],
      "metadata": {
        "id": "LK5c5ELwqpvW",
        "colab": {
          "base_uri": "https://localhost:8080/"
        },
        "outputId": "777c53d2-7882-43dc-f0bc-9a7be9db1bc3"
      },
      "execution_count": null,
      "outputs": [
        {
          "output_type": "stream",
          "name": "stdout",
          "text": [
            "naM norI\n"
          ]
        }
      ]
    },
    {
      "cell_type": "markdown",
      "source": [
        "##Time and Space Complexity\n",
        "Let's analyze the time and space complexity of each part of the provided code:\n",
        "\n",
        "new_marvel = marvel_words[5:] : Both the time and space complexity of this operation are O(n), where 'n' is the length of the original marvel_words list.\n",
        "\n",
        "team1 = marvel_words[0::2] and team2 = marvel_words[1::2] :The time complexity of both operations is O(n), and the space complexity is also O(n) because the slices create new lists with approximately half the size of the original list.\n",
        "\n",
        "spider_man = marvel_words[2] and spidey_sliced = spider_man[7:]: Both operations have a time complexity of O(1) because they involve accessing specific elements of the list and string slicing, which are constant time operations. The space complexity is also O(1) because only string references are created.\n",
        "\n",
        "iron_man = marvel_words[3] and reversed_man = iron_man[::-1]: Both operations have a time complexity of O(m), where 'm' is the length of the string (in this case, the length of the word \"Iron Man\"). The space complexity is O(m) because a new string of the same length is created to store the reversed word."
      ],
      "metadata": {
        "id": "TVqypCQ1uPZh"
      }
    },
    {
      "cell_type": "markdown",
      "source": [
        "# **Operators in Data Types**"
      ],
      "metadata": {
        "id": "AaQqED-gt1Ij"
      }
    },
    {
      "cell_type": "markdown",
      "source": [
        "\n",
        "## 🎉 Let's do some math!\n",
        "\n",
        "* 📐 First up, let's calculate the area of a square with sides that measure 5 cm. 🤔 How much space does this shape occupy?\n",
        "\n",
        "* 🔍 Next, let's find the volume of a cube with sides that measure 12 cm. 📏 How much room does this shape take up?\n",
        "\n",
        "* 🔢 Lastly, we'll find the quotient and remainder when we divide 10 by 4. 🧐 How many times does 4 fit into 10? What's left over?"
      ],
      "metadata": {
        "id": "HNOkGnOhYRdb"
      }
    },
    {
      "cell_type": "code",
      "source": [
        "# Area of the square\n",
        "side = 5\n",
        "ar_square=side**2\n",
        "print(\"Area of the square\",ar_square)\n",
        "\n",
        "# Volume of the cube\n",
        "edge = 3\n",
        "vol_cube=edge**3\n",
        "print(\"Volume of cube :\",vol_cube)\n",
        "\n",
        "# quotient and remainder\n",
        "numerator = 10\n",
        "denominator = 4\n",
        "\n",
        "quotient=numerator//denominator\n",
        "remainder=numerator % denominator\n",
        "\n",
        "print(\"Remainder :\",remainder)\n",
        "print(\"Quotient :\",quotient)"
      ],
      "metadata": {
        "id": "JIBfHim7IrBG",
        "colab": {
          "base_uri": "https://localhost:8080/"
        },
        "outputId": "6e861b92-5438-4986-da1c-210a8ac60f2c"
      },
      "execution_count": null,
      "outputs": [
        {
          "output_type": "stream",
          "name": "stdout",
          "text": [
            "Area of the square 25\n",
            "Volume of cube : 27\n",
            "Remainder : 2\n",
            "Quotient : 2\n"
          ]
        }
      ]
    },
    {
      "cell_type": "markdown",
      "source": [
        "##Time and Space Complexity\n",
        "\n",
        "\n",
        "1.   The time complexity of all operations is O(1) because they involve simple arithmetic calculations that do not depend on the size of any input.\n",
        "2.   The space complexity is also O(1) because a fixed number of variables are used, and their memory usage does not depend on the size of any input.\n",
        "\n",
        "\n"
      ],
      "metadata": {
        "id": "mwMV6eSwv-bU"
      }
    },
    {
      "cell_type": "markdown",
      "source": [
        "## 📚 Let's practice some comparison operators! Here's a problem for you to solve:\n",
        "\n",
        "🍎 The first basket contains 12 apples, and the second basket contains 8 apples. Use comparison operators to answer the following questions:\n",
        "\n",
        "* Is the number of apples in the first basket greater than the number of apples in the second basket?\n",
        "\n",
        "* Is the number of apples in the second basket less than or equal to the number of apples in the first basket?\n",
        "* Is the number of apples in the first basket equal to the number of apples in the second basket?\n",
        "* Is the number of apples in the second basket not equal to the number of apples in the first basket?\n",
        "\n",
        "Use comparison operators (i.e. >, >=, <, <=, ==, !=) in your code to answer each question. Good luck! 🍎🍏"
      ],
      "metadata": {
        "id": "nAX2nLAZWpKI"
      }
    },
    {
      "cell_type": "code",
      "source": [
        "# Your code here\n",
        "basket1=12\n",
        "basket2=8\n",
        "# number of apples in the first basket greater than the number of apples in the second basket?\n",
        "print('Apples in basket1 greater than basket2:',basket1 > basket2)\n",
        "\n",
        "# number of apples in the second basket less than or equal to the number of apples in the first basket?\n",
        "print('Apples in basket2 less than or equal to basket1:',basket1 >= basket2)\n",
        "\n",
        "# number of apples in the first basket equal to the number of apples in the second basket?\n",
        "print('Apples in basket1 equal to basket1:',basket1 == basket2)\n",
        "\n",
        "# number of apples in the second basket not equal to the number of apples in the first basket?\n",
        "print('Apples in basket1 not equal to basket1:',basket1 != basket2)"
      ],
      "metadata": {
        "id": "-TsVx5cdWpKI",
        "colab": {
          "base_uri": "https://localhost:8080/"
        },
        "outputId": "56c11024-256f-41a0-8c42-66b00ef0d065"
      },
      "execution_count": null,
      "outputs": [
        {
          "output_type": "stream",
          "name": "stdout",
          "text": [
            "Apples in basket1 greater than basket2: True\n",
            "Apples in basket2 less than or equal to basket1: True\n",
            "Apples in basket1 equal to basket1: False\n",
            "Apples in basket1 not equal to basket1: True\n"
          ]
        }
      ]
    },
    {
      "cell_type": "markdown",
      "source": [
        "##Space and Time Complexity\n",
        "They have both space and time complexity of O(1)"
      ],
      "metadata": {
        "id": "pGkEMmCTwmdh"
      }
    },
    {
      "cell_type": "markdown",
      "source": [
        "## 🌴 Are you ready for your trip to Goa? 🌊 You've got two bags with you, and you need to make sure they're light enough to board the flight. Let's use some logical operators to find out if you can make it on time!\n",
        "\n",
        "🧳 One of your bags weighs 15 kg, while the other one weighs only 5 kg. 💪 You know you can pack a lot more in the heavier bag, but you have to be careful not to go over the weight limit.\n",
        "\n",
        "👮‍♀️ The airline has a strict policy that both of your bags must weigh less than 13 kg each. Can you make it on the flight? Let's use logical operators to find out!"
      ],
      "metadata": {
        "id": "7_yNqud-j1TS"
      }
    },
    {
      "cell_type": "code",
      "source": [
        "# Define the weight of your bags\n",
        "bag1_weight = 15\n",
        "bag2_weight = 5\n",
        "\n",
        "\n",
        "# Check if both bags weigh less than 13 kg\n",
        "if bag1_weight < 13 and bag2_weight < 13:\n",
        "  print(\"Enjoy your trip!\")\n",
        "else:\n",
        "  print(\"Sorry, You can not go through!\")"
      ],
      "metadata": {
        "id": "3S-wDvHbZYvx",
        "colab": {
          "base_uri": "https://localhost:8080/"
        },
        "outputId": "73a3bbe3-a57c-45bd-b207-a693d9f6fbef"
      },
      "execution_count": null,
      "outputs": [
        {
          "output_type": "stream",
          "name": "stdout",
          "text": [
            "Sorry, You can not go through!\n"
          ]
        }
      ]
    },
    {
      "cell_type": "markdown",
      "source": [
        "🧳 Uh oh, it looks like we have a problem with our bags! But don't worry, the crew has offered a solution. 😊\n",
        "\n",
        "👨‍✈️ They've said that if at least one of our bags weighs less than 6 kg, we can still board the flight this time. 🛫\n",
        "\n",
        "🤔 Are we ready for the trip or not? Let's use some logical operators to find out!"
      ],
      "metadata": {
        "id": "bF2FQenhZZPq"
      }
    },
    {
      "cell_type": "code",
      "source": [
        "# Define the weight of your bags\n",
        "bag1_weight = 15\n",
        "bag2_weight = 5\n",
        "\n",
        "# Check if at least one bag weighs less than 6 kg\n",
        "if bag1_weight<6 or bag2_weight<6:\n",
        "  print(\"Enjoy your trip!\")\n",
        "else:\n",
        "  print(\"Sorry, You can not go through!\")"
      ],
      "metadata": {
        "id": "7ndd_Gw3bhIz",
        "colab": {
          "base_uri": "https://localhost:8080/"
        },
        "outputId": "61378783-3c68-4633-f926-fcdb86166110"
      },
      "execution_count": null,
      "outputs": [
        {
          "output_type": "stream",
          "name": "stdout",
          "text": [
            "Enjoy your trip!\n"
          ]
        }
      ]
    },
    {
      "cell_type": "markdown",
      "source": [
        "🤔 Did you notice how we made a decision on which print statement to use based on the result of our logical operators? 🤔\n",
        "\n",
        "🚀 Later on, we're going to learn how to do this in a single step, making it even easier for you. So stay curious 😎"
      ],
      "metadata": {
        "id": "vqQMQs4geeYm"
      }
    },
    {
      "cell_type": "markdown",
      "source": [
        "##Space and Time Complexity\n",
        "They have both space and time complexity of O(1)"
      ],
      "metadata": {
        "id": "61LKUUAbxUw8"
      }
    },
    {
      "cell_type": "markdown",
      "source": [
        "## 📚 Imagine that you're a book lover with a collection of lot of books. 🤓\n",
        "\n",
        "🔎 You need to find out how many of your books contain the word \"Python\" in them. 🐍"
      ],
      "metadata": {
        "id": "0yVUrg0NLnxz"
      }
    },
    {
      "cell_type": "code",
      "source": [
        "books = [\n",
        "    \"Python for Data Science Handbook by Jake VanderPlas\",\n",
        "    \"The Pragmatic Programmer by Andrew Hunt and David Thomas\",\n",
        "    \"Python Machine Learning by Sebastian Raschka\",\n",
        "    \"The Alchemist by Paulo Coelho\",\n",
        "]"
      ],
      "metadata": {
        "id": "HE7i9PDDjSLB"
      },
      "execution_count": null,
      "outputs": []
    },
    {
      "cell_type": "code",
      "source": [
        "count = 0\n",
        "for book in books:\n",
        "  if \"Python\" in book.split(\" \"):\n",
        "      count += 1"
      ],
      "metadata": {
        "id": "tsmvcBHgjfPa"
      },
      "execution_count": null,
      "outputs": []
    },
    {
      "cell_type": "code",
      "source": [
        "print(\"The number of books containing the word Python :\",count)"
      ],
      "metadata": {
        "id": "TBuLkYnNjsfS",
        "colab": {
          "base_uri": "https://localhost:8080/"
        },
        "outputId": "e998d86a-59e5-41cc-fe05-7578bc3b9890"
      },
      "execution_count": null,
      "outputs": [
        {
          "output_type": "stream",
          "name": "stdout",
          "text": [
            "The number of books containing the word Python : 2\n"
          ]
        }
      ]
    },
    {
      "cell_type": "markdown",
      "source": [
        " The title of the book is not written in the correct cases as well. Make corrections there.\n"
      ],
      "metadata": {
        "id": "HaY-Pmgrr14E"
      }
    },
    {
      "cell_type": "code",
      "source": [
        "list_ = []\n",
        "for book in books:\n",
        "  list_.append(book.upper())\n",
        "print(list_)"
      ],
      "metadata": {
        "colab": {
          "base_uri": "https://localhost:8080/"
        },
        "id": "2WMagimt0f2T",
        "outputId": "e5fcc090-0a8b-4420-9be1-55d0e56d717a"
      },
      "execution_count": null,
      "outputs": [
        {
          "output_type": "stream",
          "name": "stdout",
          "text": [
            "['PYTHON FOR DATA SCIENCE HANDBOOK BY JAKE VANDERPLAS', 'THE PRAGMATIC PROGRAMMER BY ANDREW HUNT AND DAVID THOMAS', 'PYTHON MACHINE LEARNING BY SEBASTIAN RASCHKA', 'THE ALCHEMIST BY PAULO COELHO']\n"
          ]
        }
      ]
    },
    {
      "cell_type": "markdown",
      "source": [
        "## Space and Time Complexity\n",
        " Time complexity of O(n) and a space complexity of O(1), where 'n' is the number of books in the books list"
      ],
      "metadata": {
        "id": "TjLyduG-xyRE"
      }
    },
    {
      "cell_type": "markdown",
      "source": [
        "# **In-Built Functions & Methods**"
      ],
      "metadata": {
        "id": "B80a_pgbGRll"
      }
    },
    {
      "cell_type": "markdown",
      "source": [
        "## Here is a string for you to work with:"
      ],
      "metadata": {
        "id": "rg1rF2AJqlrU"
      }
    },
    {
      "cell_type": "code",
      "source": [
        "# Here is the statement.\n",
        "\n",
        "statement = \"anas eagerly recommended 'the shawshank redemption' to his friends. He described the movie as a captivating and emotional story of hope and friendship. His friends decided to watch it together the following weekend.\""
      ],
      "metadata": {
        "id": "x5DsgVU5pYep"
      },
      "execution_count": null,
      "outputs": []
    },
    {
      "cell_type": "code",
      "source": [
        "print(statement)"
      ],
      "metadata": {
        "colab": {
          "base_uri": "https://localhost:8080/"
        },
        "id": "0qMdyUT8Mgv4",
        "outputId": "047f86b1-5d9e-4d78-8d31-5f387bec5dff"
      },
      "execution_count": null,
      "outputs": [
        {
          "output_type": "stream",
          "name": "stdout",
          "text": [
            "anas eagerly recommended 'the shawshank redemption' to his friends. He described the movie as a captivating and emotional story of hope and friendship. His friends decided to watch it together the following weekend.\n"
          ]
        }
      ]
    },
    {
      "cell_type": "markdown",
      "source": [
        "1. Create a list containing the three sentences in the statement.\n",
        "Hint: Use split() method."
      ],
      "metadata": {
        "id": "eWwJCSZcrGQr"
      }
    },
    {
      "cell_type": "code",
      "source": [
        "# Create a list containing the three sentences in the statement.\n",
        "\n",
        "sentence_list= statement.split('.')\n",
        "print(sentence_list)"
      ],
      "metadata": {
        "id": "cjAgMMBzqUPX",
        "colab": {
          "base_uri": "https://localhost:8080/"
        },
        "outputId": "b045cfa0-6237-477a-fac3-cd6bf0b28e87"
      },
      "execution_count": null,
      "outputs": [
        {
          "output_type": "stream",
          "name": "stdout",
          "text": [
            "[\"anas eagerly recommended 'the shawshank redemption' to his friends\", ' He described the movie as a captivating and emotional story of hope and friendship', ' His friends decided to watch it together the following weekend', '']\n"
          ]
        }
      ]
    },
    {
      "cell_type": "markdown",
      "source": [
        "2. The name 'anas' is spelled wrong. Replace it with 'Anas'."
      ],
      "metadata": {
        "id": "lutxbv7crjLV"
      }
    },
    {
      "cell_type": "code",
      "source": [
        "# The name 'anas' is spelled wrong. Replace it with 'Anas'.\n",
        "\n",
        "statement_1 = sentence_list[0].replace(\"anas\",\"Anas\")   #Redefine the statement, with the correction.\n",
        "print(statement_1)\n"
      ],
      "metadata": {
        "id": "wihquZM3pptr",
        "colab": {
          "base_uri": "https://localhost:8080/"
        },
        "outputId": "c6f0c86d-4114-4c93-d916-849e088c6e69"
      },
      "execution_count": null,
      "outputs": [
        {
          "output_type": "stream",
          "name": "stdout",
          "text": [
            "Anas eagerly recommended 'the shawshank redemption' to his friends\n"
          ]
        }
      ]
    },
    {
      "cell_type": "markdown",
      "source": [
        "3. You believe \"The Shawshank Redemption\" would be bit too gloomy for the lot. Take user input of which movie to recommend and replace \"The Shawshank Redemption\" from the statement with the new recommendation."
      ],
      "metadata": {
        "id": "g7-df8O_sa8w"
      }
    },
    {
      "cell_type": "code",
      "source": [
        "# Change the recommendation of movie to one, of your choice.\n",
        "# Take input of movie\n",
        "\n",
        "new_movie=input(\"Which movie wold you recommend? \")\n",
        "statement_1 = statement_1.replace('the shawshank redemption',new_movie)\n",
        "print(statement_1)"
      ],
      "metadata": {
        "id": "FaoDdYues1sT",
        "colab": {
          "base_uri": "https://localhost:8080/"
        },
        "outputId": "30b77811-1ef4-405f-92a4-4935b9dddf93"
      },
      "execution_count": null,
      "outputs": [
        {
          "output_type": "stream",
          "name": "stdout",
          "text": [
            "Which movie wold you recommend? Pearl Harbour\n",
            "Anas eagerly recommended 'Pearl Harbour' to his friends\n"
          ]
        }
      ]
    },
    {
      "cell_type": "markdown",
      "source": [
        "##Space and Time Complexity\n",
        "\n",
        "\n",
        "1.   Time complexity: O(n + 2m), where n is the length of the original statement, and m is the length of the first sentence.\n",
        "2.   Space complexity of the code is O(n + m), where n is the length of the original statement, and m is the length of the first sentence.\n",
        "\n"
      ],
      "metadata": {
        "id": "mDgrO9ABLfd_"
      }
    },
    {
      "cell_type": "markdown",
      "source": [
        "## 🎥 Suppose you have a collection of your favorite movies 🍿🎞️ and you want to keep track of them using a Python list 📜. You start with an empty list [] and keep adding new movies 🆕 to it. You also want to be able to remove movies ❌ that you have watched or no longer wish to keep in your collection. Finally, you want to be able to count 🔢 how many movies you have in your collection and reverse the order of the list 🔄."
      ],
      "metadata": {
        "id": "qCn4QduqtXLg"
      }
    },
    {
      "cell_type": "code",
      "source": [
        "# Start with an empty list\n",
        "movie_collection = []\n",
        "\n",
        "# Add some movies to the collection using the append() method\n",
        "movie_collection.append(\"Avengers\") # Use your favourite movie names\n",
        "movie_collection.append(\"Iron Man\")\n",
        "movie_collection.append(\"Thor\")\n",
        "movie_collection.append(\"Justice League\")\n",
        "movie_collection.append(\"Fantastic 4\")\n",
        "\n",
        "# Print the current collection of movies\n",
        "print(\"My Movie Collection:\", movie_collection)\n",
        "\n",
        "# Remove a movie from the collection using the pop() method\n",
        "movie_collection.pop()\n",
        "\n",
        "# Code to remove index 3 here\n",
        "movie_collection.pop(3)\n",
        "print(\"After removing movie 4\", movie_collection)\n",
        "\n",
        "\n",
        "# Count how many movies are in the collection\n",
        "num_movies = len(movie_collection)\n",
        "print(\"Number of movies:\", num_movies)\n",
        "\n",
        "# Reverse the order of the list using the reverse() method\n",
        "movie_collection_rev = sorted(movie_collection,reverse=True)\n",
        "\n",
        "print(\"Reversed movie collection:\", movie_collection_rev)\n"
      ],
      "metadata": {
        "id": "gHyiib9ptWpx",
        "colab": {
          "base_uri": "https://localhost:8080/"
        },
        "outputId": "73e2117f-85e0-42f8-b6c1-397bee920a69"
      },
      "execution_count": null,
      "outputs": [
        {
          "output_type": "stream",
          "name": "stdout",
          "text": [
            "My Movie Collection: ['Avengers', 'Iron Man', 'Thor', 'Justice League', 'Fantastic 4']\n",
            "After removing movie 4 ['Avengers', 'Iron Man', 'Thor']\n",
            "Number of movies: 3\n",
            "Reversed movie collection: ['Thor', 'Iron Man', 'Avengers']\n"
          ]
        }
      ]
    },
    {
      "cell_type": "markdown",
      "source": [
        "##Time complexity:\n",
        "1.   Adding movies: O(1) per movie\n",
        "1.   Removing a movie by index: O(n) per removal (worst case)\n",
        "2.   Counting movies: O(1)\n",
        "2.   Reversing the list: O(n*log(n))\n",
        "\n",
        "##Space complexity\n",
        "1.   movie_collection: O(n)\n",
        "2.   movie_collection_rev: O(n)\n",
        "\n",
        "\n"
      ],
      "metadata": {
        "id": "iqtFVj8fQA4v"
      }
    },
    {
      "cell_type": "markdown",
      "source": [
        "## 👩‍🏫 A teacher has stored the names of his students in a tuple as follows:\n",
        "('Adam','Alice','Ben','Bilal','Bharath')\n",
        "\n",
        "👨‍🎓 Their role numbers are defined as their index number + 1.\n",
        "\n",
        "🖥️ Write a program which would take the name of the student as input and return their role number."
      ],
      "metadata": {
        "id": "uEY4_vNcvEZj"
      }
    },
    {
      "cell_type": "code",
      "source": [
        "student_tuple=('Adam','Alice','Ben','Bilal','Bharath')"
      ],
      "metadata": {
        "id": "MuXV52jRwNWR"
      },
      "execution_count": null,
      "outputs": []
    },
    {
      "cell_type": "code",
      "source": [
        "# Take input from user and display role number as index of the input + 1\n",
        "student=input(\"Input the student name to get roll number - \")\n",
        "print(student,\"'s roll number is: \", student_tuple.index(student)+1)"
      ],
      "metadata": {
        "colab": {
          "base_uri": "https://localhost:8080/"
        },
        "id": "XPMNZkTnwRhb",
        "outputId": "09333d14-54a0-4871-8934-046105bd12fd"
      },
      "execution_count": null,
      "outputs": [
        {
          "output_type": "stream",
          "name": "stdout",
          "text": [
            "Input the student name to get roll number - Bilal\n",
            "Bilal 's roll number is:  4\n"
          ]
        }
      ]
    },
    {
      "cell_type": "markdown",
      "source": [
        "##Space and Time Complexity\n",
        "*   Time Complexity O(n) in the worst case because it may need to traverse the entire tuple to find the index.\n",
        "*   Space complexity is constant O(1)\n",
        "\n"
      ],
      "metadata": {
        "id": "HrBl34QsRWJ6"
      }
    },
    {
      "cell_type": "markdown",
      "source": [
        "## A store 🏪 sells different types of fruits 🍎🍌🍇🍓 in baskets 🧺. The storekeeper 🧑 keeps track of the availability of each fruit type in separate sets. The storekeeper wants to know which fruits are available in both baskets, which fruits are unique to each basket, and the total number of fruits available. 🤔"
      ],
      "metadata": {
        "id": "8fz0W273yMnA"
      }
    },
    {
      "cell_type": "code",
      "source": [
        "# Define sets for fruits in each basket\n",
        "basket1 = {'apple', 'banana', 'grape', 'orange'}\n",
        "basket2 = {'banana', 'mango', 'pineapple', 'orange'}\n",
        "\n",
        "# Find the total number of fruits available\n",
        "total_fruits = len(basket1.union(basket2))\n",
        "print(\"Total number of fruits available:\", total_fruits)\n",
        "\n",
        "# Find fruits available in both baskets\n",
        "both_baskets = basket1.union(basket2)\n",
        "print(\"All the available fruits:\", both_baskets)\n",
        "\n",
        "# Find only the common fruits in both baskets\n",
        "common_fruits = basket1.intersection(basket2)\n",
        "print(\"Common fruits in both baskets:\", common_fruits)\n",
        "\n",
        "# Find fruits unique to each basket\n",
        "unique_basket1 = basket1 - basket2\n",
        "unique_basket2 = basket2 - basket1\n",
        "print(\"Fruits unique to basket 1:\", unique_basket1)\n",
        "print(\"Fruits unique to basket 2:\", unique_basket2)"
      ],
      "metadata": {
        "id": "v8PqzLt52z15",
        "colab": {
          "base_uri": "https://localhost:8080/"
        },
        "outputId": "87524e8f-fd9a-4460-d06b-f4aaed1acdd1"
      },
      "execution_count": null,
      "outputs": [
        {
          "output_type": "stream",
          "name": "stdout",
          "text": [
            "Total number of fruits available: 6\n",
            "All the available fruits: {'pineapple', 'apple', 'grape', 'orange', 'mango', 'banana'}\n",
            "Common fruits in both baskets: {'banana', 'orange'}\n",
            "Fruits unique to basket 1: {'apple', 'grape'}\n",
            "Fruits unique to basket 2: {'mango', 'pineapple'}\n"
          ]
        }
      ]
    },
    {
      "cell_type": "markdown",
      "source": [
        "##Space and Time Complexity\n",
        "Both have the value of O(m+n) where m and n are sizes of the sets"
      ],
      "metadata": {
        "id": "UHEBstFxSYC7"
      }
    },
    {
      "cell_type": "markdown",
      "source": [
        "# **Statements, Indentation & Conditionals**"
      ],
      "metadata": {
        "id": "gklgsrl6kIW8"
      }
    },
    {
      "cell_type": "markdown",
      "source": [
        "## 👉 Imagine that you are a food inspector who is responsible for inspecting the lead content of a packaged food material at a factory. If the content exceeds 5%, you should print the message \"This batch cannot be approved\".\n"
      ],
      "metadata": {
        "id": "ByhB8JrbeqQB"
      }
    },
    {
      "cell_type": "code",
      "source": [
        "# Get the lead content of the packaged food material\n",
        "lead_content = float(input(\"Please enter the lead content of the packaged food material in percentage: \"))\n",
        "\n",
        "# Check if the lead content exceeds 5%\n",
        "if lead_content > 5:\n",
        "  print(\"This batch cannot be approved\")\n",
        "else :\n",
        "  print(\"This batch is good to go\")"
      ],
      "metadata": {
        "id": "SZMMKSXteqQC",
        "colab": {
          "base_uri": "https://localhost:8080/"
        },
        "outputId": "ca13c23b-826e-43cc-8666-d322652a1fbf"
      },
      "execution_count": null,
      "outputs": [
        {
          "output_type": "stream",
          "name": "stdout",
          "text": [
            "Please enter the lead content of the packaged food material in percentage: 7\n",
            "This batch cannot be approved\n"
          ]
        }
      ]
    },
    {
      "cell_type": "markdown",
      "source": [
        "##Space and Time Complexity\n",
        "The overall space and time complexity of this code are both O(1)"
      ],
      "metadata": {
        "id": "Q-B2meJhS-VK"
      }
    },
    {
      "cell_type": "markdown",
      "source": [
        "## 👉 Imagine: You're a bouncer at a nightclub and need to check if someone is old enough to enter. The legal age for entry is 18 years. If the person is less than 18 years print \"Sorry You can not enter!\"."
      ],
      "metadata": {
        "id": "AbgFO_SEeqQD"
      }
    },
    {
      "cell_type": "code",
      "source": [
        "age = int(input(\"enter the age: \"))\n",
        "\n",
        "\n",
        "#Check the age of the guest\n",
        "if age<18:\n",
        "  print(\"Sorry You can not enter!\")\n",
        "else :\n",
        "  print(\"Welcome to the club\")"
      ],
      "metadata": {
        "colab": {
          "base_uri": "https://localhost:8080/"
        },
        "outputId": "99626d07-7a5a-4fce-b78a-1c84e23bdf66",
        "id": "0uZg98vneqQE"
      },
      "execution_count": null,
      "outputs": [
        {
          "output_type": "stream",
          "name": "stdout",
          "text": [
            "enter the age: 17\n",
            "Sorry You can not enter!\n"
          ]
        }
      ]
    },
    {
      "cell_type": "markdown",
      "source": [
        "##Space and Time Complexity\n",
        "The overall space and time complexity of this code are both O(1)"
      ],
      "metadata": {
        "id": "VrXB9J6-TTDv"
      }
    },
    {
      "cell_type": "markdown",
      "source": [
        "## 👉 Imagine you are a fitness instructor who needs to evaluate if a client has reached their weight loss goal. The target weight loss goal is 10 pounds. If the client has lost at least 10 pounds, you should print the message \"Congratulations, you have reached your weight loss goal!\" However, if the client has lost less than 10 pounds, you should print \"Sorry, you have not reached your weight loss goal yet. Keep up the good work!\""
      ],
      "metadata": {
        "id": "fmzxpgNEo1Le"
      }
    },
    {
      "cell_type": "code",
      "source": [
        "# Get the client's weight loss\n",
        "client_weight_loss = float(input(\"Please enter the client's weight loss (in pounds): \"))\n",
        "\n",
        "# Check if the client reached their weight loss goal\n",
        "if client_weight_loss < 10:\n",
        "  print(\"Sorry, you have not reached your weight loss goal yet. Keep up the good work!\")\n",
        "else :\n",
        "  print(\"Congratulations, you have reached your weight loss goal!\")"
      ],
      "metadata": {
        "id": "nDMEHColo5hu",
        "colab": {
          "base_uri": "https://localhost:8080/"
        },
        "outputId": "c142d318-3f09-47a3-daa6-c35f415025f8"
      },
      "execution_count": null,
      "outputs": [
        {
          "output_type": "stream",
          "name": "stdout",
          "text": [
            "Please enter the client's weight loss (in pounds): 8\n",
            "Sorry, you have not reached your weight loss goal yet. Keep up the good work!\n"
          ]
        }
      ]
    },
    {
      "cell_type": "markdown",
      "source": [
        "##Space and Time Complexity\n",
        "The overall space and time complexity of this code are both O(1)"
      ],
      "metadata": {
        "id": "MpkMm-PST_g_"
      }
    },
    {
      "cell_type": "markdown",
      "source": [
        "##👉 Imagine: You're a gardener and need to check if a plant needs watering. If the soil moisture level is below 40%, print \"Water the plant!\", otherwise, print \"The plant doesn't need watering.\""
      ],
      "metadata": {
        "id": "eLOwny2bprgv"
      }
    },
    {
      "cell_type": "code",
      "source": [
        "# Take input of moisture level\n",
        "moisture_level = int(input(\"Enter moisture level \"))\n",
        "\n",
        "#Check if moisture level is satisfactory or not\n",
        "if moisture_level < 40:\n",
        "  print(\"Water the plant\")\n",
        "else :\n",
        "  print(\"The plant doesn't need watering\")"
      ],
      "metadata": {
        "id": "8SAviqFOp1xX",
        "colab": {
          "base_uri": "https://localhost:8080/"
        },
        "outputId": "fdf3c386-28a5-4000-ca4f-126288879d24"
      },
      "execution_count": null,
      "outputs": [
        {
          "output_type": "stream",
          "name": "stdout",
          "text": [
            "Enter moisture level 35\n",
            "Water the plant\n"
          ]
        }
      ]
    },
    {
      "cell_type": "markdown",
      "source": [
        "##Space and Time Complexity\n",
        "The overall space and time complexity of this code are both O(1)"
      ],
      "metadata": {
        "id": "N0wdl22cUCNX"
      }
    },
    {
      "cell_type": "markdown",
      "source": [
        "##📦📬🚚 Creating a shipping cost calculator! ⚙️\n",
        "\n",
        "You need to create a program that calculates the cost of shipping a package based on its weight and destination 📦💰\n",
        "\n",
        "🌍 Domestic shipping within the country :\n",
        "\n",
        "* Packages weighing up to 1 kg cost Rs.50 to ship 🤑\n",
        "Each additional kg costs Rs.10 extra 💰\n",
        "\n",
        "🌎 International shipping to other countries 🌏:\n",
        "\n",
        "* Packages weighing up to 1 kg cost Rs.500 to ship 🤑\n",
        "\n",
        "Each additional kg costs Rs.100 extra 💰\n",
        "Ready to ship? 🚛🚀"
      ],
      "metadata": {
        "id": "XA2dKqlxMVsH"
      }
    },
    {
      "cell_type": "code",
      "source": [
        "weight = int(input(\"Enter the weight in kg of the shipping item :\"))\n",
        "trans_type = input(\"Transportation type within country 'local' or outside country 'international' :\")\n",
        "\n",
        "if weight <= 1:\n",
        "  if trans_type == 'local':\n",
        "    cost = 50\n",
        "  elif trans_type == 'international' :\n",
        "    cost = 500\n",
        "  else :\n",
        "    print(\"Enter the valid transportation type\")\n",
        "\n",
        "else:\n",
        "  if trans_type == 'local':\n",
        "    cost = 50 + 10*(weight-1)\n",
        "  elif trans_type == 'international':\n",
        "    cost = 500 + 100*(weight-1)\n",
        "  else:\n",
        "    print(\"Enter the valid transportation type\")\n",
        "\n",
        "print(\"the cost of transporting the item is :\",cost)"
      ],
      "metadata": {
        "colab": {
          "base_uri": "https://localhost:8080/"
        },
        "id": "AP4EsFw5A0ER",
        "outputId": "6f82f388-74eb-4bbe-eaac-06373b3bb6d4"
      },
      "execution_count": null,
      "outputs": [
        {
          "output_type": "stream",
          "name": "stdout",
          "text": [
            "Enter the weight in kg of the shipping item :8\n",
            "Transportation type within country 'local' or outside country 'international' :local\n",
            "the cost of transporting the item is : 120\n"
          ]
        }
      ]
    },
    {
      "cell_type": "markdown",
      "source": [
        "##Space and Time Complexity\n",
        "The overall space and time complexity of this code are both O(1), meaning they are constant and not dependent on the size of the input or any data structures."
      ],
      "metadata": {
        "id": "t1PmJLu1Ukvj"
      }
    },
    {
      "cell_type": "markdown",
      "source": [
        "## 🚗 As a car dealership manager, you need to create a discount system for your customers based on the price of the car they want to buy. Here are the rules! 📝\n",
        "\n",
        "🚘 If the car price is less than Rs. 10,00,000, there is no discount.\n",
        "\n",
        "🎁 If the car price is between Rs. 10,00,000 and Rs. 20,00,000, there is a discount of 5%.\n",
        "\n",
        "🎉 If the car price is between Rs. 20,00,000 and Rs. 30,00,000, there is a discount of 7.5%.\n",
        "\n",
        "🥳 If the car price is greater than Rs. 30,00,000, there is a discount of 10%.\n",
        "\n",
        "Are you ready to make your customers happy with these discounts? 🚗💰"
      ],
      "metadata": {
        "id": "gLPLG7NaYofV"
      }
    },
    {
      "cell_type": "code",
      "source": [
        "car_price = int(input(\"Enter the price of the price :\"))\n",
        "if car_price < 1000000:\n",
        "  print('No discount')\n",
        "elif car_price >= 1000000 and car_price < 2000000:\n",
        "  print('Discount of 5%')\n",
        "elif car_price >= 2000000 and car_price < 3000000:\n",
        "  print('Discount of 7.5%')\n",
        "else:\n",
        "  print('Discount of 10%')\n"
      ],
      "metadata": {
        "colab": {
          "base_uri": "https://localhost:8080/"
        },
        "id": "NnvQ_XOWJ8K-",
        "outputId": "e88e436a-f2ee-489d-e6d6-bd095b25cd22"
      },
      "execution_count": null,
      "outputs": [
        {
          "output_type": "stream",
          "name": "stdout",
          "text": [
            "Enter the price of the price :2500000\n",
            "Discount of 7.5%\n"
          ]
        }
      ]
    },
    {
      "cell_type": "markdown",
      "source": [
        "##Space and Time Complexity\n",
        "The overall space and time complexity of this code are both O(1), meaning they are constant and not dependent on the size of the input or any data structures."
      ],
      "metadata": {
        "id": "8rHvIUnAU534"
      }
    },
    {
      "cell_type": "markdown",
      "source": [
        "# **Loops & Iterations**"
      ],
      "metadata": {
        "id": "9PNEVRVaIfLS"
      }
    },
    {
      "cell_type": "markdown",
      "source": [
        "## You and your friends are playing a board game where you roll a dice and move your game piece accordingly. However, you want to know the average number rolled by each player to see who's really the luckiest. Write a program that takes a list of rolls as input for each player and uses a for loop to calculate the average roll for each player. The winner gets bragging rights for being the luckiest!\n",
        "\n",
        "\n"
      ],
      "metadata": {
        "id": "QFad4dlHWjvx"
      }
    },
    {
      "cell_type": "markdown",
      "source": [
        "**Instructions:**\n",
        "\n",
        "1. Define a list of rolls for each player, where each list contains the numbers rolled by the player.\n",
        "2. Use a for loop to iterate over each player's rolls in the list of player rolls.\n",
        "3. For each player, calculate the average roll by summing up all the rolls and dividing by the number of rolls. You can use the formula sum(rolls) / len(rolls) to do this.\n",
        "4. Print out each player's average roll using f-strings to display the player number and their average roll to two decimal places."
      ],
      "metadata": {
        "id": "y3BYcWJyzUVn"
      }
    },
    {
      "cell_type": "code",
      "source": [
        "player_rolls = [\n",
        "    [3, 5, 6, 2, 1],  # player 1's rolls\n",
        "    [4, 4, 6, 3, 2],  # player 2's rolls\n",
        "    [1, 5, 6, 6, 4]   # player 3's rolls\n",
        "] # list of a list"
      ],
      "metadata": {
        "id": "3-X0wqWCzuna"
      },
      "execution_count": null,
      "outputs": []
    },
    {
      "cell_type": "code",
      "source": [
        "max_avg = 0\n",
        "max_index = 0\n",
        "for index in range(len(player_rolls)):\n",
        "  #print(player_rolls[index])\n",
        "  average_roll = sum(player_rolls[index])/len(player_rolls[index])\n",
        "  if average_roll>max_avg:\n",
        "      max_avg = average_roll\n",
        "      max_index = index\n",
        "  print(f\"Average Roll for Player {index+1} is {average_roll}\")\n",
        "\n",
        "print('\\n')\n",
        "print(f\"The Luckiest of them all is Player {max_index+1} with maximum average roll {max_avg}\")"
      ],
      "metadata": {
        "id": "2Y9gP41ewxLM",
        "colab": {
          "base_uri": "https://localhost:8080/"
        },
        "outputId": "f7d57838-23dc-4ec7-dfbf-6727823d66fd"
      },
      "execution_count": null,
      "outputs": [
        {
          "output_type": "stream",
          "name": "stdout",
          "text": [
            "Average Roll for Player 1 is 3.4\n",
            "Average Roll for Player 2 is 3.8\n",
            "Average Roll for Player 3 is 4.4\n",
            "\n",
            "\n",
            "The Luckiest of them all is Player 3 with maximum average roll 4.4\n"
          ]
        }
      ]
    },
    {
      "cell_type": "markdown",
      "source": [
        "##Space and Time Complexity\n",
        "The code's time complexity is O(nm), where n is the number of players and m is the number of rolls per player, and the space complexity is also O(nm) due to the storage of the player rolls."
      ],
      "metadata": {
        "id": "bs1FiCrBW1bS"
      }
    },
    {
      "cell_type": "markdown",
      "source": [
        "## Write a Python program that analyzes a list of names and sorts them into two categories: those that start with a vowel and those that start with a consonant. To achieve this, you'll use a nested loop and some basic conditional statements."
      ],
      "metadata": {
        "id": "VB0b9bivcyKL"
      }
    },
    {
      "cell_type": "markdown",
      "source": [
        "**Instructions**\n",
        "\n",
        "1. Start by defining a list of names. You can call this list names and initialize it with a few names.\n",
        "\n",
        "2. Define two empty lists to store the names that start with vowels and consonants, respectively. You can call these lists vowel_names and consonant_names.\n",
        "\n",
        "3. Use a nested loop to iterate through each name in the names list. The outer loop should iterate through each name, while the inner loop should iterate through each character in the name.\n",
        "\n",
        "4. Inside the inner loop, use an if statement to check if the first letter of the name is a vowel or a consonant. You can do this by checking if the first character of the name is in a list of vowels.\n",
        "\n",
        "5. If the first letter is a vowel, append the name to the vowel_names list using the append() method.\n",
        "\n",
        "6. If the first letter is a consonant, append the name to the consonant_names list using the append() method.\n",
        "\n",
        "7. Once the loop has finished iterating through all the names, use the print() function to print the two lists of names. You can include a message indicating which list contains the names that start with vowels and which list contains the names that start with consonants"
      ],
      "metadata": {
        "id": "7kDiyL4K74s0"
      }
    },
    {
      "cell_type": "code",
      "source": [
        "names = [\"Alice\", \"Bob\", \"Eve\", \"Charlie\", \"Ivy\", \"David\", \"Olivia\", \"Peter\"]\n",
        "list_of_vowels = ['A','E','I','O','U']\n",
        "vowel_names = []\n",
        "consonant_names = []\n",
        "for name in names:\n",
        "  if name[0] in list_of_vowels:\n",
        "    vowel_names.append(name)\n",
        "  else:\n",
        "    consonant_names.append(name)"
      ],
      "metadata": {
        "id": "-tuXcVjceNDA"
      },
      "execution_count": null,
      "outputs": []
    },
    {
      "cell_type": "code",
      "source": [
        "print(\"List where the names that start with vowels :\\n\",vowel_names)\n",
        "print(\"List where the names that start with consonants :\\n\",consonant_names)"
      ],
      "metadata": {
        "colab": {
          "base_uri": "https://localhost:8080/"
        },
        "id": "YxiZ7Sh1Rfsp",
        "outputId": "ca6c5a0a-62bd-4fbd-f460-86b46a58bf40"
      },
      "execution_count": null,
      "outputs": [
        {
          "output_type": "stream",
          "name": "stdout",
          "text": [
            "List where the names that start with vowels :\n",
            " ['Alice', 'Eve', 'Ivy', 'Olivia']\n",
            "List where the names that start with consonants :\n",
            " ['Bob', 'Charlie', 'David', 'Peter']\n"
          ]
        }
      ]
    },
    {
      "cell_type": "markdown",
      "source": [
        "##Space and Time Complexity\n",
        "Both have the value of O(n) where n is the number of names in the list."
      ],
      "metadata": {
        "id": "RH6N-fZ5XWKS"
      }
    },
    {
      "cell_type": "markdown",
      "source": [
        "## You are a teacher and you have a dictionary containing the grades of your students in a particular subject. The keys of the dictionary are the names of the students, and the values are their respective grades. You need to find the students who scored above 90% and print out their names."
      ],
      "metadata": {
        "id": "-8hkwqg8m8wN"
      }
    },
    {
      "cell_type": "markdown",
      "source": [
        "**Instruction**\n",
        "\n",
        "1. Define a dictionary to store the grades of the students. The keys of the dictionary should be the names of the students, and the values should be their respective grades.\n",
        "\n",
        "2. Loop through the dictionary using a for loop and retrieve the grade of each student.\n",
        "\n",
        "3. Check if the grade is greater than 90%. If it is, print out the name of the student.\n",
        "\n",
        "4. Repeat steps 2-3 for all the students in the dictionary.\n",
        "\n",
        "5. Once the loop is complete, the names of the students who scored above 90% will have been printed to the console."
      ],
      "metadata": {
        "id": "TPiFO0N8Auts"
      }
    },
    {
      "cell_type": "code",
      "source": [
        "# Define the grades dictionary\n",
        "grades = {\n",
        "    'Alice': 85,\n",
        "    'Bob': 92,\n",
        "    'Charlie': 88,\n",
        "    'David': 95,\n",
        "    'Emily': 78,\n",
        "    'Frank': 91\n",
        "}\n",
        "\n",
        "student_list = []\n",
        "for name,score in grades.items():\n",
        "  if score>90:\n",
        "    student_list.append(name)\n",
        "print(\"List of the student who scored above 90% :\",student_list)"
      ],
      "metadata": {
        "id": "FB2JqhT_nYSe",
        "colab": {
          "base_uri": "https://localhost:8080/"
        },
        "outputId": "4f15372a-6424-4d23-d0d7-9240c18453ed"
      },
      "execution_count": null,
      "outputs": [
        {
          "output_type": "stream",
          "name": "stdout",
          "text": [
            "List of the student who scored above 90% : ['Bob', 'David', 'Frank']\n"
          ]
        }
      ]
    },
    {
      "cell_type": "markdown",
      "source": [
        "##Space and Time Complexity\n",
        "Both have the value of O(n) where n is the number of students in the dictionary."
      ],
      "metadata": {
        "id": "xjG-P3nBaLJM"
      }
    },
    {
      "cell_type": "markdown",
      "source": [
        "## You're given a nested list of numbers, and your task is to count the number of odd and even numbers in the list. To achieve this, you'll use a nested loop and some basic conditional statements.\n",
        "\n",
        "List - numbers = [\n",
        "    [2, 5, 11, 20, 8],\n",
        "    [9, 4, 15, 28, 17],\n",
        "    [1, 6, 21, 18, 3],\n",
        "    [10, 13, 25, 33, 30],\n",
        "    [14, 7, 16, 19, 22]\n",
        "]"
      ],
      "metadata": {
        "id": "zr6auy0z5TvR"
      }
    },
    {
      "cell_type": "markdown",
      "source": [
        "**Instructions**\n",
        "\n",
        "1. Inititate the odd and even count variables.\n",
        "2. Iterate through the outer list first. ie, [2,5,11,20,8] would be the item in the first iteration.\n",
        "3. Iterate through this resulting list using an inner for loop.\n",
        "4. Check if the number is odd or even, and add the count to the counter variables initialised before.\n",
        "5. Print the odd and even counts.\n"
      ],
      "metadata": {
        "id": "enPfQ0-Zkodd"
      }
    },
    {
      "cell_type": "code",
      "source": [
        "# List of numbers\n",
        "numbers = [\n",
        "    [2, 5, 11, 20, 8],\n",
        "    [9, 4, 15, 28, 17],\n",
        "    [1, 6, 21, 18, 3],\n",
        "    [10, 13, 25, 33, 30],\n",
        "    [14, 7, 16, 19, 22]\n",
        "]\n",
        "\n",
        "# Your code here:\n",
        "even_count=0\n",
        "odd_count=0\n",
        "for list_ in numbers:\n",
        "  for num in list_:\n",
        "    if num % 2 == 0:\n",
        "      even_count += 1\n",
        "    else:\n",
        "      odd_count += 1\n",
        "\n",
        "print(\"The no of even numbers is :\",even_count)\n",
        "print(\"The no of odd numbers is :\",odd_count)\n"
      ],
      "metadata": {
        "id": "WDIj__rukmfu",
        "colab": {
          "base_uri": "https://localhost:8080/"
        },
        "outputId": "6cc3935e-9e8e-42de-daef-b36bc8464fac"
      },
      "execution_count": null,
      "outputs": [
        {
          "output_type": "stream",
          "name": "stdout",
          "text": [
            "The no of even numbers is : 12\n",
            "The no of odd numbers is : 13\n"
          ]
        }
      ]
    },
    {
      "cell_type": "markdown",
      "source": [
        "##Space and Time Complexity\n",
        "The time complexity is O(n*m), and the space complexity is O(1) depend on the size of the numbers list, which is n rows by m columns."
      ],
      "metadata": {
        "id": "qh9eQrPPe_lW"
      }
    },
    {
      "cell_type": "markdown",
      "source": [
        "## Imagine you're organizing a chess tournament 🏆, where each player has to play against every other player. To achieve this, you can use nested loops in Python! Nested loops are simply loops within loops, and they come in handy when you need to perform tasks involving multiple levels of iteration.\n",
        "\n",
        "In Python, you can nest 'for' loops, 'while' loops, or even a combination of both. Let's take a closer look at how nested loops work using our chess tournament scenario:"
      ],
      "metadata": {
        "id": "zqZRSProCrKH"
      }
    },
    {
      "cell_type": "markdown",
      "source": [
        "**Instructions**\n",
        "\n",
        "1. Inititiate the list.\n",
        "2. Iterate through the list in first loop.\n",
        "3. Iterate throught the same list in inner loop.\n",
        "4. Compare the element in the outer and inner loops. If they are not the same players, print \"Player x plays against Player y\".\n"
      ],
      "metadata": {
        "id": "fQDnnflBDz6C"
      }
    },
    {
      "cell_type": "code",
      "source": [
        "# Write Your Code Here\n",
        "players = ['Alice', 'Bob', 'Charlie', 'Diana']\n",
        "\n",
        "for player_1 in players:\n",
        "  for player_2 in players:\n",
        "    if player_1 != player_2:\n",
        "      print(f\"{player_1} plays against {player_2}\")\n"
      ],
      "metadata": {
        "id": "2X6rmjkWGbUu",
        "colab": {
          "base_uri": "https://localhost:8080/"
        },
        "outputId": "ad6c821d-8df2-4fc6-cbd8-6e473d2131df"
      },
      "execution_count": null,
      "outputs": [
        {
          "output_type": "stream",
          "name": "stdout",
          "text": [
            "Alice plays against Bob\n",
            "Alice plays against Charlie\n",
            "Alice plays against Diana\n",
            "Bob plays against Alice\n",
            "Bob plays against Charlie\n",
            "Bob plays against Diana\n",
            "Charlie plays against Alice\n",
            "Charlie plays against Bob\n",
            "Charlie plays against Diana\n",
            "Diana plays against Alice\n",
            "Diana plays against Bob\n",
            "Diana plays against Charlie\n"
          ]
        }
      ]
    },
    {
      "cell_type": "markdown",
      "source": [
        "##Space and Time Complexity\n",
        "The overall space complexity is O(n), and the time complexity is O(n^2) due to the nested loop structure"
      ],
      "metadata": {
        "id": "uIVbuYpuf-cC"
      }
    },
    {
      "cell_type": "markdown",
      "source": [
        "# **Conditional & Infinite Looping**"
      ],
      "metadata": {
        "id": "Q5d2ryJwIrH9"
      }
    },
    {
      "cell_type": "markdown",
      "source": [
        "## **Building a Simple Calculator**\n",
        "\n",
        "In this activity, you will build a simple calculator using conditional looping in Python. The calculator will ask the user for two numbers and an operation (addition, subtraction, multiplication, or division), and then perform the operation on the two numbers."
      ],
      "metadata": {
        "id": "bORtEvsst-Hi"
      }
    },
    {
      "cell_type": "markdown",
      "source": [
        "**Instructions**:\n",
        "\n",
        "1. First, enter your first choice number.\n",
        "2. Second, enter your second choice number.\n",
        "3. Choose or enter the operation you want to perform.User Input will be \"(addition, subtraction, multiplication, or division)\".\n",
        "4. Use a conditional loop to perform the appropriate operation you want to perform.\n",
        "5. Finally, print the result of the operation."
      ],
      "metadata": {
        "id": "mdhVQGZwutpZ"
      }
    },
    {
      "cell_type": "code",
      "source": [
        "first_number = int(input())\n",
        "second_number = int(input())\n",
        "opers = input(\"Enter the operation you want to perform: \")\n",
        "list_of_opers = ['addition','subtraction','multiplication','division']\n",
        "\n",
        "if opers == 'addition':\n",
        "  print(first_number + second_number)\n",
        "elif opers == 'subtraction':\n",
        "  print(first_number - second_number)\n",
        "elif  opers == 'multiplication':\n",
        "  print(first_number * second_number)\n",
        "elif opers == 'division':\n",
        "  print(first_number / second_number)"
      ],
      "metadata": {
        "id": "Ushzbz-RuqxV",
        "colab": {
          "base_uri": "https://localhost:8080/"
        },
        "outputId": "3858a627-e8d6-4bb2-deb6-7c63f3e34dee"
      },
      "execution_count": null,
      "outputs": [
        {
          "output_type": "stream",
          "name": "stdout",
          "text": [
            "5\n",
            "6\n",
            "Enter the operation you want to perform: multiplication\n",
            "30\n"
          ]
        }
      ]
    },
    {
      "cell_type": "markdown",
      "source": [
        "##Space and Time Complexity\n",
        "The overall space and time complexity of this code are both O(1), meaning they are constant."
      ],
      "metadata": {
        "id": "MkiW2bongX_b"
      }
    },
    {
      "cell_type": "markdown",
      "source": [
        "## **Building a Guessing Game**\n",
        "\n",
        "In this activity, you will build a simple guessing game using conditional looping in Python. The game will generate a random number between 1 and 100, and the user will have to guess the number within a certain number of tries. The program will provide hints to the user after each guess, telling them whether their guess is too high or too low."
      ],
      "metadata": {
        "id": "BdL16-CWuLGr"
      }
    },
    {
      "cell_type": "markdown",
      "source": [
        "**What is the random module?**\n",
        "\n",
        "The random module is a built-in Python module that provides a suite of functions for generating random numbers and sequences. This module is often used in applications where randomization is important, such as games, simulations, and cryptography.\n",
        "\n",
        "You do not need to worry much about this as you will be learning about these modules and functions in the upcoming classes."
      ],
      "metadata": {
        "id": "arBlBPJ2eJ7R"
      }
    },
    {
      "cell_type": "markdown",
      "source": [
        "**Instructions:**\n",
        "\n",
        "1. First, import the \"random\" module to generate a random number for the game.\n",
        "2. Next, enter the number of tries you want to have and set a counter to keep track of how many tries you are left with.\n",
        "3. Now, use a while loop to allow yourself to keep guessing until you either guess the correct number or run out of tries.\n",
        "4. Finally, if you run out of tries without guessing the correct number, print a message telling what the secret number was."
      ],
      "metadata": {
        "id": "DI80fya5vZDs"
      }
    },
    {
      "cell_type": "code",
      "source": [
        "import random\n",
        "\n",
        "# Generate a random number between 1 and 100\n",
        "secret_number = random.randint(1, 100)\n",
        "max_attempts = 7\n",
        "attempt = 0\n",
        "\n",
        "# Write code here\n",
        "while attempt < max_attempts:\n",
        "\n",
        "  try:\n",
        "    guess = int(input(\"Enter the guess(1-100): \"))\n",
        "\n",
        "    if guess < 1 and guess > 100:\n",
        "      continue\n",
        "\n",
        "    attempt += 1\n",
        "\n",
        "    if guess == secret_number:\n",
        "      print(\"You have correctly guess the number\")\n",
        "    elif guess < secret_number:\n",
        "      print(\"You have guess the number slightly low\")\n",
        "    elif guess > secret_number:\n",
        "      print(\"You have guess the number slightly high\")\n",
        "\n",
        "    if attempt == max_attempts:\n",
        "      print(\"You have reached the limit\")\n",
        "      break\n",
        "\n",
        "  except ValueError:\n",
        "    print(\"Enter the number between 1 to 100\")"
      ],
      "metadata": {
        "id": "23RmOUN2vW9s",
        "colab": {
          "base_uri": "https://localhost:8080/"
        },
        "outputId": "502c1768-7dd5-479d-a395-88dd8d3b745a"
      },
      "execution_count": null,
      "outputs": [
        {
          "output_type": "stream",
          "name": "stdout",
          "text": [
            "Enter the guess(1-100): 50\n",
            "You have guess the number slightly low\n",
            "Enter the guess(1-100): 75\n",
            "You have guess the number slightly low\n",
            "Enter the guess(1-100): 85\n",
            "You have guess the number slightly high\n",
            "Enter the guess(1-100): 80\n",
            "You have guess the number slightly high\n",
            "Enter the guess(1-100): 77\n",
            "You have guess the number slightly low\n",
            "Enter the guess(1-100): 78\n",
            "You have correctly guess the number\n",
            "Enter the guess(1-100): 45\n",
            "You have guess the number slightly low\n",
            "You have reached the limit\n"
          ]
        }
      ]
    },
    {
      "cell_type": "markdown",
      "source": [
        "##Space and Time Complexity\n",
        "The overall space and time complexity of this code are both O(1), meaning they are constant and not dependent on the size of the input or any data structures."
      ],
      "metadata": {
        "id": "zuPotETGgyFr"
      }
    },
    {
      "cell_type": "markdown",
      "source": [
        "## **Building a Fibonacci Sequence Generator**\n",
        "\n",
        "In this activity, you will build a program that generates a Fibonacci sequence using conditional looping in Python. The Fibonacci sequence is a series of numbers in which each number is the sum of the two preceding numbers. The sequence starts with 0 and 1, and the next number in the sequence is the sum of the previous two numbers."
      ],
      "metadata": {
        "id": "CxWXvkMLuVys"
      }
    },
    {
      "cell_type": "markdown",
      "source": [
        "![9882d569f7e0b5665fe3b2edd5069b06.png](data:image/png;base64,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)"
      ],
      "metadata": {
        "id": "2OyWg8s1SkXV"
      }
    },
    {
      "cell_type": "markdown",
      "source": [
        "**Instructions:**\n",
        "\n",
        "1. First, enter how many terms you want in the sequence.\n",
        "2. Then, initialize the first two terms of the sequence.\n",
        "3. Use a while loop to generate the remaining terms of the sequence.\n",
        "4. Finally, print the sequence."
      ],
      "metadata": {
        "id": "6BJVP9bzwLNE"
      }
    },
    {
      "cell_type": "code",
      "source": [
        "# Write code here\n",
        "# Function to generate a Fibonacci sequence\n",
        "def generate_fibonacci(n):\n",
        "    fibonacci_sequence = []\n",
        "\n",
        "    a, b = 0, 1\n",
        "    if n <= 0:\n",
        "        return []\n",
        "\n",
        "    # Add the first term to the sequence\n",
        "    fibonacci_sequence.append(a)\n",
        "\n",
        "    # Generate the sequence up to n terms\n",
        "    while len(fibonacci_sequence) < n:\n",
        "        a, b = b, a + b\n",
        "        fibonacci_sequence.append(a)\n",
        "\n",
        "    return fibonacci_sequence\n",
        "\n",
        "# Input: Number of terms in the Fibonacci sequence\n",
        "n = int(input(\"Enter the number of Fibonacci terms to generate: \"))\n",
        "\n",
        "# Generate and print the Fibonacci sequence\n",
        "result = generate_fibonacci(n)\n",
        "if result:\n",
        "    print(\"Fibonacci sequence:\")\n",
        "    print(result)\n",
        "else:\n",
        "    print(\"Invalid input. Please enter a positive integer for the number of terms.\")\n"
      ],
      "metadata": {
        "id": "sZhucS5rwLk0",
        "colab": {
          "base_uri": "https://localhost:8080/"
        },
        "outputId": "858abdf0-aad0-4241-bb84-a5b499f8405a"
      },
      "execution_count": null,
      "outputs": [
        {
          "output_type": "stream",
          "name": "stdout",
          "text": [
            "Enter the number of Fibonacci terms to generate: 4\n",
            "Fibonacci sequence:\n",
            "[0, 1, 1, 2]\n"
          ]
        }
      ]
    },
    {
      "cell_type": "markdown",
      "source": [
        "##Space and Time Complexity\n",
        "The overall space complexity is O(n), where n is the number of terms in the Fibonacci sequence, and the time complexity is O(n) due to the generation of the sequence"
      ],
      "metadata": {
        "id": "AxUGpgpxhrP7"
      }
    },
    {
      "cell_type": "code",
      "source": [],
      "metadata": {
        "id": "bnufaBskS1L5"
      },
      "execution_count": null,
      "outputs": []
    },
    {
      "cell_type": "markdown",
      "source": [
        "## **Counting the Digit**\n",
        "\n",
        "You have been given a task to write a Python program that counts the number of times a specific digit appears in a range of numbers. You need to use a for loop to iterate over the range of numbers, and a while loop to check each digit in the number."
      ],
      "metadata": {
        "id": "bxxR7TtBugpK"
      }
    },
    {
      "cell_type": "markdown",
      "source": [
        "Example:\n",
        "\n",
        "* Enter start number: 100\n",
        "* Enter end number: 150\n",
        "* Enter digit to count: 5\n",
        "* The digit 5 appears 6 times between 100 and 150.\n"
      ],
      "metadata": {
        "id": "-oo68QaIdoL6"
      }
    },
    {
      "cell_type": "markdown",
      "source": [
        "**Instructions:**\n",
        "\n",
        "1. First, input two numbers as the range (start and end) between which the program should count the occurrence of a digit.\n",
        "2. Then, input the digit that needs to be counted.\n",
        "3. Initialize a counter variable to keep track of the number of occurrences of the digit.\n",
        "4. Use a for loop to iterate over the range of numbers between the start and end values (inclusive).\n",
        "5. Within the for loop, use a while loop to check each digit in the current number. If the digit matches the digit to be counted, increment the counter variable.\n",
        "6. After the for loop completes, print the total count of the digit that was entered by the user."
      ],
      "metadata": {
        "id": "o9NtECV_c8vr"
      }
    },
    {
      "cell_type": "code",
      "source": [
        "# Write code here\n",
        "start = int(input(\"Enter the starting number :\"))\n",
        "end = int(input(\"Enter the ending number :\"))\n",
        "digit = int(input(\"Enter the digit to count :\"))\n",
        "\n",
        "count = 0\n",
        "# Iterate through the range of numbers\n",
        "for num in range(start,end+1):\n",
        "    string = str(num)\n",
        "\n",
        "    index_place = 0\n",
        "    # Use while loop to check the no. of times a digit appears\n",
        "    while index_place < len(string):\n",
        "      if string[index_place] == str(digit):\n",
        "        count += 1\n",
        "      index_place += 1\n",
        "\n",
        "print(f\"The no. of times digit {digit} occurs between {start} and {end} is \",count)\n"
      ],
      "metadata": {
        "id": "uhS0_Btxc59A",
        "colab": {
          "base_uri": "https://localhost:8080/"
        },
        "outputId": "336dd3a8-249f-4724-ed63-82195bff6722"
      },
      "execution_count": null,
      "outputs": [
        {
          "output_type": "stream",
          "name": "stdout",
          "text": [
            "Enter the starting number :100\n",
            "Enter the ending number :150\n",
            "Enter the digit to count :5\n",
            "The no. of times digit 5 occurs between 100 and 150 is  6\n"
          ]
        }
      ]
    },
    {
      "cell_type": "markdown",
      "source": [
        "## Space and time complexity\n",
        "*   In the worst case, if the range of numbers is very large, the time complexity could be influenced by the number of digits, which is O(log(num))\n",
        "*   Space Complexity O(1) - space for storing integers, variables, and constants.\n"
      ],
      "metadata": {
        "id": "jgLxFpejjARr"
      }
    },
    {
      "cell_type": "markdown",
      "source": [
        "# **Custom Functions in Python**"
      ],
      "metadata": {
        "id": "gjRKFGWFIrPu"
      }
    },
    {
      "cell_type": "markdown",
      "source": [
        "## **Building a Calculator**\n",
        "\n",
        "\n",
        "In this activity, we will create a custom function in Python to build a calculator that can perform basic arithmetic operations such as addition, subtraction, multiplication, and division."
      ],
      "metadata": {
        "id": "5oJRi3Mv1MuD"
      }
    },
    {
      "cell_type": "markdown",
      "source": [
        "**Instructions:**\n",
        "\n",
        "1. Define a function called calculator that takes three arguments: num1, num2, and operation.\n",
        "2. In the function, use an if-else statement to determine the arithmetic operation to perform based on the value of operation.\n",
        "3. If operation is '+', return the sum of num1 and num2.\n",
        "4. If operation is '-', return the difference between num1 and num2.\n",
        "5. If operation is '*', return the product of num1 and num2.\n",
        "6. If operation is '/', return the quotient of num1 and num2.\n",
        "7. If operation is not one of the four valid arithmetic operations, return the string \"Invalid operation\".\n",
        "7. Test your function by calling it with different values for num1, num2, and operation."
      ],
      "metadata": {
        "id": "K8ncM2pa1Ttz"
      }
    },
    {
      "cell_type": "markdown",
      "source": [
        "**💻 Code:**"
      ],
      "metadata": {
        "id": "etkfY4lA8iRg"
      }
    },
    {
      "cell_type": "code",
      "execution_count": null,
      "metadata": {
        "id": "L5nnlASM1JfV"
      },
      "outputs": [],
      "source": [
        "# Define a function called calculator that takes three arguments: num1, num2, and operation\n",
        "def cal_for_arth_operations(num1, num2, operation):\n",
        "\n",
        "    # if else conditional statement to check the operation type\n",
        "    if operation == 'sum':\n",
        "      return num1 + num2\n",
        "    elif operation == 'difference':\n",
        "      return num1 - num2\n",
        "    elif operation == 'multiply':\n",
        "      return num1 * num2\n",
        "    elif operation == 'divide':\n",
        "      return num1 / num2\n",
        "    else :\n",
        "      return \"Invalid Operation\""
      ]
    },
    {
      "cell_type": "markdown",
      "source": [
        "**🧪 Test Code:**"
      ],
      "metadata": {
        "id": "OXMHdeOH9EuG"
      }
    },
    {
      "cell_type": "code",
      "source": [
        "# Test the calculator function\n",
        "num1 = int(input(\"Enter the first number :\"))\n",
        "num2 = int(input(\"Enter the second number :\"))\n",
        "operation = input(\"Enter the type of arthimetic operation :\")\n",
        "\n",
        "# store the result\n",
        "result = cal_for_arth_operations(num1,num2,operation)\n",
        "\n",
        "# print the result\n",
        "print(result)"
      ],
      "metadata": {
        "id": "woikfzcB1j-S",
        "colab": {
          "base_uri": "https://localhost:8080/"
        },
        "outputId": "ce488322-598e-409d-d5bd-86b174511562"
      },
      "execution_count": null,
      "outputs": [
        {
          "output_type": "stream",
          "name": "stdout",
          "text": [
            "Enter the first number :7\n",
            "Enter the second number :9\n",
            "Enter the type of arthimetic operation :multiply\n",
            "63\n"
          ]
        }
      ]
    },
    {
      "cell_type": "markdown",
      "source": [
        "##Space and time complexity\n",
        "Both have the value of O(1)"
      ],
      "metadata": {
        "id": "XGUi3BiknXEP"
      }
    },
    {
      "cell_type": "markdown",
      "source": [
        "## **Dice Rolling** 🎲\n",
        "\n",
        "Roll a dice and display the result. 🎲"
      ],
      "metadata": {
        "id": "bFFQSaSN3ymq"
      }
    },
    {
      "cell_type": "markdown",
      "source": [
        "**What is the random module?**\n",
        "\n",
        "The random module is a built-in Python module that provides a suite of functions for generating random numbers and sequences. This module is often used in applications where randomization is important, such as games, simulations, and cryptography.\n",
        "\n",
        "You do not need to worry much about this as you will be learning about these modules and functions in the upcoming classes."
      ],
      "metadata": {
        "id": "dld5FXtd7AnL"
      }
    },
    {
      "cell_type": "markdown",
      "source": [
        "**Instructions:**\n",
        "\n",
        "1. The random module shoud be imported to generate a random number for the dice roll.\n",
        "2. roll_dice() is defined as a custom function that generates a random number between 1 and 6.\n",
        "3. The function returns the result of the dice roll.\n",
        "4. The result variable is assigned to the return value of the roll_dice() function.\n",
        "5. The result is printed using a formatted string."
      ],
      "metadata": {
        "id": "opLb4qu54RU7"
      }
    },
    {
      "cell_type": "code",
      "source": [
        "import random\n",
        "\n",
        "def roll_dice():\n",
        "\n",
        "    # generate a random number b/w 1 to 6\n",
        "    random_number = random.randint(1,6)\n",
        "\n",
        "    return random_number\n",
        "\n",
        "# store the return value by roll_dice function\n",
        "result = roll_dice()\n",
        "\n",
        "# print the result in a formatted string\n",
        "print(f\"The value of random number generated by roll_dice() function :\",result)\n"
      ],
      "metadata": {
        "colab": {
          "base_uri": "https://localhost:8080/"
        },
        "id": "n-6Ux-g4t6AX",
        "outputId": "a714a777-d9a8-4f0a-abf1-65045e4708c9"
      },
      "execution_count": null,
      "outputs": [
        {
          "output_type": "stream",
          "name": "stdout",
          "text": [
            "The value of random number generated by roll_dice() function : 5\n"
          ]
        }
      ]
    },
    {
      "cell_type": "markdown",
      "source": [
        "## Space and time complexity\n",
        "The overall space and time complexity of this code are both O(1)"
      ],
      "metadata": {
        "id": "GyMdygYnn9Tx"
      }
    },
    {
      "cell_type": "markdown",
      "source": [
        "## **Celsius to Fahrenheit Converter**\n",
        "\n",
        "Create a custom function that takes in a temperature in Celsius and returns the temperature in Fahrenheit.\n",
        "\n",
        "**For example**: If the input temperature is 20 degrees Celsius, the output temperature should be 68 degrees Fahrenheit.\n"
      ],
      "metadata": {
        "id": "XB3M38js4r8r"
      }
    },
    {
      "cell_type": "markdown",
      "source": [
        "**Instructions:**\n",
        "\n",
        "To create this function, you can use the formula to convert the temperature in Celsius to Fahrenheit. The formula for converting Celsius to Fahrenheit is F = (C * 9/5) + 32, where F is the temperature in Fahrenheit and C is the temperature in Celsius."
      ],
      "metadata": {
        "id": "Iz8PDswd5Of5"
      }
    },
    {
      "cell_type": "markdown",
      "source": [
        "💻 Code:"
      ],
      "metadata": {
        "id": "LVMw5sDQ8elX"
      }
    },
    {
      "cell_type": "markdown",
      "source": [
        "**🧪 Test Code:**"
      ],
      "metadata": {
        "id": "KDtKd97y9CSH"
      }
    },
    {
      "cell_type": "code",
      "source": [
        "# Define a function to convert celsius to fahrenheit\n",
        "def temperature_scale_converter(temp_in_C):\n",
        "\n",
        "    # Converting the temp in Celsius to Farenheith\n",
        "    temp_in_F = temp_in_C * (9/5) + 32\n",
        "\n",
        "    return temp_in_F"
      ],
      "metadata": {
        "id": "AG3AA-1n4p5r"
      },
      "execution_count": null,
      "outputs": []
    },
    {
      "cell_type": "code",
      "source": [
        "temp_in_C = int(input(\"Enter the temperature in Celsius :\"))\n",
        "\n",
        "# store the result\n",
        "result = temperature_scale_converter(temp_in_C)\n",
        "\n",
        "# print the result of temperature in fahrenheit scale\n",
        "print(\"The temperature in Fahrenheit Scale is :\",result)"
      ],
      "metadata": {
        "colab": {
          "base_uri": "https://localhost:8080/"
        },
        "id": "rDBZI-yowVJu",
        "outputId": "65b4dba6-909f-4910-9f1b-789f56a566df"
      },
      "execution_count": null,
      "outputs": [
        {
          "output_type": "stream",
          "name": "stdout",
          "text": [
            "Enter the temperature in Celsius :30\n",
            "The temperature in Fahrenheit Scale is : 86.0\n"
          ]
        }
      ]
    },
    {
      "cell_type": "markdown",
      "source": [
        "## Space and time complexity\n",
        "Both have the value of O(1)"
      ],
      "metadata": {
        "id": "t6gkq1MSoeG2"
      }
    },
    {
      "cell_type": "markdown",
      "source": [
        "## **Sum odd Numbers** ➖\n",
        "\n",
        "In this activity, you will create a custom function in Python that takes a list of integers as an argument and returns the sum of all odd numbers in the list."
      ],
      "metadata": {
        "id": "f38kTkX-6DR4"
      }
    },
    {
      "cell_type": "markdown",
      "source": [
        "**Instructions:**\n",
        "\n",
        "To create the sum_odd function, follow these steps:\n",
        "\n",
        "1. Define a function named sum_odd that takes one argument, lst.\n",
        "2. Inside the function, create a variable named result and set its value to 0.\n",
        "3. Use a for loop to iterate through each element in lst.\n",
        "4. For each element, check if it is odd by using the modulus operator (%). If the result not is 0, add the element to result.\n",
        "5. After the loop, return result."
      ],
      "metadata": {
        "id": "NJFkJnem6Yyq"
      }
    },
    {
      "cell_type": "markdown",
      "source": [
        "🤖 Output should be in format:\n",
        "\n",
        "If the input is [1, 2, 3, 4, 5, 6], then the output should be 9"
      ],
      "metadata": {
        "id": "Pc5U7agP6_uJ"
      }
    },
    {
      "cell_type": "markdown",
      "source": [
        "💻 Code:"
      ],
      "metadata": {
        "id": "_M8e-8p36M1J"
      }
    },
    {
      "cell_type": "code",
      "source": [
        "# define sum_odd custom function\n",
        "def sum_of_odd_numbers(list_of_integers):\n",
        "\n",
        "    sum = 0\n",
        "    # execute a for loop to iterate through the numbers in list\n",
        "    for num in list_of_integers:\n",
        "        if num %2 != 0:\n",
        "            sum += num\n",
        "\n",
        "    return sum"
      ],
      "metadata": {
        "id": "BfJMZFk75GP3"
      },
      "execution_count": null,
      "outputs": []
    },
    {
      "cell_type": "markdown",
      "source": [
        "**🧪 Test Code:**"
      ],
      "metadata": {
        "id": "6UGSjTv75-Qw"
      }
    },
    {
      "cell_type": "code",
      "source": [
        "# Enter the list\n",
        "list_of_integers = eval(input(\"Enter the list of integers :\"))\n",
        "\n",
        "# store the result\n",
        "result =  sum_of_odd_numbers(list_of_integers)\n",
        "\n",
        "# print the result\n",
        "print(\"The sum of odd numbers in the list :\",result)"
      ],
      "metadata": {
        "id": "7yyxAwOY5_fS",
        "colab": {
          "base_uri": "https://localhost:8080/"
        },
        "outputId": "c9f8c177-d3da-40dc-ac5f-0dfc0bbb6245"
      },
      "execution_count": null,
      "outputs": [
        {
          "output_type": "stream",
          "name": "stdout",
          "text": [
            "Enter the list of integers :43,57,40,50,63\n",
            "The sum of odd numbers in the list : 163\n"
          ]
        }
      ]
    },
    {
      "cell_type": "markdown",
      "source": [
        "##Space and Time Complexity\n",
        "The time complexity is O(n) because of the loop that iterates through the list, and the space complexity is O(1) because the memory usage is not dependent on the size of the lis\n",
        "\n"
      ],
      "metadata": {
        "id": "fp5qYeNOpI9m"
      }
    },
    {
      "cell_type": "markdown",
      "source": [
        "# **Advanced Looping Concepts**"
      ],
      "metadata": {
        "id": "W80MJEP4IrWl"
      }
    },
    {
      "cell_type": "markdown",
      "source": [
        "## **Lambda Functions**\n",
        "\n",
        "🧑‍💻 You are working as a Python developer for a startup company that has just received a project from a client. The client wants a program that can perform certain operations on lists using lambda functions. Your manager has assigned you the task of finding the sum of squared odd numbers from the list.\n",
        "\n",
        "👉 Hint: You have to use filter, map and reduce functions to get the task done."
      ],
      "metadata": {
        "id": "q02nU6G56Gxh"
      }
    },
    {
      "cell_type": "markdown",
      "source": [
        "**Instructions:**\n",
        "\n",
        "1. Begin by creating a list of numbers from 1 to 10.\n",
        "2. Use a lambda function to filter out all even numbers from the list.\n",
        "3. Use a lambda function to square all the remaining odd numbers in the filtered list.\n",
        "4. Use a lambda function to find the sum of all the squared odd numbers in the list.\n",
        "5. Print the final result.\n",
        "\n",
        "**The reduce(fun,seq) function is used to apply a particular function passed in its argument to all of the list elements mentioned in the sequence passed along.This function is defined in “functools” module.**\n",
        "No need to worry if you haven't used this function before. You can get some additional information about the function here: https://www.geeksforgeeks.org/reduce-in-python/"
      ],
      "metadata": {
        "id": "Lp9tch5h6Vw6"
      }
    },
    {
      "cell_type": "code",
      "execution_count": null,
      "metadata": {
        "id": "zbzwgW7357yh",
        "colab": {
          "base_uri": "https://localhost:8080/"
        },
        "outputId": "a95c2011-4114-48bd-a388-0197ec1f6465"
      },
      "outputs": [
        {
          "output_type": "stream",
          "name": "stdout",
          "text": [
            "165\n"
          ]
        }
      ],
      "source": [
        "# Import reduce from functools module\n",
        "from functools import reduce\n",
        "\n",
        "# Create a list of numbers from 1 to 10\n",
        "numbers = list(range(1, 11))\n",
        "\n",
        "# lambda function to filter the list of numbers\n",
        "odd_numbers = list(filter(lambda x : x % 2 != 0,numbers))\n",
        "\n",
        "# lambda function to square the remaining odd numbers\n",
        "squared_numbers = list(map(lambda x : x**2 ,odd_numbers))\n",
        "\n",
        "# lambda function to get the sum of the squared odd numbers\n",
        "sum_odd = reduce(lambda x, y : x + y ,squared_numbers)\n",
        "\n",
        "# print the final result\n",
        "print(sum_odd)\n"
      ]
    },
    {
      "cell_type": "markdown",
      "source": [
        "## Space an Time Complexity\n",
        "The overall space complexity is O(n), where 'n' is the number of numbers in the list, and the time complexity is also O(n) due to the various operations performed on the list"
      ],
      "metadata": {
        "id": "NsIMA2WRqAtw"
      }
    },
    {
      "cell_type": "markdown",
      "source": [
        "## **Pizza Toppings**\n",
        "\n",
        "🍕🍔 You have two lists, one containing pizza toppings and the other containing burger toppings. You need to create a new list that contains all the toppings from both the pizza and burger toppings lists, but only if they have more than 5 characters in their name.\n",
        "\n",
        "Can you write the code to create a new list that contains all the toppings from both the pizza and burger toppings lists, but only if they have more than 5 characters in their name using list comprehension only?\n",
        "\n",
        "👉 Hint: You can use a conditional statement to check the length of each topping's name."
      ],
      "metadata": {
        "id": "26lox7n97hNf"
      }
    },
    {
      "cell_type": "markdown",
      "source": [
        "**Instructions:**\n",
        "\n",
        "1. Create two lists of toppings, one for pizza and one for burgers.\n",
        "\n",
        "2. Use list comprehension to iterate over both the pizza and burger toppings lists, and combine them into a new list.\n",
        "\n",
        "3. Use a conditional statement to check the length of each topping's name, and only include it in the new list if it has more than 5 characters."
      ],
      "metadata": {
        "id": "YUua3mlb7u-2"
      }
    },
    {
      "cell_type": "code",
      "source": [
        "# Here are the example lists of toppings\n",
        "pizza_toppings = ['mushroom', 'olive', 'tomato', 'pepperoni', 'onion', 'garlic']\n",
        "burger_toppings = ['lettuce', 'cheese', 'mayonnaise', 'bacon', 'pickle', 'avocado']\n",
        "\n",
        "# Combining the toppings based on list comprehension\n",
        "toppings_combined = [toppings for toppings in pizza_toppings if len(toppings)>5] + [toppings for toppings in burger_toppings if len(toppings)>5]\n",
        "\n",
        "# printing the result\n",
        "print(\"Topping combined :\\n\",toppings_combined)\n"
      ],
      "metadata": {
        "id": "_L80Blvu6beB",
        "colab": {
          "base_uri": "https://localhost:8080/"
        },
        "outputId": "a82edd28-1071-4c59-f200-c68fd2a3053d"
      },
      "execution_count": null,
      "outputs": [
        {
          "output_type": "stream",
          "name": "stdout",
          "text": [
            "Topping combined :\n",
            " ['mushroom', 'tomato', 'pepperoni', 'garlic', 'lettuce', 'cheese', 'mayonnaise', 'pickle', 'avocado']\n"
          ]
        }
      ]
    },
    {
      "cell_type": "markdown",
      "source": [
        "## Space and Time Complexity\n",
        "The overall space complexity is O(m + n), where 'm' and 'n' are the lengths of the two lists, and the time complexity is O(m + n) because of the list comprehensions that iterate through both lists."
      ],
      "metadata": {
        "id": "WliD1G9ruzDb"
      }
    },
    {
      "cell_type": "markdown",
      "source": [
        "## **Sales Data**\n",
        "\n",
        "🌎🛍️ Suppose you work for a company that sells products in different countries. You have been given two lists: one containing the names of the countries where the company sells its products, and the other containing the sales data for each country. Your task is to create a dictionary where the keys are the country names, and the values are the corresponding sales data. However, the sales data should only include values that are greater than 1000. You are not allowed to use any loops, and must use list comprehension to solve the problem.\n",
        "\n",
        "Can you write the code to create the desired dictionary using list comprehension?\n",
        "\n",
        "👉 Hint: You can use zip function to create pairs of country and sales data from the two lists."
      ],
      "metadata": {
        "id": "RzZvjLHR75SA"
      }
    },
    {
      "cell_type": "markdown",
      "source": [
        "**Instructions:**\n",
        "\n",
        "1. Use zip function to create a list of pairs, where each pair contains a country name and its corresponding sales data.\n",
        "\n",
        "2. Use list comprehension to create a dictionary where the keys are the country names and the values are the sales data. However, only include sales data that are greater than 1000."
      ],
      "metadata": {
        "id": "xVqhKQNM8GXP"
      }
    },
    {
      "cell_type": "code",
      "source": [
        "# Here are the two lists\n",
        "countries = [\"USA\", \"Canada\", \"Mexico\", \"Brazil\", \"UK\", \"France\", \"Germany\", \"China\", \"India\"]\n",
        "sales = [2500, 300, 1200, 800, 500, 2000, 4000, 1000, 1500]\n",
        "\n",
        "# Write your code here\n",
        "sales_greater_than_1000 = {countries : sales for countries,sales in zip(countries,sales) if sales>1000}\n",
        "\n",
        "# print the countries, sales dictionary where sales > 1000\n",
        "print(sales_greater_than_1000)\n"
      ],
      "metadata": {
        "id": "ih8qq03B70j-",
        "colab": {
          "base_uri": "https://localhost:8080/"
        },
        "outputId": "28092084-8242-4f9a-d2a3-704922c8a9c3"
      },
      "execution_count": null,
      "outputs": [
        {
          "output_type": "stream",
          "name": "stdout",
          "text": [
            "{'USA': 2500, 'Mexico': 1200, 'France': 2000, 'Germany': 4000, 'India': 1500}\n"
          ]
        }
      ]
    },
    {
      "cell_type": "markdown",
      "source": [
        "##Space and time complexity\n",
        "The overall space complexity is O(n), where 'n' is the length of the lists, and the time complexity is also O(n) because of the dictionary comprehension that iterates through both lists."
      ],
      "metadata": {
        "id": "5I36cjvMxwAT"
      }
    },
    {
      "cell_type": "markdown",
      "source": [
        "## **Stock Filtering**\n",
        "\n",
        "📊📈 Suppose you are working for a company that deals with financial data. You have been given a list of dictionaries, where each dictionary contains the following information about a stock: name, ticker symbol, price, and percentage change in price. Your task is to create a new list of dictionaries, where each dictionary contains only the name and price of the stock, but only for those stocks where the price is greater than 100 and the percentage change is positive. You must use list comprehension to solve the problem.\n",
        "\n",
        "Can you write the code to create the desired list of dictionaries using list comprehension?\n",
        "\n",
        "👉 Hint: You can use conditional statements to check if the price is greater than 100 and the percentage change is positive in the list comprehension."
      ],
      "metadata": {
        "id": "sBvyWOQv8KqP"
      }
    },
    {
      "cell_type": "markdown",
      "source": [
        "**Instructions:**\n",
        "\n",
        "1. Use list comprehension to filter the stocks where the price is greater than 100 and the percentage change is positive.\n",
        "\n",
        "2. Use list comprehension to create a new list of dictionaries where each dictionary contains only the name and price of the stock."
      ],
      "metadata": {
        "id": "vaB7yY3q8ctY"
      }
    },
    {
      "cell_type": "code",
      "source": [
        "# Here is an example of the list of dictionaries\n",
        "stocks = [\n",
        "    {'name': 'Apple Inc.', 'ticker': 'AAPL', 'price': 120.0, 'change': 0.05},\n",
        "    {'name': 'Microsoft Corporation', 'ticker': 'MSFT', 'price': 95.0, 'change': -0.02},\n",
        "    {'name': 'Amazon.com, Inc.', 'ticker': 'AMZN', 'price': 250.0, 'change': 0.1},\n",
        "    {'name': 'Alphabet Inc.', 'ticker': 'GOOGL', 'price': 110.0, 'change': 0.02},\n",
        "    {'name': 'Facebook, Inc.', 'ticker': 'FB', 'price': 80.0, 'change': 0.03}\n",
        "]\n",
        "\n",
        "# Write your code here\n",
        "\n",
        "#Create a list of dictionaries where there is only the name and price.\n",
        "new_stocks= [{'name':stock['name'], 'price':stock['price']} for stock in stocks if stock['price'] > 100 and stock['change'] > 0]\n",
        "\n",
        "new_stocks\n"
      ],
      "metadata": {
        "id": "pT6d0-9M8JJ8",
        "colab": {
          "base_uri": "https://localhost:8080/"
        },
        "outputId": "1682def5-8132-43d4-ec39-c77f98798915"
      },
      "execution_count": null,
      "outputs": [
        {
          "output_type": "execute_result",
          "data": {
            "text/plain": [
              "[{'name': 'Apple Inc.', 'price': 120.0},\n",
              " {'name': 'Amazon.com, Inc.', 'price': 250.0},\n",
              " {'name': 'Alphabet Inc.', 'price': 110.0}]"
            ]
          },
          "metadata": {},
          "execution_count": 25
        }
      ]
    },
    {
      "cell_type": "markdown",
      "source": [
        "##Space and time complexity\n",
        "The overall space and time complexity of this code are both O(n), where 'n' is the length of the 'stocks' list."
      ],
      "metadata": {
        "id": "wpxUBjlDyHKZ"
      }
    },
    {
      "cell_type": "markdown",
      "source": [
        "## **Duplicate Songs**\n",
        "\n",
        "🎵🎶 You have a list of songs that you like to listen to, but you notice that some of the songs have duplicate names. You want to create a new set that contains the unique names of all the songs and keep the songs whose name doesn't start with \"S\" and doesn't end with \"n\" in your list using set comprehension.\n",
        "\n",
        "Can you write the code to create a new set that contains the unique names of all the songs in your list using set comprehension only?\n",
        "\n",
        "👉 Hint: Set comprehension is similar to list comprehension, but with curly braces {} instead of square brackets []."
      ],
      "metadata": {
        "id": "Gm_824J28kwx"
      }
    },
    {
      "cell_type": "markdown",
      "source": [
        "**Instructions:**\n",
        "\n",
        "1. Create a list of songs that contains duplicate names.\n",
        "\n",
        "2. Use set comprehension to iterate over the list of songs and create a new set that contains only the unique names of the songs.\n",
        "\n",
        "3. Include a condition in the set comprehension to filter out songs whose name starts with \"S\" and ends with \"n\"."
      ],
      "metadata": {
        "id": "Jqpuv0Kh8t1x"
      }
    },
    {
      "cell_type": "code",
      "source": [
        "# Here's an example list of songs\n",
        "songs = ['Bohemian Rhapsody', 'Stairway to Heaven', 'Bohemian Rhapsody', 'Hotel California', 'November Rain', 'Stairway to Heaven', 'Sweet Child O\\' Mine']\n",
        "\n",
        "# Set comprehension to filter the songs\n",
        "new_songs = {song for song in songs if song[0] != 'S' and song[-1] != 'n'}\n",
        "\n",
        "# print the new songs list\n",
        "print(new_songs)"
      ],
      "metadata": {
        "id": "1RR_E-kM8hRt",
        "colab": {
          "base_uri": "https://localhost:8080/"
        },
        "outputId": "9bae7480-a1bb-4687-fae4-dc2ffb544982"
      },
      "execution_count": null,
      "outputs": [
        {
          "output_type": "stream",
          "name": "stdout",
          "text": [
            "{'Hotel California', 'Bohemian Rhapsody'}\n"
          ]
        }
      ]
    },
    {
      "cell_type": "markdown",
      "source": [
        "##Space and Time Complexity\n",
        "The overall space and time complexity of this code are both O(n), where 'n' is the length of the 'songs' list."
      ],
      "metadata": {
        "id": "ADE44pVQydij"
      }
    },
    {
      "cell_type": "markdown",
      "source": [
        "# **OOPs in Python**"
      ],
      "metadata": {
        "id": "HC2V6Rf0Ircs"
      }
    },
    {
      "cell_type": "markdown",
      "source": [
        "## **Building a Simple Calculator** 🧮🔢\n",
        "\n",
        "\n",
        "In this activity, you will build a simple calculator program in Python using Object-Oriented Programming (OOP) concepts."
      ],
      "metadata": {
        "id": "wi0GGVc-l-iH"
      }
    },
    {
      "cell_type": "markdown",
      "source": [
        "👉 **Instructions:**\n",
        "\n",
        "1. Start by defining a class called Calculator.\n",
        "2. Define four methods within the class: add, subtract, multiply, and divide.\n",
        "3. Each method should take two arguments: num1 and num2.\n",
        "4. The add method should return the sum of num1 and num2.\n",
        "5. The subtract method should return the difference between num1 and num2.\n",
        "6. The multiply method should return the product of num1 and num2.\n",
        "7. The divide method should return the result of dividing num1 by num2. However, if num2 is zero, the method should raise a ValueError with the message \"Cannot divide by zero\"."
      ],
      "metadata": {
        "id": "QvuzAZb-m8EG"
      }
    },
    {
      "cell_type": "code",
      "source": [
        "# Define a simple calculator class\n",
        "class Calculator():\n",
        "  def add(self,num1,num2):\n",
        "    return num1 + num2\n",
        "\n",
        "  def subtract(self,num1,num2):\n",
        "    return num1 - num2\n",
        "\n",
        "  def multiply(self,num1,num2):\n",
        "    return num1 * num2\n",
        "\n",
        "  def divide(self,num1,num2):\n",
        "    if num2 == 0:\n",
        "      raise ValueError(\"Cannot divide by zero\")\n",
        "    return num1 / num2"
      ],
      "metadata": {
        "id": "zphxebyom5IQ"
      },
      "execution_count": null,
      "outputs": []
    },
    {
      "cell_type": "code",
      "source": [
        "# Create an instance\n",
        "calculator = Calculator()\n",
        "\n",
        "# Example\n",
        "result_add = calculator.add(10,4)\n",
        "result_subtract = calculator.subtract(8,6)\n",
        "result_multiply = calculator.multiply(5,6)\n",
        "result_divide = calculator.divide(10,2)\n",
        "\n",
        "# print the results\n",
        "print(\"Result addition\",result_add)\n",
        "print(\"Result subtraction\",result_subtract)\n",
        "print(\"Result division\",result_divide)\n",
        "print(\"Result multplication\",result_multiply)\n"
      ],
      "metadata": {
        "id": "rKnQSAlpsdx0",
        "colab": {
          "base_uri": "https://localhost:8080/"
        },
        "outputId": "10cd30b9-c5b2-4f52-fd3f-e2ff376eb412"
      },
      "execution_count": null,
      "outputs": [
        {
          "output_type": "stream",
          "name": "stdout",
          "text": [
            "Result addition 14\n",
            "Result subtraction 2\n",
            "Result division 5.0\n",
            "Result multplication 30\n"
          ]
        }
      ]
    },
    {
      "cell_type": "markdown",
      "source": [
        "##Space an Time complexity\n",
        "The overall space and time complexity of this code are both O(1)"
      ],
      "metadata": {
        "id": "k3UwPBN5y6HE"
      }
    },
    {
      "cell_type": "markdown",
      "source": [
        "## 🏀**Basketball Game Score Tracker**📈\n",
        "\n",
        "Create a class that will keep track of the score of a basketball game. The class should have methods for updating the score and printing the current score."
      ],
      "metadata": {
        "id": "3IigXP8Ir4Yq"
      }
    },
    {
      "cell_type": "markdown",
      "source": [
        "👉 **Instructions:**\n",
        "\n",
        "1. Start by creating a class called \"BasketballGame\".\n",
        "2. In the class constructor, initialize the score for both teams to 0.\n",
        "3. Add methods to the class for updating the score for each team. These methods should take in a number of points and add that to the appropriate team's score.\n",
        "4. Add a method to the class for printing the current score. This method should print out the score for both teams.\n",
        "5. Test your code by creating an instance of the \"BasketballGame\" class, updating the score for each team, and printing the current score."
      ],
      "metadata": {
        "id": "klxR5WZOtXlL"
      }
    },
    {
      "cell_type": "code",
      "source": [
        "# Create BasketballGame class\n",
        "class BasketballGame():\n",
        "\n",
        "    def __init__(self):\n",
        "        self.a_team_score = 0\n",
        "        self.b_team_score = 0\n",
        "\n",
        "    def update_score_team_a(self,points):\n",
        "        self.a_team_score += points\n",
        "\n",
        "    def update_score_team_b(self,points):\n",
        "        self.b_team_score += points\n",
        "\n",
        "    def print_score(self):\n",
        "        print(f\"Team A score : {self.a_team_score},Team B score : {self.b_team_score}\")"
      ],
      "metadata": {
        "id": "op236YgFsjA7"
      },
      "execution_count": null,
      "outputs": []
    },
    {
      "cell_type": "code",
      "source": [
        "# Create an instance\n",
        "game = BasketballGame()\n",
        "\n",
        "# Update the score for each team\n",
        "game.update_score_team_a(5)\n",
        "game.update_score_team_b(6)\n",
        "game.update_score_team_b(4)\n",
        "game.update_score_team_a(3)\n",
        "\n",
        "# print the update score\n",
        "game.print_score()\n"
      ],
      "metadata": {
        "id": "KSatdMIbsuI7",
        "colab": {
          "base_uri": "https://localhost:8080/"
        },
        "outputId": "d6a20ef1-8886-4854-b5c0-2b8b942a2e63"
      },
      "execution_count": null,
      "outputs": [
        {
          "output_type": "stream",
          "name": "stdout",
          "text": [
            "Team A score : 8,Team B score : 10\n"
          ]
        }
      ]
    },
    {
      "cell_type": "markdown",
      "source": [
        "##Space an Time complexity\n",
        "The overall space and time complexity of this code are both O(1)"
      ],
      "metadata": {
        "id": "8g-IY1aCziAh"
      }
    },
    {
      "cell_type": "markdown",
      "source": [
        "## 🎨 **Paint Brush Class** 🖌️\n",
        "\n",
        "Create a Python class for a paint brush that has the following properties:\n",
        "\n",
        "* Size (small, medium, or large)\n",
        "* Color (red, blue, green, or yellow)\n",
        "* Brand (Winsor & Newton, Liquitex, or Grumbacher)\n",
        "* Type (round or flat)\n"
      ],
      "metadata": {
        "id": "VwvhqW59s8-7"
      }
    },
    {
      "cell_type": "markdown",
      "source": [
        "Now, create an instance of the PaintBrush class with the following properties:\n",
        "\n",
        "* Size: medium\n",
        "* Color: red\n",
        "* Brand: Winsor & Newton\n",
        "* Type: round\n",
        "* Call the paint() method on the instance to simulate painting with the brush."
      ],
      "metadata": {
        "id": "XA4HMkLatMrq"
      }
    },
    {
      "cell_type": "markdown",
      "source": [
        "👉 **Instructions:**\n",
        "\n",
        "1. Start by defining the class using the keyword class, followed by the name of the class (in this case, \"PaintBrush\").\n",
        "\n",
        "2. Within the class, define the __init__ method to initialize the properties of the paint brush. The method should take four parameters: size, color, brand, and brush_type. Use the self keyword to refer to the instance of the class.\n",
        "\n",
        "3. Inside the __init__ method, assign the values of the parameters to instance variables using the self keyword.\n",
        "\n",
        "4. Define a method named paint that prints out a message indicating the brush size, color, brand, and type.\n",
        "\n",
        "5. Create an instance of the PaintBrush class by calling the class with the required parameters.\n",
        "\n",
        "6. Call the paint() method on the instance to simulate painting with the brush."
      ],
      "metadata": {
        "id": "UJSmIs1DtknS"
      }
    },
    {
      "cell_type": "code",
      "source": [
        "class PaintBrush():\n",
        "\n",
        "  def __init__(self,size,color,brand,brush_type):\n",
        "      self.size = size\n",
        "      self.color = color\n",
        "      self.brand = brand\n",
        "      self.brush_type = brush_type\n",
        "\n",
        "  def paint(self):\n",
        "      print(f\"Painting with {self.size} size,{self.color} color brush from {self.brand} of {self.brush_type} type\")"
      ],
      "metadata": {
        "id": "mXnvGSZ3ADLC"
      },
      "execution_count": null,
      "outputs": []
    },
    {
      "cell_type": "code",
      "source": [
        "# Create an instance of PaintBrush Class with the specified properties\n",
        "my_brush = PaintBrush(size = 'medium', color = 'red',brand= 'Winsor & Newton',brush_type= 'round')\n",
        "\n",
        "# call in paint method to print he desired result\n",
        "my_brush.paint()"
      ],
      "metadata": {
        "colab": {
          "base_uri": "https://localhost:8080/"
        },
        "id": "eZD4hN2oB1MT",
        "outputId": "6a8c8f1d-c06c-41a8-fb18-423ae69c056c"
      },
      "execution_count": null,
      "outputs": [
        {
          "output_type": "stream",
          "name": "stdout",
          "text": [
            "Painting with medium size,red color brush from Winsor & Newton of round type\n"
          ]
        }
      ]
    },
    {
      "cell_type": "markdown",
      "source": [
        "##Space and time complexity\n",
        "Both have the value of O(1) which is constant."
      ],
      "metadata": {
        "id": "G5Qd1OWkz0G7"
      }
    },
    {
      "cell_type": "markdown",
      "source": [
        "## **Bank Account Management System** 💻🏦\n",
        "\n",
        "Create a Bank Account Management System using Object-Oriented Programming (OOPs) in Python. The system should allow users to create and manage bank accounts, deposit and withdraw funds, and view account details."
      ],
      "metadata": {
        "id": "ARKS5oEitsVt"
      }
    },
    {
      "cell_type": "markdown",
      "source": [
        "👉 **Instructions:**\n",
        "\n",
        "1. Define a BankAccount class with an init() method that takes the name, account_number, and balance as parameters and initializes the instance variables.\n",
        "\n",
        "2. Define the deposit() method that takes the amount to be deposited as a parameter and adds it to the balance. Also, print a message with the new balance.\n",
        "\n",
        "3. Define the withdraw() method that takes the amount to be withdrawn as a parameter and checks if the account has sufficient balance. If yes, deduct the amount from the balance and print a message with the new balance. If not, print a message with the current balance.\n",
        "\n",
        "4. Define the account_details() method that prints the name, account number, and balance of the account.\n",
        "\n",
        "5. Create a new instance of the BankAccount class with some initial balance.\n",
        "\n",
        "6. Test the deposit(), withdraw(), and account_details() methods of the BankAccount class by calling them on the instance created in step 5 with some test values."
      ],
      "metadata": {
        "id": "O2GDG6TUvaBF"
      }
    },
    {
      "cell_type": "code",
      "source": [
        "# Define a BankAccount class\n",
        "class BankAccount():\n",
        "\n",
        "    def __init__(self,name,account_number,balance):\n",
        "        self.name = name\n",
        "        self.account_number = account_number\n",
        "        self.balance = balance\n",
        "\n",
        "    def deposit(self,amount):\n",
        "        self.balance += amount\n",
        "        print(f\"The deposited amount is {amount} and new balance is {self.balance}\")\n",
        "\n",
        "    def withdrawal(self,amount):\n",
        "        if amount > self.balance:\n",
        "          print(\"The balance is insufficient\")\n",
        "        else :\n",
        "          self.balance -= amount\n",
        "          print(f\"The withdrawal amount is {amount} and new balance is {self.balance}\")\n",
        "\n",
        "    def account_details(self):\n",
        "        print(\"The Account holder :\",self.name)\n",
        "        print(\"Account number :\",self.account_number)\n",
        "        print(\"Balance is :\",self.balance)"
      ],
      "metadata": {
        "id": "J3WL7qYjvIml"
      },
      "execution_count": null,
      "outputs": []
    },
    {
      "cell_type": "code",
      "source": [
        "# Create an instance of the class\n",
        "account = BankAccount(name='Gyanendra Porwal',account_number = 3206131315,balance=1000)\n",
        "\n",
        "# Steps to deposit and withdraw the amount\n",
        "account.deposit(500)\n",
        "account.withdrawal(1000)\n",
        "account.withdrawal(600)\n",
        "account.deposit(1500)\n",
        "account.withdrawal(300)"
      ],
      "metadata": {
        "id": "mihs9I58w0AB",
        "colab": {
          "base_uri": "https://localhost:8080/"
        },
        "outputId": "890da10a-0040-4bc6-bd5e-1f18b2ffd4a4"
      },
      "execution_count": null,
      "outputs": [
        {
          "output_type": "stream",
          "name": "stdout",
          "text": [
            "The deposited amount is 500 and new balance is 1500\n",
            "The withdrawal amount is 1000 and new balance is 500\n",
            "The balance is insufficient\n",
            "The deposited amount is 1500 and new balance is 2000\n",
            "The withdrawal amount is 300 and new balance is 1700\n"
          ]
        }
      ]
    },
    {
      "cell_type": "code",
      "source": [
        "# View the account details\n",
        "account.account_details()"
      ],
      "metadata": {
        "colab": {
          "base_uri": "https://localhost:8080/"
        },
        "id": "wEhgJBAvKcMP",
        "outputId": "a3dc4659-6fb2-4a8a-ae0c-56bb603c3b9e"
      },
      "execution_count": null,
      "outputs": [
        {
          "output_type": "stream",
          "name": "stdout",
          "text": [
            "The Account holder : Gyanendra Porwal\n",
            "Account number : 3206131315\n",
            "Balance is : 1700\n"
          ]
        }
      ]
    },
    {
      "cell_type": "markdown",
      "source": [
        "## Space and time complexity\n",
        "The overall space and time complexity of this code are both O(1), indicating constant space and time complexity as the input size does not affect the operations' performance."
      ],
      "metadata": {
        "id": "gcnfTu8j0W2u"
      }
    },
    {
      "cell_type": "markdown",
      "source": [
        "# **Exception Handling**"
      ],
      "metadata": {
        "id": "Ym0esuHoIriH"
      }
    },
    {
      "cell_type": "markdown",
      "source": [
        "## **Sum of first n Natural Numbers**\n",
        "\n",
        "💻 Suppose you are working on a project that requires you to write a Python program that calculates the sum of the first n natural numbers. You wrote a program to solve the problem, but the code contains several errors that prevent it from executing properly. ❌\n",
        "\n",
        "Your task is to identify and rectify the errors in the code and write the correct program. 🛠️"
      ],
      "metadata": {
        "id": "7X3Rz0V8HgfP"
      }
    },
    {
      "cell_type": "markdown",
      "source": [
        "![Sum-of-natural-numbers.png](data:image/png;base64,iVBORw0KGgoAAAANSUhEUgAAAnIAAADPCAYAAABx5TwXAAAABHNCSVQICAgIfAhkiAAAIABJREFUeJzs3Xd8E/X/wPFX0jYdlE7KaFkCZe+9h2xkCIIoqAxFRYUfKC78ggMniiioqIDIBtkgyFJZYrFsKNABFOiie680ye+PJmnKapK2tIH38/Ho49Ebudx9cp+7933WKXQ6nQ4hhBBCCGFzlGW9A0IIIYQQwjoSyAkhhBBC2CgJ5IQQQgghbJQEckIIIYQQNkoCOSGEEEIIGyWBnBBCCCGEjZJATgghhBDCRkkgJ4QQQghhoySQE0IIIYSwURLIlRgtcf+d5M2Jv9C09TxqdlnB1I0JZJfYdjSEb9lJ9w4LaPN8AKfS5YUcDzVNDpcDzvHlzPV0avMlldpv40BGWe9U6dOkJXJky7/MePFXGjWZS60JwSRKVhDi/shL4qeRX+Nd7wu8/Ofz2JoU8sp6nwT2xfu4hpvHz/HdsnP8cTyeyFQtzl4eNG5Vk779GvFEPz+qOylKZk/LM52a84vX031mGEnGmWksnPIHvfs8wzCPEthOp6789kYgh1OBy3uY0rcJh56qKJH4Q0lD6KIl1P8grmCWKp0sbdnt0X2hy2Ddkwt4JrBgln2GAruH4BJTfDoSAo7wwtvnYOJTrB/nhep+fbU6hU0fbOF/fyl47IMRfN6/YnFvPJTp8ZS5HI7MXsHzgVWZ9f1Anqlza2oWtbwY3xx6mnkHUkkEUFRiWPeS+C1FcVkfB2gy2P/BUmoN2MrH6y9z4nIKMXFpXA2+wc51/zBt4hJ6fx9PbgnubHmVFXSYkTPDSMKBAfMnsHZyTTyACh38aexSQttxtcfN0bCmHa4uSkrl/pWbzN71J1i2N4HMh7mko1yngwKPli2ZNq4xjR6mq6hCRcsJfZg1qQ6GZyMXdwfsynSnbIGOlID9dB/8J1uDEklTKu/rA2D6f/t5/qdwLoVeZd7UA/yXVdwtlu3xlD4NUUfPsWTFCX5ecYodYbkUvgQpcSSTkMATPNtvIytuaG75fFHLraXm9PKThOqnHHt15HFfK1Jem0PQjsNMenoJjVvNo2rTb2g6+DdeXxZO9MMQMJQChU6ns+I2pSVyw1rqTw4lE8CrLu9+2JEBj9gRe/oc7/3vFCFA/Xde5dwMnwf7SUmXxa4J83ns91xQ1WPbhWcY6qEjIzYDnbcrrubeZYrcjo6EgADeXnCZ9CZt+OLNRtQq8YTVkbDnNx4Ze5G0FkO4sbcN1R/Ku6SNpEN2FNPa/cy30YDKn13BYxlYsax3qvSprx6lVbu9BAFVJ7zA5S+rY8Hz0kNHmxDC+C5rWBkPboOe4MKyZviV+vmcx5WNu3l27lXUlXWcDEhEA+BUlQEt87isqcmsHwbx7COWP4mUzfHcJ7pcglZto//0ICL1s1p/NZ3/xrsXemDRZUYxq+/PfBIM9u36c35bJxqozF9uldQrPNN6BauTAZx4cv001vV2sqxAIS+NTf+3hJHrU+642LVrfwLWdaKJUzH39SFj3YOMOonV3+qDOFwYt2QUnzztT/eOdRg5sQvj/EtyF8u5nCT2ndQ/RlRwxUMFoKBCZQuCOLO2o8C7YyeWrHmGde+VRhAH5KWw8ZtLpJXCpm2KpIPNcPGQErl7y+XYV7+zMh6gKrM/bHx/gp7MSObMPM7RKwkEGoI4gOwYdgfEExp4kskfXbMij5XR8dxKk83FwHAOHg3nYEA0EdnFL7bPiQnnmxd/pKlJEHc3CpdqvPV5SyoBeYF/MnVbGhoLlltOR9yhADYn6yd9mjK1k4VBHDoS/t7N8yZBnF21KrT2dzZOpx/Zy6S1yXf6sLgH6ypmclM4EWGYcKGBr0PBD6pypUVtewg1aQKpySb06CXWbjrHb/ujSW0+kGOrmlFNqSHh0hU2bjrH6m1XCFLXZu2hkfSriL4x90VWrz/Luj9jUHcZwKIByWzYGMzBoFRyvHx5clp/3h/oyIWdJ1myMZiDQSnkePkx5q0BzBrggSPW0pJ8Poj5i06xIzCBmzl2VKlbgyFjOjJteDU89RcOdcQFPnj/ML9E6T+WdJqBzYJxVNjR8JXn+Pv1ymbtQ9Hb8Sb90lU2bT7H2u2XOZdbmzUH9emEltTLV1mz4jhLt10j2r8Pf811ZvGbf7L+qgMtH+/Fj+/Wx9deQ+Th43zx83n2n0smSWOPd3UfOvZqxtTJTah9+T9envoXay/oL0hndtGkwX7sgIpdhnHi14ZUMivXakkOucyKZf+xeEckGZ2GsfP5DJYvPcOOwEQy3HwY+EIfPn/GF3eLHyOs37YmOZoNSwJZcyCa0Kh0UjSO1GpRj+en92BiK2f9E42O1NPH7p0OS2uT9K+F57LZv5G5+1lSrEjPcpaXcyMu8fG0P9l37CY3shyo0aweE6Z24/l2Fe5wcdMSf+IMX/98lp3HE4jLU1GrpT8Tp3RjQlsX/folkZ+a0rxi+Wi4p40PY86K1PyJJi0ZXsM06inFvOrgRtu6Sn5NvHvDzdpN3Sy+RpfZ8dwqK5KZw1eyNRugEp8GTObdesWJKHM4/O4apu8wt25RgVvrlgzyPM2KpDz2fnmci8N60VRl7nILadLY8WMohlrx2mPa0tbiYvBs/l0egiGMq9B7GOdXtaK2fTYH3/qensvSAB3/brwGE8xtWC7A2kDOzpEqrkA6QDzz5pxh+I+taOisAJzov/QN4rJ02FVwQoWagHe+o9Oy9ILPV8lFo4O0AxupNfIiBZ3t0snSAag59u53dPzF5Hlt82b6bjbZh8hg5j4fxnI3DTdTTeZHXOKTZ26S8cdk5rez4qzV5XDqxw30nmXa4QCiIhM5degMC9b1569fO9LKVUHO1Qss3BZd6KkyMyWLTCAiWYO5z2hFbSftn234DztLwXOKIZ00XFywlKYfRWG8XCovMv7RUP7Vb+zG2lDem1GX7DVrafl6WKHviIlOIigwGuc+9ZkWcJK1F0wvIhpSk/OzbVJsLua1o8/j1Mc/0fobk0b4W9bReItpSqTx4+vLuGz/GrvGuFtwAlq/7azgYwwf9Ad7CpXmpxEdGU/ArqtEHHiBD5o6AFrijt4rHTI4+s53DPvVknPZ3N+oPp6Xzd3PkmBNepa/vByx4W8+NpmOiojn2B9n+ePbSfw21rOgWYc2m2PfrqX3J9cw7dwbHRlPwM5zHFj6EsuHuRBaIvmpIQtbm/s7aQhbvIoeX8RQVNMxlxa9Oby+LebXRupIOHKc/Tn5U5Xb+FHV+NnSzKuAgycvr5mE18I9vLIgnMJlLN489/VwvhpjabObMjye+0pFo6ZKLp4vYswD50r0qQcrAoErZ1gZ0o0vmtqbv9wC6uvn+TbAkJZVeGWMj+UFJblpHA9W6ycc6D2pEbUdABxp0tkTlulzU0r6XTYg7sa65xInH8YOdTdOJuzcTqPWv/LKz2GEpOuwd3GmkrcLnk5KQIl3y8aM7nN76ZRD5Vo8PbQOtz/IKPFq0YjRvU0yusKdHqM689HsnkxobjgZNdxMrUi3Jzsz5/1HmdzB8A1JLP7uGneuhb8XHfH7d9LfEMRVa84vB94kLfglfhpaAYDkA3sY8HYYCVqo0G4Apw8M5zHDk4lrQ1YdmELwsSkcnmb+iV7Udlx9avDUsLr435YHdeSm51HolnG94KZjlHaNWR/qbzq+bdlydBohux5jYAXDCkpqj3uOqzt70sAwq1EfAk5O5/qZ6dxY1cjM0jgdeVoVNbztC81zqenLo33r07Wm4XRTs2/hGcIsathq5ba1GWx7Z48+OHJixOIpxIVM5+C71fUX8pssXBSlv7nbFZEOTWjQytJz2czfyKL9LAnWpGf5y8subdrw8VfDWfH1o0xoafiGTLa9sZVfrhvCMR1xe3fymD6Ic+/Ri+1/TyFoQy86qwDSWfP6Xv5M0ZZQfrKMOiWVqOQskor4i4zJIc+iGjw1F/dFY7h1Vm3gahI4lWZezWdX0ZmUo9e4vaIsgd//0+BicUxRtsdTuhQ4eFWm+5OPsunI6/w1xafojyhV1KxtaEyWzJ6jaYWHAilqudnyuLg2kLOGzbbvwFO1rSh9tPdg4q+TCNjzAgF7n2dhZ0Mez+X8X/HG1Ryqelm1lw8zKwuYVbSfOZpPOppc8uKusWjmKhrU+ZaBc4K4lGG44tjhP3YQq75oXXBz1HNq3JHFPw5gTM1bt5//mZWft8LQ3E7RdRDbFvVj1tSeLFrYmTqGVRt34dcF/fjflO4s+KEXzfWzM8Jiuam+dbtFyI3np/fPkv9M58zYBYMY37QCrt7VmPTVMJ7QNySPXb+fZeEaFE6u1HnEHXfDtcPBiZp1vKlf15taXvZmtx8oajtO9duxaFF/xtS49ZP2tJj5CtlXnqKncZ4TfT98gYQb09j+XkemTqhDpaRoThvuhJ6VaF7HA/9WdehZvWBLdhVcqV7VqeAGrXLGz8+dGn7uVPd2MPNEcaDd7Elc3v0oTQyzWg4l5PiL/Ll2DIf2j2aYIVi9FsHVHPPSp1jb1mnIyDGci2qyXF2p5OVOl6daGs+VxJAEkrXmpIMTDSw+l837jarZW7afxWdNepa/vOzbuwMzxrfg2ee688uOiXzYUL8g7xrz1yfk95rPjWfxnHMkADjXZ+nP3RnSzJvGvTry4SD9L50SzJJT2hLLT+WCTs2NKwXlfC4epvm4NPOqnjaPxBTDOa2gdpOCtlBmV1eYKtPj0RAbdD2/TdzRcA4GxJick7lcPnGtYFlgHMkWN0hT0WPeCxz8oTsjGjqizTYnoytw9ii4B0ddTLtllIiilpspM5ofVxnqp+zp91ID69olKlXUbOJHhzbV6dC6KjVd8u+QOSHHeXN9pnH7j4697UYnimB16bLC1ZeZm6fSael+3vjiDKcMpaHaZHZ/u4E9uzuyZ3t/+noXFc4oUJlxUui0OmPet/fywAu4css69h7ueBomctWoLbxY5EWFsS5EP+FUi7FtChpzKrxq8GwHOzbt1wA3WXc4nel13MtfQ+ta7fhqUnW8VDBk+gCGANr481Szhwt5QNBu2j2eyOezuzF511tMyFPg4l5S1XV3oFQYL7YKV3ca+8C2a0BuLrnFbR9szrbt3Bi/9lUanEomXaPEu7GGq8cvsXvnRa4atqPOI09LCQyPbd65fKffCLiP+3kXxf6t7n9eVuj/AHCuzMSX/Hh/en5T8ZC/o0h8wwfvqDDWBuvXyQpjQoe5TMrfE3KTDXf0XEJDs8jr6Vj4oljq+UlJ9aEDWV8nq8jG6PaevlSz6IqtQ2uSbgol9364LOm8qvJmys9DiFlwmfT6LflwkieHFx5he6IPL8ysgeUFmGV4PNpMdk7/hYkn77QwlaWvrmCpYdKpIXsuPUU/Vwu/w0iHOtu8SFChKEgBreb2+Lio5ebsS3LAMdbE6ifdGjKtp0uJXYK0yeHMfHYfxw1xa5PufDnI6oR7aBWvmYCqIr0mD+fE+J7s/fUQs748RaC+jYsuOICnZ/sT9l1dPO6V2xRKHMy5+Wm1RbfTUiiKNbZadlQ0xj4cVXzwK9QF2oEa9V1hf/6jeMS5NHJwt4lhD5Te9fnyTT86fBaJGkgM+I8XB/3HR3168NPX3Rl03xqLFO/3sXbbdu7etKqVxE/f/cOP4y8TWuxxrO62C2aey3dx3/bTLFb8VmWQl01vVKDE098HLyLzByxNSiU5DypGxZj0AtSSlnznhNVqzLvNlXR+sq/oSg0/VZFponRVWXbBVqioXssJjue3tcpOy0MLZj58lkReVVCxWRsWLG5jnDNm1nDGWL25sj6e+0WH2qwSOR1ZqQVF1ZXrVbilzWFRy82gzWTfT5eMTRuqPtGBru4lk5K6tCi+GLuKry/rZ1T056flXWhmfS/Fh5ZVt3BNfDg/rwgn1r4SY19uSj1nT/pPHkbfMW2ZN2E5bx3KL8BN2H2GM1l16XGvaEehMO/ir9NZVRpvEY3JDUZx+4C7SjvTp5tyN0rs3SlUtHp9PBcaHOK1mYfZo+8dG7H/II/1SWbH4ccZXGTJqa3KI3jlJnpNv0i0fk6Vds15YZAj6z8MJKwkv8rcc/mO7uN+lpayyMu3FA0oFMqCG7uDAyol6DQaY9sgRedRxG5rYmabz7so0fykJXz1Bjp/nlD0qg36EnKgC/5mF/g50KhvVew2haMBYi9nkosHzkV+rrx60I7n7swqkdOpiQo3PJRUoFtHt8LtO4tabgZN1CXm/2XIPZ5MHF/NipLU22mTrzPnqRV8cFy/bbe6zN8xiknWtL0T1pWQqmNC+eLTA3zw0RH23Cx4clC6+zF9fm9j2xYyM0kv8nxUojJnL3TaQsXqpcHBpxKVDRNx8cQUalCg4eblgqbmVfyteLopI3kJkfy+I5RLvh35/fgMjsxtRXPDzseeYfbWB/d9eXk3TjP+dUNwVImpa17n+h8j+Gi0H94l/m1mnst3cH/3s7Tc/7xcuEROR1ZssrG3uWs9H3zswcHLk0qGNUKuEFLMkk7byU8KKndvQ0/9vkUGxpBQUoP8l4kyPB5lRSbs/QBdvP4v/FkeN9bYVOLTgFkFyyKKU60KZpfIZSfyt+EJr3Jjxt3ao72o5UXScHnLMf415NUm7Rhfv/jVN+qoS0wZtMwYxCkbtmXDgaeZ1kRlQ6Wm5Usxq7ozuBRXOCflpaUVdMmvUYNH9MWkCgeHgqeBjAzSDB8zuzqm9EvkHGvVo18V/URGOL+dM4nk0mPY+J+hmNqTYT3cynH39cKyzh1h9MTfGPJuKHH2rnSZOJQ/lzQwVgunJeTe3j4nJ+eBeHdndng4hiHhaNuNmX3dLAvA75AOxT6XS2M/76PylJcLxXHaDP5cc0MfRKnoPaoaroBj7br0MHSEiz/PF7tvGRxVl8P5dbt5aXUS5vSPsio/lRGlT31mjdaXoZw6yY5I287UD9rx3I05JXKZF86zU9/Zs/nkDreN61bU8iLlxPHLMkPjOAVdJjWlTrGaU+tIPRPA4z3X8UOIDlDQcOxwgvY9xsiatnI3LZ+KGcil8fvSk+wIvElw2E2ObDvEmLFH9I2z7ej+SnPq6+9Gdu5eNHDTfyzsOJ/+dp0LIdHs+y2QjeFmfJW29EvkcK7G69Nr6gO0DJa8cYA/47WQl87+L39niT5TVOjTi8kNbfDEC7/C8QQt6NREhKTq38zhRNv2+QNzKhwcCoKHS6dYcvAmQScv8e2Xpwkud931zWPv7mZ8LyfR0VzJBF1OMnt/PUPQXT5TVDoU+1wuof0sK+UpLxsavKsTY9ny2QYm7ssPxRTNuvHxoy75T/gVavDO1Gr6T+Sw/cUljPj0JFv+DGXT8r94+tGvafZaAIcTLAwKishP5rGj0YwpBaU59/r7x5JqVT2FI13fHsiwioAugg/nXeUeY/SWfw/a8dyRDnVRT9HqJH59/3h+288aHfh+vHfhB7+ilpsh/VQgy67rJ5zqMX1gxWJ17tNEnubxgbvZlWiYo+PS6i00qvEhikofGP/83i3qvRbiVla9azX7/D4a9vyHa3ffLI0mjObPzxqa9LLK5d93v6fz4nuN7qbA19+XgXNG88qpbYxfH8U5kzp+/1b+vDcRvp8fSuAVQzWnM3Vb+DNzqhO/fH6Rf0PT9O3cnHikUTXGLBzDxy0tuPrlpbJ5xjKeMHa3VuCo1JGjz1fKhh3Zta0f/b0VxO3ZzmMfXOFsaAr5fd/sqenvTb1hw/j9HV8z227oityO7uR+Bk0N4vSlJH2jUwW+/lVo/ezjfOX9L+PnhxEQZkgPRx6p747vo0PY83F+z7C0A+upOvKi/kajwNlJR5Z+rEnnroM481t7/FVAdiTT2i3Of3enqcrtCDjxGB2KPCA1p75cx7jbfrf6zP3cj5Vv/MP+80mkGo/Bj8GfPcNPPc15sZ6V2+6Uwkd9FvH+Rf1HvNyolJpKfKG6LxfqNfHjhUWjebuxvRnpYMm5/DTvJexjTBG/ETk3LdjPUYy9tIPhX90gOCRZXwKuxM+/Ms3HjGDzlMoUnaLF+a3KNi+bvmsVlNgrtIXGV1P4t2XT5kEMr2bynJqbxLIXlzDx97uMxOdQhalrnuH/YvcztqTyU7mhI27vdlqOOUUUzoxa9iprhzhyttTyamkrB8eTfpnhDUvyzQ6mcjk8ZT7d1+Yfx+3vWs3j0ve/0vT9CDSKKsza9zwftjStlixquRl0WfzxwjcM2pZ/R/J44lnCf6xLcfo55IYdpkXHP7lUxHq+kyYR+Zmf9V/0ELKqRM6pUVe2Lu3Ni/38qOtVcHrZu3nQbkAHFm6exsm5DW/pKq+i4+xnWTGhJjVUAHZUbuTPKx8N4x3joFQ6okIjCUrUkBpumiEBMgg9FUtkdKzJhR8gi8tnbhIRG8cx44UfIJurF6MIS7MwTrV3Y8TXLxO0uDujWrvjio4crRL3WjUZ++7TBO/rT3/v/GRTx8cSaAy+APK4HnqT45dzLKpaKWo7mtQEAo1BHOSnUwwnb+SSevWGyU0HIIerIbH8F5Zt3Afnhm2YPbYuzao4APk3Hdfqfoya8SSn17YruOk4+TLrx54MqKX/4RxdafpoW75a0IlmZl3vdKTd8XeLIzY1hdPGC6nhGCIIStKaWc1m5bYdq/DOuqd5p08lvO2BlDx8urbhq5VjmFnXsH4mYUFRXDGMfVhkOlh2LqeZ8Rth0X5qyYm5yXFjEAegJTI0hpPXzH0LR3F+q/KUl/VBnL0TtVs1YMpnzxF+4LHCQRyAypMJS18l4JtODG5aUR/o2lHJ/xGee2skJ4Je4ttezmSWZH4qNxT49BvMP4tb09Q5l+BLmeSVal4tbeXgeFzrsiXCUFr6WgkGcfnu2UZOl8e1synYVa7Dh9vH8cGtQVpRy82gjb/M/D8Md6SKjHmhRrGCOFG6rCqRE0IIIYQQZa+0hhYVQgghhBClTAI5IYQQQggbJYGcEEIIIYSNkkBOCCGEEMJGSSAnhBBCCGGjJJATQgghhLBREsgJIYQQQtgoCeSEEEIIIWyUBHJCCCGEEDZKAjkhhBBCCBslgZwQQgghhI2SQE4IIYQQwkZJICeEEEIIYaMkkBNCCCGEsFESyAkhhBBC2CgJ5IQQQgghbJQEckIIIYQQNkoCOSGEEEIIGyWBnBBCCCGEjZJATgghhBDCRkkgJ4QQQghhoySQE0IIIYSwURLICSGEEELYKAnkhBBCCCFslH1Z78ADQ5PD5cAQNm+/wOY91wm1q8/Gv4fRs0JZ75gQQgghHlRWBXJpBzbRfFIYKbqi163QdgD/rm5BdTtrvslWaAhdtIT6H8QVzFKlk6Utuz0SQgghxIPPqkBOl5dDbFIWmWasmxSTg8aMgM+2KfBo2ZJp4yLZs/oCF/PKen+EEEII8TCwqo2cW58xZES9xmf1DXMcGbXmdRLD3tb/TWfrYMeS28tyT4lP1y7M/6Qr/XzKel+EEEII8bCwvo2cQoFSYZzA0dUJTw+VftqJTiMeoeY/19BWdcROcZdtCCGEEEIIq5V8Z4fsKN4euJrFSTVYHPAWT3grgCx+n/gTzx3KKbSqU+NOfNE4iDc2pmKsjXSpzoI9T/NMtfzCQk1yNBuWBLLmQDShUemkaByp1aIez0/vwcRWzgVFipocLgdcZPX6s6z7MwZ1lwEsGpDMho3BHAxKJcfLlyen9ef9gY5c2HmSJRuDORiUQo6XH2PeGsCsAR4UlCHqSLt6hVXLAvl5y3VS2/fn+16xLN90hcAr2bjWr8OE6b14pbMrDhYljpb4E2f4+uez7DyeQFyeilot/Zk4pRsT2rqY/BgaIg8f54ufz7P/XDJJGnu8q/vQsVczpk5uSvOK5kfG6sgLvPna3/ye6MnYj4Yxu0cFHujmikIIIcRDpOQDudx0zlzKIEmdTrrGMFOBQqcmKTmr0KoueQoUOg2JyVkYV9XoQB+nZAUfY/igP9iTYvqpNKIj4wnYdZWIAy/wQVMHQM2xd7+j4y9pBatt3kzfzSYfiwxm7vNhLHfTcDPVZH7EJT555iYZf0xmfjsVkMfZuUtoPTemYJ+2bWHgNtNtnWDa3xf4e8GL/DbGExVm0GZz7Nu19P7kGhkms6Mj4wnYeY4DS19i+bCK2KPhyoq1tHw9DJOjISY6iaDAaJz7NGRha3PDxxwOzN7Gt4dzgDg+euUgg04MooOTmR8XQgghRLlW4uPIadLTiFffOteJx5a9ifrcEwx1NcxzYfj/tebJ/+vOYxUBFLT932Qyrz7DM1WVoM1g2zt79EGcEyMWTyEuZDoH362ujz5vsnBRlD4oUuLVohGje/sUBFUKd3qM6sxHs3syobkhXtVwM7Ui3Z7szJz3H2VyB0MZXBKLv7tGfryoQ6NTUauyaXimwLd1fZ4e1YgOlQzzstj2xlaWXTena6qOuL07eUwfxLn36MX2v6cQtKEXnVUA6ax5fS9/pugg7RqzPtQHcb5t2XJ0GiG7HmOgVcOY6MjJ1BRM5uaSKz1phRBCiAdGCQVy2awZ/x21Ws7nkT67OXGXteyrNWHBnEf0VZiZrH5lI+Oe2872NHDqMoh1r1TB2bCyTkNGjqG7q5osV1cqebnT5amWNNfPTQxJIFkLYIf/2EGs/LwV/vpliq6D2LaoH7Om9mTRws7UMWy3cRd+XdCP/03pzoIfehm3lREWy001gAOt3p7IpZ09aWL4TJthHN89hjWLRnP02ASm1zLs1jW+WBFL4QrjO8iNZ/GccyQAONdn6c/dGdLMm8a9OvLhIH0wmRLMklO5qOOiOW0ogfSsRPM6Hvi3qkPP6kV9yZ040fv9foyorcLevQoTPutJBxdrtiOEEEKI8qjEqla1ialcTyxqLSW1Rj/Gpyu+541TOki5yrrTgGsDFi9qQ13TQjA7N8avfZUGp5JJ1yjxbqzh6vFL7N55kauGddR55Gm5Yziq0+owhIH2Xh54AVduWcfewx1Pw0SuGvXdhkkx6dihdK/J2/+rw3eTrqAGru4LJ/KdqtS5R0qqo8LkyJDFAAAgAElEQVRYG6yfyApjQoe5TMrfS3KTDWFgLqGhWeiaulPNHi7kAUG7afd4Ip/P7sbkXW8xIU+Bi7tlrfKcG7Zn0/H2Fn1GCCGEELahhErkVAz54WWCj00h+K/hDPcCHOzu3KheVYnJ3/SgscmsDh8O4mnf23fFzt2bVrV0XNj1D2Pbz6XOgHW8svAySebsklZLkbWICgVmdRtQmq6nwLNJ7YISvvhE4ooYNy43KobIgh0jLTmLpOQskpKzC7WX02p0KL3r8+WbfsZOFIkB//HioHk0fukYgTkqKsi7OIQQQgihV0JhgRL36l7Ur6sCvNkc0gIATVYW8Qk67F2d8XAsCIWcqtekkw9c0L8I4diS0wQ91YPmhYaeyyN45SZ6Tb9ItH5OlXbNeWGQI+s/DCSsqF3SFZTIFZtCWSjgUzqqCtriKRVFRsM6jcbYK1fReRSx25pQ6R4RZKvXx3OhwSFem3mYPVH58yL2H+SxPsnsOPw4g71lPBchhBBClEJnhwK5HJ7+LT4N5tJtaRLG/g/aTPZ+sIWlJm+z4uIBnl8ST67JrLwbpxn/uiGIq8TUNa9z/Y8RfDTaD29zvl6nRVtSkZyicLCWGxNrDC6p7EPVImo7Hbw8MfSR0IVcISTr7uvmJUTy+45QLvl25PfjMzgytxXNDVFj7Blmb01BXhwhhBBCCCjNQE6TTUho9i0ztdzc/QdjV6YBXkya1RxfAHQc/3gHS64V9LDMDg/ngiEQa9uNmX3dzBvmw/hVJVgihwKFoRBMl8N/64KJ1082GlybKkUMzOZYuy49vPQT8ef5YncaGtMVdDmcX7ebl1YnkXruCKMn/saQd0OJs3ely8Sh/LmkAYY+CmkJuYU/WwR11CVmjFpEw0fXMedIpkWfFUIIIUT5VnqBXG4qp6MLz9JEB/Hyq/m9N5u9NYpvXhvAkif1IYr6GjNmnOOGvrjJ3t0ND8MHo6O5kgm6nGT2/nqGIHO+X1uCJXLaPNRaIC+TwGVbeWqlvmWbawM+GONVdIBZoQbvTK2mn8hh+4tLGPHpSbb8Gcqm5X/x9KNf0+y1AA4nmLTqC7/C8QQt6NREhKTq32vrRNv2bpj/8rMcDr6/hXl/3yT47CVmv3SAE7fG1kIIIYSwWQqdTmdxuJN2ZCttxp0nNMW8Sr6mH0zgzXN/8M7vMUTrO2n6NG3Fz8uas3fsShaFFAQwLtV8Gffds3zfMZU5fRbx/kX9Ai83KqWmEl/oK12o18SPFxaNoN/OjYxbH8W5cEO9ZQX8W/nz3kT4fn4ogVcM3QqcqdvCn5lTnfjl84v8G5qm7xThxCONqjFm4Rg+bumA+upRWrXbaxI0KlBgUsrnUI031z/LZ91dsENLxOYtDP/qBsEhyfqBfJX4+Vem+ZgRbJ5SGafcJJa9uISJv5t2bzDhUIWpa8bxkWIHviMv6gM3Bc5OOrL0wZdz10Gc+a09/mYXTWax/amvGLZfXw7n0YIDZ4fTQ4YgEUIIIR4IVpXIadNTCDMziMv/QB7hZwqCOIC48zFEpWdwPqRw39LM6ChO3dSgc6zCO+ue5p0+lfC2B1Ly8Onahq9WjmFmXePahAVFcSVDS1q4aRAHkEHoqVgio2NNgjiALC6fuUlEbBzHjEEcQDZXL0YRlnanuFYJ+iDOuXIV+j/Xn72Bz/NFdxd9z1wdOTE3OW4M4gC0RIbGcPJabv53qDyZsPRVAr7pxOCmFcl/uYIdlfwf4bm3RnIi6CW+7eVChYZtmD22Ls2qOAD5QZxrdT9GzXiS02vbWRDEATjRe1ZfhtSwA5dKjJ3Tg44SxAkhhBAPDKtK5B4GpiVynqMncOP7Wlj1cgUhhBBCiFJSir1WHxwZFnYwEEIIIYS4HySQM0NuWg65Um4phBBCiHJGArnb5HH26195pLtJR4djG/H1X8jorWlSMieEEEKIckMCudtoSbseS+Qtg/aqkxMIjtOU4Nh0QgghhBDFI50dhBBCCCFs1EP2CnYNFxcup/e3cdxtXFyPPqM482MdKt7X/RJCCCGEsNxDFshpyYhJJjr57i87TYlVo73rUiGEEEKI8uOhayOnzpLuCkIIIYR4MFhZIqclOeQyK5b9x+IdkWR0GsbO5zNYvvQMOwITyXDzYeALffj8GV/cy1WoqCM3W1/e5taEjXv70d658BpKpwq43f8dE0IIIYSwmBWBXB6nPv6J1t/EFczaso7GW0z7TKTx4+vLuGz/GrvGuFv4JRrCFq+ixxcx3L0CNJ9Li94cXt+WR8z+Al1BiVyVqjSt5U4NB4t2TgghhBCi3LAikNORp1VRw9ueGwl5xnkuNX3p2MCV3OAwjlzXAmr2LTxD2MjuNLTo/aCgTkkl6h7t2AySYnLIs7DPba4hkHNUs2vOesbtieR6jopaLfx5YVp3xrdy1r8/VQghhBCifLMikHOg3exJXH624F2ktBxKyN7W+ClBlxjM8JZr2ZYJXIvgag4WB3Klx6Rq9fwhXj9fsCQ6Ip6AnUEc/GUSvwyt+LD1AhFCCCGEDSqZeEWpMPaaULi609gHtl0DcnOteLWVkupDB7K+TlaRb1Gw9/SlmiVHoNOQpTbZIW8/BndzJ/NsMH9d0QCprJyyk8e7jGaEt8LSHRdCCCGEuK9KoeBJQXFDIPuKrtTwUxU5DIjSVWXZAei0ZOXq/3esy8oDY3mmmhIyI5nReTHzIoCMYL79O4PHR7o+fF16hRBCCGFTymENopbw1Rvo/HlC0as26EvIgS74m9thQaGizaS+fByhwcHXnyFV9KGaiw+D2jkyLyIH0HH5ZAo5I11xvufGhBBCCCHK1sNV6KTOIDRRh729EqU6h2xjkZ+OvNyC8j87B2WxSxWFEEIIIUpbOSyRK0U5iaycs5/tOYCyJl69xzPRV4kuNYrfjqn1K9nTpIM7jmW4m0IIIYQQ5iiHgZwdjWZMQTejFDbtUpkRbZRsP6oF7XUmjdjA+WGexOwNZG28fh3vZrzRxVlK5IQQQghR7il0Op2F/UrVnPpyHePWR3Eu3DDWWwX8W9Vn7ud+rHzjH/afTyI1f/P4+vsx+LNn+KmnU8nuuZUyzx2kW5+/OXmnLrF2VXlryzg+6+z8kNU5CyGEEMIWWRGv6EgLNw3iADIIPRVHbGoKp41BXP66UaERBCVpsXgUklLi0qw7f/81nDf6VaGyoZOEqwcdR/Ria8DzfC5BnBBCCCFshBUlckIIIYQQojyQwichhBBCCBslgZwQQgghhI2SQE4IIYQQwkZJICeErclL4qeRX+Nd7wu8/Ofz2JoU8sp6n4TtkfOo9Ekai/ugmIGchpvHTzPr1ZW07TCfao3mUafLUga/to9vt0cQkS39KO5MR0LAYYb3+IHhyxPJLfoDJUOdwqb3fqVRp+XM2JNWQheUMjqWMpfDkdmLaTBwB6uu3Ckli1pejG8OPc28A6kkJmeRlOzGsO4Vy+OAkKXkQco75pDzyJZJGov7wfpzSpPB/jmrGfxdFDmm8+PSuBp8g53r/uGHd1/l3Bs+qIq9mw8SHSkB++k++B8uYE9vpVIfTWu4uHA5vb+NI/sun/ToM4ozP9ahopXfnP7ffp7/KZwU4NLUA4w4PYTOxXqhbNkdS+nTEHX0ArvCctGipFrnJgyupzIZKFqJI5mEBJ7g2X4ZaP8exXM17Ew+X9Rya6k5vfwkofopx14dedzXiucxbQ5BO//jmzXB/HMphUS1HZVq+9Lvifa8ObY21cplpn2Q8o6GmH+P8/5XgWw6Gk+CGipUr87QZ7vz6Wv1qW18tYycRyVOm82ZrQF8vSaYo8FpZNg780izOjw5oRMv9fTA6bbR4DXc/PcEHy04zd7zqWTYV6BBx8ZMmdGJ4XVV9xg8vog0tsW0Myrq+vgg3ANsh5WBnJbIzVsZZgjivOry7ocdGfCIHbGnz/He/04RApSbwePKEW1CKFPG/8MFwG3QMJaP8dD/CFoyYpKJTs6662dTYtVo77r0bvK4snE3z869irqyjnTD7IxI5oz6jsuamsz6YRDPPmL5qXD/j+U+0eUStGob/acHEamf1fqrOgyqp6LgFupA23dG8d6fP/NJ8CWef/E/OmzrRAOVucutlHqDhRvT9BNODHupLj6W3n/z0tj0f0sYuT6l0OybMckEBVxg8bb+BKzrRJPyMYa30YOTdzRcWbOBdlMvkWgyNyMigrWfrWHHv4M5taYt9VQg51EJUyez8uUlPLct3WRmOtE34ji6K5BlU8fx9/9q4WlMizzCVm6gw/Rgk98qnegbNzmw6QJvbRvPZ53uMvbovdLYFtPOwKzro43fA2yMdVWr6iRWfxtKJgAujFsyik+e9qd7xzqMnNiFcf4luYsPklyOffU7K+MBqjL7w8b4mTxcq7Pu9LqJYsqMZM7M4xy9kkBgQCLGb8iOYXdAPKGBJ5n80TXS7rWNOyqDY7mVJpuLgeEcPBrOwYDoEqnKz4kJ55sXf6SpyUXqbhQu1Xjr85ZUAvIC/2TqtjQ0Fiy3nI64QwFsTtZP+jRlaicnC18npyPh7908b3IDsatWhdb+BcVL6Uf2Mmltcjlry/Pg5J2866eY8IYhiKvAwNcHs3xuR9rpg7P0A3t551C28TlYzqOSoiV62w5eNAZxTrTq34zRPbz0N0ItZxZsZs4ZtfET6qvHGftGQRDn6OdDXTfD5m4yd+I+Dqbe6bpzrzS2xbTLZ8n18b7cAwRgbYlcbgonIgwTLjTwdSi4CKhcaVHbHkJNTkFNNqFHL7F20zl+2x9NavOBHFvVjGpKDQmXrrBx0zlWb7tCkLo2aw+NpF9FQJPD5YCLrF5/lnV/xqDuMoBFA5LZsDGYg0Gp5Hj58uS0/rw/0JELO0+yZGMwB4NSyPHyY8xbA5g1wKPcvfheGx/GnBX69140acnwQlUkOnKz9c8nbk3YuLcf7W+pulE6VcANCzm40baukl8T7/7sU7upm8VpVSbHcqusSGYOX8nWbIBKfBowmXfrFafaKYfD765h+g5zW14pcGvdkkGep1mRlMfeL49zcVgvmqrMXW4hTRo7fgzF8Ixbe0xb2rpYupFs/l0eguEWUqH3MM6vakVt+2wOvvU9PZelATr+3XiN+HEeVC0n3aEenLyTR9CKfzikjxXchg5j1bv18VLkUiPgNI9uzgZyOX4kiZw+1cgvkJHzqGTkcmJjuLGqr8q4MRyaVxNXTSp9Bs9nUqAOSGHbrkQ+a1UFR9Sc+vkf/tP//M69Hid4bUuqZ4YzteuvfBcFxJ1mzp5e9BhVsXCpyD3T2BbTDiy7Pt6ne4AArA3k7Byp4gr5dQ3xzJtzhuE/tqKhswJwov/SN4jL0mFXwQkVagLe+Y5Oy0yKsqvkotFB2oGN1Bp5kQzjgnSydABqjr37HR1/MXnW3byZvptN9iEymLnPh7HcTcPNVJP5EZf45JmbZPwxmfntLL3SaQhbvIoeX8Rw9wLhfC4tenN4fVvMr1XRkXDkOPv1DQort/Gjqn3h5cYnmCpVaVrLnRoOt27DCg6evLxmEl4L9/DKgnCSCy305rmvh/PVGEvbMZbRsdxXKho1VXLx/N1aeOg5V6JPPVgRCFw5w8qQbnzR1N785RZQXz/PtwGGp/8qvDLGx/KHldw0jgcbShwc6D2pEbUdABxp0tkTlunzXEo6aRosuIlI3jFLbiJbtycZvoBeT9fAS5H/f/vZ4zn2Uh46FDhV9i68XTmPbmPxeaQDn17tebWWBrCj/tNVqABg50Td6ioIzD/BstLy8qv8chPZvtdwD1IxaHJDatgDbjV4+RlvvpubAGg5uimKlFEN8DT5qnumsS2m3W2Kuj4+CPcA22Hdz+jkw9ih7iz8Of+ZImHndhq1PsPk6d2YNqYu9V2dqWR8+tDh3bIxo/uEs3V/bKGOEQ6Va/H00BwO7LxCWKFSWCVeLRoxuvdVtvwZl98zTeFOj5FN6N1IxdWtR1h2Ng/QcDO1It2ebEa/Rk5E7f6HRcdygCQWf3eND5b7427hoalTUom6R72+QVJMDnkW1eSpubgvGkP2rdrA9bYbQK7hxHdUs2vOesbtieR6jopaLfx5YVp3xrdyxpryJruKzqQcvXbLjQgggd//0/DDc5ZuseyOpXQpcPCqTPcn6/N/U9vTOWg11V66ce+PKFXUrO0EgdlAMnuOpvFJU8+CjFXUcrPlcXFtIGcNm23fgadqW5GC9h5M/HUSA7N1oLCnWkPD7SWX83/FG1dzqOqFl4U7KXnHDJmJ/HPdMOFI7m8bafzqFS4m6rD38qH3E534+O2WtPC45e4t59FtLD6PFE50eKk/HQrN1JJ49izf/m24M9nRuL17ftCVmcR/xvpDDzo+4mBcp3orL1QkkAvkXI0hOrcBnsaTsog0tsW0Ayy9PtrmPcA2WRmPq2g/czSfnF3GewH6y2vcNRbNvMai/3kwYEpf5r/emIYVFIAd/mMHsaprAG3a7Dae3ABOjTuy+Mc6vN/lBz66arr9/M+s7HyUVu32EgQoug5i26IGuAM5vbUc7HGIKwCNu/Drgo7UsYe8oSr+0X9HRlgsN9X+uJeXpwCdmhtXCjKYi4fDLQ0UTYqizx/i9fMFS6Ij4gnYGcTBXybxy1Aruq9r80hMMba4oXYTJ8KDsgxfa7kyOxYNsUGRXEzRbzszhpvG5iy5XD5xjYOx+j1xqECL1j54WHSlUNFj3gsc1B9D1AlzmuIqcPZwAH2FTdTFNHIxvcEWtdxMmdH8uMpQkmNPv5caFGojZjalippN/Kh5y+yckOO8uT7TuP1Hx9bA07JGU6XnAco7eSkp3DS2Oknnjy0FNRV5iXHsWbydPb9fY8ufw3i8sulRynlUorQZbHjuR8bvSyPTpBChYtfezB/oipJbfytH/NwKfg/7iq64AfEAiUkk5IHx6aKoNLbZtLPk+liKeVLcxuo0VLj6MnPzVDot3c8bX5zhlOF6pE1m97cb2LO7I3u296evd1FnogKVGRcSnVZnvG7ae3ngBfmBnAl7D/eC4u1cNWqLL7RKqg8dyPo6WUU2Jrb39KWaRamnQ2uyPwolhRsX6zRkme6wtx+Du7mTeTaYv65ogFRWTtnJ411GM6LINL2FypspPw8hZsFl0uu35MNJnhxeeITtiT68MLNGfvWCRcroWLSZ7Jz+CxNP3mlhKktfXcFSw6RTQ/Zceop+ruZvvjAd6mzzGusqFAXHoNXcfn8vark5+5IccIw1sfpJt4ZM6+lSYqN5a5PDmfnsPo4brstNuvPlIFcLty95xxzanJzCwzXhycgZnejBNRbMCyJUB0Sf4cVPWtH729qFhmaQ86gwy88jU1rSYwsHcVCBQWMaUV/flkuba/pb2eFkX5D+Cgf7gptnTi45xpjGujS2rbSDIq+PpZknxW2KFwyrKtJr8nBOjO/J3l8PMevLUwTq26vpggN4erY/Yd/VxeNev5NCiYM5T4RabdFdlRUKC3te3c6+ois1/FRFfpfSVWVZ4ilUVK/lBMfzn6iz9e0wjIeu05JlaEPqWJeVB8byTDUlZEYyo/Ni5kUAGcF8+3cGj4+0NIMrqNisDQsWtzHOGTNrOGMs2kZ5OZb7RYc625wSOR1ZqQW93CrXq3BLtV9Ry82gzWTfT5eMjaOrPtGBru4lc/HTpUXxxdhVfH1ZP6OiPz8t70IzK3oKSd4xY2vGse8A7On7wwTWPemGHW0ZUi2Vum/cQAPE7TrFqc9q092kiYqcR4VZfB6ZUqhoMaYbb3RUkxwczC9/JqEjg/WvLKdKrcl808ERpYODSRprUWt0GB8h8jQFPUpVDqgMP6oVaWxzaQcUeX18IO4BtsOq31ITH87PK8KJta/E2JebUs/Zk/6Th9F3TFvmTVjOW4fyf8GE3Wc4k1WXHvfqEaVQmBfI6XRW1QJaRkv46g10/jyh6FUb9CXkQBf8za66daBR36rYbQpHA8ReziQXD4wdeRQq2kzqy8cRGhx8/RlSRX9qu/gwqJ0j8yJyAB2XT6aQM9KVYo1FWmwP0rHcnVklcjo1UeGGar8KdOvohoMly82gibrE/L8Mtw1PJo6vZkUp6u20ydeZ89QKPjiu37ZbXebvGMUka9pMSd4xi51rBZNStqo807OiPiBV4tezKU24kd/8JCmBaxk6cNEHAXIe3c7i88iEwpHW43vTGkDbjcEvLGT49vz2hz/Nv8r7axvi6eaOtxL0PR+ITdeh75lCXlp6wbAz7u546O+klqaxTaad3j2vjzaUJx8EVgXC6phQvvj0AB98dIQ9NwuicqW7H9Pn96a5YUZmJulF3guVBU8z96LTFqpesT0KKndvQ0/9I15kYAwJpmmjziA0UYe9vRKlOodsk6L6vNyCNLZzUBa71LH4yuhYlBWZsPcDdPH6v/Bnedw4YGYlPg2YVbAsojjVqvn7alaJXHYif4fp/6/cmHFNHSxbXiQNl7cc41/Dud+kHePrF79ViTrqElMGLTPeQJQN27LhwNNMa3KvkerLyoOTd5RuXjQytv/QkmPS4lynyTMZN8wOR9PropxHxZcVyXtPLaPb4F/oNmI7ayL054bSha5DKhtXy4lMJDEPFBU8aetrmJvKySjDr6MhOijJWO1qV7Mqvg758y1JY5tKu9sUcX20oTz5IChmiWYGl+IKR2p5aWkFTyo1avCIvnhY4eBQ8ASZkUGa4WNmV63ejxK50qX0qc+s0frns1Mn2RFpkhFyElk5Zz/vfLSfN9/4i52x+ct0qVH8dsxQpWJPkw7u5WJ8vAfpWO7GnBK5zAvn2anvaNZ8cofbxuMqanmRcuL4ZZmhwY2CLpOaUqdYHXh0pJ4J4PGe6/ghJL+qqOHY4QTte4yRNctvs+MH5nxz9mF4B8MPGM3P2xL1AUEewVvOcMGwXq2aNKxYcIuT86gE6PKIPHGNIwHXOXLoLCv+y8wvbNNkcHBHrHE1R199b1FHb4Yaq5My+X3NDZJ0QE4869fHGddvNcQ3v/mQ2Wlsg2l3B/e8PtpSnnwAFPOsSeP3pSfpp6lNfU+ICwrm69lHyO+Aakf3V5pTX/8UbefuRQM3OJEKhB3n099q8257ByJPXGBjuBlfpdWXyJVq+G5HoxlT0M0opc0rHOn69kCGbd3ItrQIPpx3ldHz6+KlBFwqM6KNku1HtaC9zqQRGzg/zJOYvYGsNfRI927GG12cy8cTzIN0LHekQ51VRImcOolf3z+eP8J5jQ58P/6Wsb+KWm6G9FOBLDMMV+FUj+kDKxary74m8jSPD9zN38YxPXVcWr2FRqu3FFrPd9Ikwj7zs6DKQ/KOWRQuPPpKM6rsPslNdByftYReF9rQTXedn9cZggAlnV9pTSPDySLnUclwqsSQtg4s36cG8tjz4iK6bK6J67Ur7L9oKF9zYujEmvp23Srav9yeBqsPEAzErVlN+4gG1E+8wq4Q/eoVGvD2EHfsMT+NbTLtblPE9dGW8uQDoNhtDMPX/8HQgYto2HER3Z7/iy2RAAoaTRjFumdMusdX8OO10YZR3VJZNe0XmnT+iX5TDrPP+KaSa7zSfzEv7E/l5JcraTPqMEGGRSf20b3/Vpav3UqnYX9y3DD/wkH69d/ML9t20bX/Tg4Z5l8NYEjv5fzvdEED4fLArmoTFv/UCl/g5uqNvLwzPb+HkZ0boz7pQWt9zteGXWT+vKOsPac2fJC3lvWjVwk1Ti4JD9Kx3E6HOudeJXJ5XPp5E1MDNKCowqxlvelSUWHBcnN2IYvDi89juL17PNaRPl7FSzNNVjrR5r64opx5UM63ih16s2Ss4VqYzb9r/2HuuhvGseoqDxnKymc99TUYch6VGGUFBn/cl0eNkVEGAbsvmgRx8MizI1jYp6CXqWPDTiyfUdX4Cq+wQxfZdd6wfgWe/OYxHvdRWJTGNpl2tyni+mhjedLWWRXIOTXqytalvXmxnx91vQqeOezdPGg3oAMLN0/j5NyGt3RvVtFx9rOsmFCTGioAOyo38ueVj4bxTgPDOjqiQiMJStSQGh7FuXDTgQ0zCD0VS2R0LIFXMkzmZ3H5zE0iYuM4Fppm0lsnm6sXowhLK28Vsgp8+g3mn8WtaeqcS/ClTGO7GJdm3fn7r+G80a8KlQ1F8q4edBzRi60Bz/N557u8nLnMlPGxuNZlS4ShzdxrxXw91+3u3Ssrj2tnU7CrXIcPt4/jg5a3tGsparkZtPGXmf+H4aZRkTEv1ODhvu49IHnHrgKD503iwCet6VnHMCiqPdWa1Gfa/ElcWNKSOoYiNzmPSpRj3Xbs/GcMHz9RnZrGXggqarRszLs/Teb0vPpUMb2MKBzp8NYETn3XkX71DA1yHajRtjlzN7/MquFu2PNwpnFRbYhtKk/aOIVOpytvkY4QQgghhDCDBMRCCCGEEDZKAjkhhBBCCBslgZwQQgghhI2SQE4IIYQQwkZJICeEEEIIYaMkkBNCCCGEsFESyAkhhBBC2CgJ5IQQQgghbJQEckIIIYQQNkoCOSGEEEIIGyWBnBBCCCGEjZJATgghhBDCRkkgJ4QQQghhoySQE0IIIYSwURLICSGEEELYKAnkhBBCCCFslARyQgghhBA2SgI5IYQQQggbJYGcEEIIIYSNkkBOCCGEEMJGSSAnhBBCCGGjJJATQgghhLBREsgJIYQQQtgoCeSEEEIIIWyUBHJCCCGEEDZKAjkhhBBCCBtlX9Y7ULY0RB29wK6wXLQoqda5CYPrqVDcYb2b/57gowWn2Xs+lQz7CjTo2JgpMzoxvO6d1hdCCCGEKH0KnU6nK+udKBO6XIJWbaP/9CAi9bNafzWd/8a7Y1doxTzCVm6gw/RgEm/dhrIKb20bz2ednKVoUwghhBD33UMZf+TEhPPNiz/S1CSIuxv11eOMfaMgiHP086Gum35Ce5O5E/dxMPXhjIWFEEIIUbasDOS0JIeEsuDd1TRrOpc6k4K5GHCSd7fgvpEAABbbSURBVCYto0nLedTuvoLJK6JI0ZbszpaMHA6/u4bpW24rX7sDNad+/of/9Mfh3OtxQk+8Sujp8bzmq18l7jRz9qRTLg9VCCGEEA80K9rI5XHq459o/U1cwawt62i8xbRUKo0fX1/GZfvX2DXG3cIv0RC2eBU9voghq4g1XVr05vD6tjxidUs/FY2aKrl4PvvOi3MT2b43zbjuoMkNqWEPuNXg5We8+W5uAqDl6KYoUkY1wNPa3RBCCCGEsIIVJXI68rQqanjbF5rnUtOXR/vWp2tNwybV7Ft4hrBcy79BnZJKVHIWSUX8RcbkkGdxraYCB6/KdH/yUTYdeZ2/pvjcfdXMJP4z1r160PERB/3/dlRv5YVKP5VzNYZoK45TCCGEEKI4rCjLcqDd7ElcfvYordrtJQig5VBC9rbGTwm6xGCGt1zLtkzgWgRXc6ChqohN3lcqesx7gYMA6Ig6cfdK0byUFG7mGaYc8XMriHvtK7riBsQDJCaRkAeUq+MUQgghxIOuZIYfUSqMRXsKV3ca+8C2a0BuLrkWl5gpqT50IOvrZKEpYk17T1+qFesIdKiz7/4t2twccoxTdjjZFww0onCwL0i8nFxypJGcEEIIIe6zUhhHTlHscdXsK7pSw09VZAcCpauqmAegQ519929ROjiYFLJpUWt0YDi6PA3GwjqVA6qHsv+vEEIIIcpSORwQWEv46g10/jyh6FUb9CXkQBf8HYpe9W7uVSJn5+aOtxLyI8pcYtN14JUfyOWlpWPoBoG7Ox7lMCWFEEII8WB7yMuR7l0ip6jgSVvDMCOkcjLKUAanITooyVjtalezKr7FCCaFEEIIIazxkAdy9y6Rw9GboT1c9BOZ/L7mBkk6ICee9esLhl9pNcQXD3lPlxBCCCHus3JYIWhHoxlT0M24H9+lQ511r5Z4Ktq/3J4Gqw8QDMStWU37iAbUT7zCrhD9KhUa8PYQS8fKE0IIIYQoPitK5NSc+nIlbUYdzh96BODkfnr038bWE8d5ot86vrtmWHCNV/ov4aUDdxlwt8zpUOfcu2+sY8NOLJ9RVZ9QWsIOXWTXeUOlagWe/OYxHveR4jghhBBC3H9WDQicFh7FuXDT9y5kEHoqjtjUFE6fTyLVZN2o0AiCkrSU17eR3quNHAAKRzq8NYFT33WkXz0n/UwHarRtztzNL7NquJuUxgkhhBCiTCh0Ol15jbGEEEIIIcQ9PPSdHYQQQgghbJUEckIIIYQQNkoCOSGEEEIIGyWBnBCisLwkfhr5Nd71vsDLfz6PrUkpeB2d+P/27jy8iWpv4Pg3adON7rWsFpGCpRQVAaGAsoiAIrJ4RRT0CiIKKl4R9SqKC7x6FUVceN0qO6hcWQRF2UR2q5RNKRRaoGhbaKGle2nTJO8fzVJammTSBDovv8/z8DwkczKZM+d3Jr8zc2YqGgqJ04ZH2uSyqGciZyA7aT/TnlxMl26zaRY7i9Y95zL4qY18uCaDjPNyH8XFmchN3M7w3p8wfGEeFZd7c+qiL2DFywuI7b6Q59YXualDqqTul105O15NIObO71ly/GJ73tHyenxz6n5mbSkkL7+Mc/nBDO0VdAXdma2S+PRI3/QEidMribTJ5eH6PjaUsGnGUgbPybL+qSoAzhRx4sjfrP1mJ5+89CR/Toms9ofnBZgoSNxEr8E7OYQ3/bTaOrJpA1m7DvFjWgVGtDTrEcfgNj7UfmKdgexf9zD9o/1sOFhIiXcjYuLbM+m57gyPvlh55xX/volxn6dTAKQ8vYV79t9ND/96rFBFdfc8R3XU4kspR3fv4aEBJRh/GcE/o7yqfd7Rclfp2b9wL6nmV7594xnW3IXxnrGc5LW/88FXR9iZUkCe3ourWjVnwD+68vzoVjRrkAcF9cSn+/umbZudq5uz5SVOPcfdbWUr51rcOmgTVe1rA4c/Xki/D89Q11NwQ28fwYHPWhPkUnn3cjGRM5K58juGWpK48GheeiOeO671Imf/n7z8yj6OAg324XGXkTE3lUljdnIICB40lIWjQms3gqmC5CWrGTg5mUzzW53ea82gNj5ceAisJG3xt3SbfIQ863vFnPo7my0rDvHC6jH8p7u/wtOulRxfvo6HZp5A39hEseXtkkxmjJjDMUNLpn0yiIeuVR46Db/ul4hTddTR5cURvPzzF7x5JIVxj/1Ot9XdifFxdrmLCv/m4+VF5hd+DH08mkilO7GyiBX/+pJ7lxVc8Hb26XySEw+RsHogid90J86vjs9fJg0/Pj3XN5XVTUl5iVOP8EhbQb3i1l6bqG5fGyk5nc+p/LI6SxTk6DG6XN69XPud059j6YeplAIQwMNfjuDNB9rSK7419z7Sk4fbunMT/z+p4Lf3fmDxWYCmvPpGe1rU6HXlp9P54LHP6FCtw9VFfyKJ0VNsHc63RSTRweYXxmxmPrKRrYUKs+nSTGZMTWLX8Vx2J+Zh/bsX50+zLvEsqbv3MnH6SYrsreOiVFD3mgznObw7na270tmaeMotUwWU1FET0IwX3u7IVUDl7p95enURBgXLlTNxZlsiK/PNLyM78HR3P4Vnjkzk/rKOcdUO2F7NmtCpre10UfGODYz/Or+BXQ5UQXx6rG8qq5vS8hKn7uXJtnI9bu21iTr3tb5MWZQqLe9OriVyFQXsybC8CCCmuc7WiXwCubFVjRGh4Typ2/cz/ZnFdOgwk5aj/uSUEcBAbkoqn7+5kl5d3yPipuVssByFDOUc27mf6U8von3cTNo+9gebVm7j8VEJtLtxFtf2/Zp/r86jtKKEpFXbmTD6S2I7zqL1bd/wyrr8Cy/3NhDGs2nMWGT+uxdxHRle6xJDOdtf+orJq/JqfbY2Pfu+2Mnv5hTfv+8wUvc8Ser+MTzV3FzkzH5mrC9WNgrQBdMl2n5YtOoQjK+SdaKSutdUlsnU4QvoM2QBfQavYHFGfcdTSuoIoCG4U0cGhQFUsuHdJA5XKFmukKGI7z9LxTKmbDWqC10ClK7kPL8uPIrlkN2o31DS9k5kz65/sWWs5aKCiV+Xn+Ssp4anLlBFfHqobyqPS3fHsUJXcJx6tq3qEbd220SN+9pEheWvPgXHsTxxMn8dqPEvIZpgl8u7l2vn4L18aRIIVef2zzJrxgGGf3YT7fw1gB8D507hTJkJr0Z++KAn8cU5dJ9fbPt8kwoMJijaspxr7j1MiXVBMWUmAD2/vTSH+HnVxpYrV9J/ZbVtyDzCzHFpLAw2kF1Y7f2MFN58MJuSnyYy+2al5+8NpCUsofc7p6n7BGmVgBv7sX1ZF5y/imEid0cSm8wZZuPOLWhq97M+xHbQcvhgHVfcK/JYY816fRg0sR1R3kBwFBMejGDOzFzAyK4VWRSMiCHM2c3UhTHhq/GEf7yeJz5KJ/+ChRH88/3hvDdK6bxHldT9knJQRwv/q7i9DSzaDRw/wOKjt/JOB2/nlyug/+sgHyZaRttNeGJUpPKkoKKIpCN68wsd/cbH0koH4EtcjzCYb263gmKKDNDU6aGk9E3P9M2anIxLpeUlTmtRHqc1ubmt6hG3dttElfvaZDvD1qQpHa4JIUrnzvLu5doZOb9IRg8Jsb7MXbuG2E4LeOKLNI4Wm/AO8OeqiADC/LSAloiO7Rl5e+NanU3X+BoeGNKaNrUu6msJvzGWkf2qHZQ0IfQe0YPpr/Zh7A2W1jCQXRjErff1YMZrtzGxm+UbzpEw5yQFNVfrBH1BIVn5ZZxz8C/zdDmViq6M6Dm88RSWcG4aE3iRA64GXXhjet13Gyt2PMvmSZF1r670HL9bz5OHEn+tJWq8uPqmcOu6y0+c5pTC0a9XkD8Fu07W+KEAyOWH3w0EKD7wqKfunqWgjhZaH1q2skwcyWf9rhp3KDpa7rRKDn+9mz8sq+3ajftbuTAp3TuURxaMJ3H9oyRuGMfHPSx9soKDm89ai+mahhOuMI6kb3qib4LyuPRAHDvtSo5T8GhbuRy3DtpEpfu6wpKY+er5ccYy4ru9T/OOc+j+8Hrm7iurNT1AaXl3cnEs4EPXqSN584/5vJxoPvydOcmnU0/y6Suh3DGpP7OfbU+7RhrAi7ajB7HklkQ6d15nbWwAv/bxJHzWmtd6fsL0E9XXX/WZxT12cdPNG0gGNLcMYvWnMYQA5f2MbO29jeMA7Xuy4KN4WntD5RAfdpq/oyQth2x9W0IuYVZsl0nP38dt44aAUN1Fsmgfes96lK1VHyBrT93nmSsLCsi2Hgl9aRFsW5t3UCDBwFmAvHPkVoKiYbqxkrwCS9RraBXnR3qyedtdmSammrobyEnO5HCB+btLT5Nt+XWngmN7TrI1x/xdukbc2CmSUEW/Ic7X0UaDf6gOzPdCZR0uooKwah3X0XInlZ7isyXnzC+8GfB4TK05Yk7R+tAyrgUta7xdfjSJ55eVWtd/2+gowhrKbcWqiU/c3zcB5XHpiTh20pUcp4An28rluHXUJqrc19UulR7cxrMHbUtOZZwlcW0yW+eNZ94Qy+NVlJZ3L5fXqQlsztSVT9N97iamvHOAfZYrp8Z81n34LevXxbN+zUD6RzhqGQ0+TnREk9FkPU55h4cSDlWJXDXeoSG2070VevSKD2xarh5yJ8taO86evcOa00zR3jNhrLY9Gi0OJuea0J+veyuMFeXV5gF64edtW5tG521r2PIKypXOO/CJYNIXd3P6o2MUX9eRN8aHsf3jHazJi+TRqVE0Urg61dTdWMrayfN4ZO/FFhYy98lFzLW89GvH+pT7GRCoYP0XsF/H6jQaW/2Mhtq/146WO7Mt+Ym/8VWO+WVwO57pE+C2O36N+elMfWgjSZa2iOvFu4MCFa5f+ibggb5Zk/NxqbS8xOmFlMdpTe5tK9fi1rU2afD72mSgrHoCEdGCwbeGUPrHETYfNwCFLJ60lmE9R3JPhEZ5eTerX3LoE0TficPZM6YPGxZsY9q7+9htnq9mOpLIA6+2JW1ONKH2tlujRefMiMpodDwxWKOp97PDvIMCiWrh4/C7tIE+ynaexoerr/GDpKoR6fmiSoxw8VvFgapOV/dWaHW6agN5I3qDCevPT6XBdtnCR4eP4iOdhqDrO/NRQmfrO6OmDWeU0tVYV6emul8q9utYvVxZofW0II3bNKpxAsfRcicYS9n4eYp1KkLTf3TjlhD3HGxMRVm8M3oJ7x8zvxHUls8X9uR65TPypW9Wbax7+2Ytzsal0vISpzUpjtNa3NtWLsWtC22iin1tMlJmuXzsG83iLaN5sJkWSjN5rkcCszKAkiN8+EsJw+4NRKu0vMJ6OuJSHBnOpvPFonRyvK9i9IQOtPEPY+DEofQf1YVZYxfywraqGuWuO8CBsmh627ujSKNxLpEzmVwYwSllJH3pt/R4O9dx0Zj+HN3Sk7ZOX7rVEdu/KV4r0jEAOcdKqSAUe8/wtDd68goOIUILVRFcQU6xCcKrOlBlUbHtEQQhIYRe9kdrX8l1r5tTo2mTnqx0y2W/RtwaH4xOyXInGLJSmL3ZcpgO45ExzdxwZgeM+X8x4/5FvJ5kXndwNLO/H8F4V+Y0Sd+8ZJSd5XFTHDtB4rQ2d7aVK3GrtE1Us681PnQe35//yTCga96Wu5uYU6+ASAbd7MusjHLAxLG9BZTfG4i/0vIu1NYelxJD/elU3nlrC69P38H6bFsurA1pweTZ/bjB8kZpKcUO40zr3KjUZLzg8of6aGjcqzN9zEOezN2nybW7b+yPnjSNwuhiuSWcQvZmWTqTgVPJ56ynyL1aNqX5ZZ8nqJK6a4MYu+F1TGfN/9IfYpj1AZVX8VbiNNuyjPpcVgWnR9Pn8/glzfz/xu15uINO2XKHDBxb9Ru/WvpW3M2Mua7+2YU+K4VJg+ZbD9jadl34dssDPBPXEP/ihkri85Lw0Bk5iVMPcG9bKY9bZW2iqn2tLyE1z4S3txatvpzz1S4lV1bY9qGXTlu17UrLu1k9z/CVkHLmwiNeZVGRLXOPiuJa8+lSjU5nG4GVlFBk+ZjTl1YvxRk5z9JGXse0kebxyr69fJ9pvxPaHW35RjDEeqqzlB+++ptzJqD8LMuWnbEWu+nu5vYvbV8iV3Ld6+LMaLr00EHWmm/sumFit1rPy3K03KHyM8ybb5ngoqHn+A60rldyYaLwQCLD+nzDJ0erLs20Gz2c5I13cW/LBnj6yUzi08YTZ+QkTj3DrW2lNG6dbhMV7uvyPBbP2MSL0zfx/JTNrM2pOh6YCrP472+WKQLexHULqXoah9LyblbPvVjED3P3MsDQiuvC4EzyEd5/dQdVN6B60euJG7jOPMr1CgknJhj2FAJpSbz131a81FVH5p5DLE934quM5jNyHj3weRH73CRMz3lo9Rpfbvn3nQz9bjmrizJ4Y9YJRs6OJvyi6bQJfZm9HxMfuk7oSszSLRwBzny1lK4ZMVyXd5wfj5qLNIrh33eHNIw/Wnwl1/2iHNUR0J9jwWtJVU9jj+rG/46JuHBekaPlTijet5v5f5lf+LVh8p1BduaGOWbI3M+wO9fxi/XxBCZSlq4idumqC8o1Hz+etP+0UHCJQfrmpeFEXCotL3HqIe5uK2Vx62ybqHJfBzTmns5a1uwygvEvxt/zLQeHhnF6w26+tjwxJeJ6pvT0r0pJlJZ3s3rPuUtf9hND7vyUdvGfcuu4zazKBNAQO3YE3zxY7fbyRi14aqTl2XOFLHlmHnE9PmfApO1stD7w7SRPDEzg0U2F7H13MZ1HbCfZsmjPRnoN/I6FX39H96E/k2R5/9BWBgxcybzVP3LLwLVss7x/IpG7+y3klf22CbYNgVfTOBI+v4nmQPbS5UxYW1zHHTcm9OX2R1u+7bqz8Lmm5kY0krbtMD8etJwAb8R9H9zFsMiGM+S/kutem6M6VpLyxQqeTjSApgnT5vejZ5BGwXJnNqGM7QkHsYypQ++K5/bw+u0zQ1lxA3t2n/MkPsGZuikrL3HqOe5uKwVxq6BNVLmvvYIZ8WZvOpkzU2PaYWbP2sXXf5rzCa+mvDB/AH0tN3YoLe9mLiVyfrG38N3cfjw2oAXR4bYc3Ds4lJvv6MbHK59h78x2NW739SH+1YdYNLYlUT4AXjSObcsT04fyYoyljIms1EyS8wwUpmfxZ3r15zWXkLovh8xTOew+XlLt/TKOHcgmI+cMv6UWVbt75TwnDmeRVtTQLshqiBwwmJ0JnejgX8GRlNI6H4zpcP6DxpduL4xl35x4BrSxTObSEdXlBmaunMCS4cENbMSvsroHRrMqwzJn7ileqv3k6nqxW0dTJSf/KMCrcWveWPMwr3esMY/E0XInGM8eY/ZPloN0EKMejcJDxxmVUFl8eoiyeVf1jGMnSJzWza1tBU7H7ZXQJgHX9+KXzcOZMqAJjS2XjANDib+nL98ljuPtHv4XJFBKy7uTxmQyNbRMRwghhBBCOKHBPmVLCCGEEELYJ4mcEEIIIYRKSSInhBBCCKFSksgJIYQQQqiUJHJCCCGEEColiZwQQgghhEpJIieEEEIIoVKSyAkhhBBCqJQkckIIIYQQKiWJnBBCCCGESkkiJ4QQQgihUpLICSGEEEKolCRyQgghhBAqJYmcEEIIIYRKSSInhBBCCKFSksgJIYQQQqiUJHJCCCGEEColiZwQQgghhEpJIieEEEIIoVKSyAkhhBBCqJQkckIIIYQQKiWJnBBCCCGESkkiJ4QQQgihUpLICSGEEEKolCRyQgghhBAqJYmcEEIIIYRKSSInhBBCCKFSksgJIYQQQqiUJHJCCCGEEColiZwQQgghhEpJIieEEEIIoVKSyAkhhBBCqNT/Aco30szqXUn3AAAAAElFTkSuQmCC)"
      ],
      "metadata": {
        "id": "OoDyvIuONaE4"
      }
    },
    {
      "cell_type": "markdown",
      "source": [
        "👉 **Instructions:**\n",
        "\n",
        "1. The input function returns a string, so we need to convert it to an integer using the int() function. 🔢\n",
        "2. In the range() function, we need to provide an integer value for the upper limit. So, we need to convert the input to an integer as well. 🔝\n",
        "3. We need to add 1 to the upper limit in the range() function to include the last number. ➕"
      ],
      "metadata": {
        "id": "MQ1LuqbFIMGp"
      }
    },
    {
      "cell_type": "code",
      "execution_count": null,
      "metadata": {
        "id": "VWJZF0ssHJMS",
        "colab": {
          "base_uri": "https://localhost:8080/"
        },
        "outputId": "7d1fad0f-fcd5-406a-aac2-f62c3aa90d8b"
      },
      "outputs": [
        {
          "output_type": "stream",
          "name": "stdout",
          "text": [
            "Enter a number: 7\n",
            "The sum of the first 7 natural numbers is 28\n"
          ]
        }
      ],
      "source": [
        "# Enter the number\n",
        "n = int(input(\"Enter a number: \"))\n",
        "\n",
        "# Using for loop to get the sum of first n natural numbers\n",
        "sum = 0\n",
        "for i in range(0, n+1):\n",
        "  sum = sum + i\n",
        "\n",
        "# print the result\n",
        "print(\"The sum of the first\", n, \"natural numbers is\", sum)"
      ]
    },
    {
      "cell_type": "markdown",
      "source": [
        "##Space and time complexity\n",
        "The overall space complexity is O(1), as it does not depend on the size of n. The time complexity is O(n) due to the loop that iterates from 0 to n"
      ],
      "metadata": {
        "id": "gkKL5OVh3v7a"
      }
    },
    {
      "cell_type": "markdown",
      "source": [
        "## **Average Temperature** 🌡️🌡️\n",
        "\n",
        "You have been given a task to develop a program that calculates the average temperature 🌡️ of a city 🏢 for a given week. You have written a program to solve the problem, but there seems to be some logical errors that are causing the program to output incorrect results. You are provided with two sets of weekly temperatures and need to find the average of each individual week.\n",
        "\n",
        "Your task is to identify and rectify the logical errors in the code and write the correct program."
      ],
      "metadata": {
        "id": "yLGJGYS6I3Wh"
      }
    },
    {
      "cell_type": "markdown",
      "source": [
        "👉 **Instructions:**\n",
        "\n",
        "1. The given temperature list is in celsius and we need to find the average of each individual week.\n",
        "2. While iterating through each temperature we need to initialize a variable to start from zero otherwise it can start from any garbage value.\n",
        "3. Next, find the average by dividing the sum of the temperatures by the length of the temperatures list.\n",
        "4. Print the average temperature of the each week."
      ],
      "metadata": {
        "id": "A101OEJQJ_Tq"
      }
    },
    {
      "cell_type": "code",
      "source": [
        "# Temperature data for the week 1 and week 2\n",
        "temperatures_w1 = [32, 34, 31, 30, 29, 28, 33]\n",
        "temperatures_w2 = [31, 34, 35, 28, 29]\n",
        "\n",
        "# Calculate the sum of all temperatures\n",
        "sum = 0\n",
        "for temperature in temperatures_w1:\n",
        "  sum = sum + temperature\n",
        "\n",
        "# Calculate the average temperature\n",
        "average = sum / len(temperatures_w1)\n",
        "\n",
        "# Output the result\n",
        "print(\"The average temperature of the week 1 is\", average, \"degrees Celsius.\")\n",
        "\n",
        "# Calculate the sum of all temperatures\n",
        "sum = 0\n",
        "for temperature in temperatures_w2:\n",
        "  sum = sum + temperature\n",
        "\n",
        "# Calculate the average temperature\n",
        "average = sum / len(temperatures_w2)\n",
        "\n",
        "# Output the result\n",
        "print(\"The average temperature of the week 2 is\", average, \"degrees Celsius.\")"
      ],
      "metadata": {
        "id": "g0bm4yDDI2yW",
        "colab": {
          "base_uri": "https://localhost:8080/"
        },
        "outputId": "161d575a-cf6c-4f61-88a4-66f2445d35d7"
      },
      "execution_count": null,
      "outputs": [
        {
          "output_type": "stream",
          "name": "stdout",
          "text": [
            "The average temperature of the week 1 is 31.0 degrees Celsius.\n",
            "The average temperature of the week 2 is 31.4 degrees Celsius.\n"
          ]
        }
      ]
    },
    {
      "cell_type": "markdown",
      "source": [
        "## Space and time complexity\n",
        "The overall space complexity is O(n) due to the space required for storing temperature data, and the time complexity is O(n) for each week due to the for loop that iterates through the temperatures."
      ],
      "metadata": {
        "id": "FcYVuXGl4L5I"
      }
    },
    {
      "cell_type": "markdown",
      "source": [
        "## **Handle that Error!** ❌❌\n",
        "\n",
        "You are developing a Python program that requires user input. You want to make sure that your program doesn't crash due to invalid user input or unexpected errors 🛑. You have heard about exception handling in Python and want to implement it in your program to handle errors gracefully.\n",
        "\n",
        "Your task is to implement exception handling in your program to handle invalid user input and unexpected errors."
      ],
      "metadata": {
        "id": "r04OSlnDLKj3"
      }
    },
    {
      "cell_type": "markdown",
      "source": [
        "👉 **Instructions:**\n",
        "\n",
        "1. Add a try-except block to handle any errors that may occur during runtime.\n",
        "2. In the try block, add the code that may raise an exception.\n",
        "3. In the except block, add the code to handle the exception."
      ],
      "metadata": {
        "id": "Eq2O0ac-Lsxp"
      }
    },
    {
      "cell_type": "code",
      "source": [
        "# Code without exception handling\n",
        "num1 = int(input(\"Enter the first number: \"))\n",
        "num2 = int(input(\"Enter the second number: \"))\n",
        "\n",
        "result = num1 / num2\n",
        "\n",
        "print(\"The result is: \", result)"
      ],
      "metadata": {
        "id": "1UPr7gn2KIm_",
        "colab": {
          "base_uri": "https://localhost:8080/"
        },
        "outputId": "481a13c2-f67f-4177-b3fe-035f160dec00"
      },
      "execution_count": null,
      "outputs": [
        {
          "output_type": "stream",
          "name": "stdout",
          "text": [
            "Enter the first number: 10\n",
            "Enter the second number: 5\n",
            "The result is:  2.0\n"
          ]
        }
      ]
    },
    {
      "cell_type": "code",
      "source": [
        "# Write your code here\n",
        "try :\n",
        "  num1 = int(input(\"Enter the first number: \"))\n",
        "  num2 = int(input(\"Enter the second number: \"))\n",
        "\n",
        "  result = num1 / num2\n",
        "\n",
        "  print(\"The result is: \", result)\n",
        "\n",
        "except ValueError:\n",
        "  print(\"Invalid input. Please enter the valid integers.\")\n",
        "except ZeroDivisionError:\n",
        "  print(\"Denominator can't be zero in division\")\n",
        "except Exception as e:\n",
        "  print(\"An unexpected error has occur\",str(e))"
      ],
      "metadata": {
        "id": "9X3-V505Lqor",
        "colab": {
          "base_uri": "https://localhost:8080/"
        },
        "outputId": "aff4042d-4dc9-4a75-bb4d-b6b52271dadc"
      },
      "execution_count": null,
      "outputs": [
        {
          "output_type": "stream",
          "name": "stdout",
          "text": [
            "Enter the first number: 10\n",
            "Enter the second number: 0\n",
            "Denominator can't be zero in division\n"
          ]
        }
      ]
    },
    {
      "cell_type": "markdown",
      "source": [
        "##Space and time complexity\n",
        "Overall space and time complexity of this code are both O(1) ."
      ],
      "metadata": {
        "id": "_SpwDf504jZP"
      }
    },
    {
      "cell_type": "markdown",
      "source": [
        "## **What's the time?** ⌚⌚\n",
        "\n",
        "Create a class Time which takes two inputs: hours and minutes to instantiate.\n",
        "\n",
        "* Construct a method DisplayTime() which displays the time in AM/PM formats.\n",
        "\n",
        " * For example if the input is 14 hours and 45 mins, then this method will print \"The time is 2:45 PM\".\n",
        " * If the inputted hours exceeds 23 then print the message \"The input hours should be less than 24\" and if the inputted minutes exceeds 59 then print the message \"The input minutes should be less than 60.\"\n",
        " * Also if the input is 12 hours 30 minutes, then the displayed time would be 12:30 PM\n",
        "\n",
        "* Construct a method DisplayRatio() which should display the ratio of minutes to hours.\n",
        " * For example, (8 hours and 16 mins) should display 2. Use try, except block to account for ZeroDivisionError."
      ],
      "metadata": {
        "id": "a5yhjDXAMTv6"
      }
    },
    {
      "cell_type": "markdown",
      "source": [
        "👉 **Instructions:**\n",
        "\n",
        "1. Create a class Time which takes two inputs: hours and minutes.\n",
        "2. Instantiate the values using a function.\n",
        "3. Then, define two functions for displaying the time in the format explained in the question and for displaying the ratio of hours to minutes.\n",
        "4. Use try-except block for displaying the ratio to account for Zero Division Error."
      ],
      "metadata": {
        "id": "3xJSAlfHNA8z"
      }
    },
    {
      "cell_type": "code",
      "source": [
        "# Write your code here\n",
        "class Time():\n",
        "\n",
        "    def __init__(self,hours,minutes):\n",
        "        self.hours = hours\n",
        "        self.minutes = minutes\n",
        "\n",
        "    def DisplayTime(self):\n",
        "        try:\n",
        "          if self.hours > 23:\n",
        "            print(\"Enter the hours less than 24\")\n",
        "\n",
        "          elif self.minutes > 59:\n",
        "            print(\"Enter the minutes less than 60\")\n",
        "\n",
        "          else:\n",
        "            am_pm = 'AM'\n",
        "            if self.hours>=12:\n",
        "              am_pm = 'PM'\n",
        "              if self.hours > 12:\n",
        "                self.hours -= 12\n",
        "            print(f\"The time is {self.hours}:{self.minutes} {am_pm}\")\n",
        "\n",
        "        except Exception as e:\n",
        "          print(f\"The unexcepted error occured : {str(e)}\")\n",
        "\n",
        "    def DisplayRatio(self):\n",
        "\n",
        "        try:\n",
        "          if self.hours == 0:\n",
        "            raise ZeroDivisionError(\"Cannot divide by zero\")\n",
        "\n",
        "          ratio = self.minutes/self.hours\n",
        "          print(f\"The ratio of minutes to hours is {ratio:.2f}\")\n",
        "\n",
        "        except ZeroDivisionError as e:\n",
        "          print(f\"Zero Division Error: {str(e)}\")\n",
        "\n",
        "        except Exception as e:\n",
        "            print(f\"An unexpected error occurred: {str(e)}\")"
      ],
      "metadata": {
        "id": "_xHOnmYILyor"
      },
      "execution_count": null,
      "outputs": []
    },
    {
      "cell_type": "code",
      "source": [
        "# Check for few sample inputs of hours and mins\n",
        "hour_min_list = [(23,45), (34,50), (12,34), (14,67),(19,20), (2,15), (0, 10)]\n",
        "\n",
        "for hours,minutes in hour_min_list:\n",
        "    time_obj = Time(hours,minutes)\n",
        "    time_obj.DisplayTime()\n",
        "    time_obj.DisplayRatio()\n"
      ],
      "metadata": {
        "id": "BuTerXSIMsfR",
        "colab": {
          "base_uri": "https://localhost:8080/"
        },
        "outputId": "450b7aad-e849-4b30-ac88-0257fbe5641e"
      },
      "execution_count": null,
      "outputs": [
        {
          "output_type": "stream",
          "name": "stdout",
          "text": [
            "The time is 11:45 PM\n",
            "The ratio of minutes to hours is 4.09\n",
            "Enter the hours less than 24\n",
            "The ratio of minutes to hours is 1.47\n",
            "The time is 12:34 PM\n",
            "The ratio of minutes to hours is 2.83\n",
            "Enter the minutes less than 60\n",
            "The ratio of minutes to hours is 4.79\n",
            "The time is 7:20 PM\n",
            "The ratio of minutes to hours is 2.86\n",
            "The time is 2:15 AM\n",
            "The ratio of minutes to hours is 7.50\n",
            "The time is 0:10 AM\n",
            "Zero Division Error: Cannot divide by zero\n"
          ]
        }
      ]
    },
    {
      "cell_type": "markdown",
      "source": [
        "##Space and Time Complexity\n",
        "The time complexity of each method (DisplayTime and DisplayRatio) is constant, O(1) and space complexity O(1) because of the space for storing the input values."
      ],
      "metadata": {
        "id": "Mav-3lXh5lMm"
      }
    }
  ]
}